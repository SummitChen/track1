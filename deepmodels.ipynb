{
 "cells": [
  {
   "cell_type": "code",
   "execution_count": 1,
   "metadata": {},
   "outputs": [],
   "source": [
    "import pandas as pd\n",
    "import numpy as np\n",
    "from tqdm import tqdm\n",
    "import datetime\n",
    "import time"
   ]
  },
  {
   "cell_type": "code",
   "execution_count": 2,
   "metadata": {},
   "outputs": [],
   "source": [
    "raw = pd.read_csv('data/train_samples.csv')"
   ]
  },
  {
   "cell_type": "code",
   "execution_count": 3,
   "metadata": {},
   "outputs": [],
   "source": [
    "issamples = True"
   ]
  },
  {
   "cell_type": "code",
   "execution_count": 4,
   "metadata": {},
   "outputs": [],
   "source": [
    "raw['goods_id'] = pd.factorize(raw['goods_id'])[0]"
   ]
  },
  {
   "cell_type": "code",
   "execution_count": 5,
   "metadata": {},
   "outputs": [
    {
     "data": {
      "text/plain": [
       "Index(['Unnamed: 0', 'order_detail_id', 'order_id', 'order_total_num',\n",
       "       'order_amount', 'order_total_payment', 'order_total_discount',\n",
       "       'order_pay_time', 'order_status', 'order_count', 'is_customer_rate',\n",
       "       'order_detail_status', 'order_detail_goods_num', 'order_detail_amount',\n",
       "       'order_detail_payment', 'order_detail_discount', 'customer_province',\n",
       "       'customer_city', 'member_id', 'customer_id', 'customer_gender',\n",
       "       'member_status', 'is_member_actived', 'goods_id', 'goods_class_id',\n",
       "       'goods_price', 'goods_status', 'goods_has_discount', 'goods_list_time',\n",
       "       'goods_delist_time'],\n",
       "      dtype='object')"
      ]
     },
     "execution_count": 5,
     "metadata": {},
     "output_type": "execute_result"
    }
   ],
   "source": [
    "raw.columns"
   ]
  },
  {
   "cell_type": "code",
   "execution_count": 6,
   "metadata": {},
   "outputs": [
    {
     "data": {
      "text/plain": [
       "1.0    63596\n",
       "Name: member_status, dtype: int64"
      ]
     },
     "execution_count": 6,
     "metadata": {},
     "output_type": "execute_result"
    }
   ],
   "source": [
    "raw['member_status'].value_counts()"
   ]
  },
  {
   "cell_type": "code",
   "execution_count": 7,
   "metadata": {},
   "outputs": [],
   "source": [
    "def prerpocess(raw, train='train'):\n",
    "    st = time.time()\n",
    "    data = pd.DataFrame(raw.groupby('customer_id')['customer_gender'].last().fillna(0))\n",
    "    # data = pd.DataFrame(raw.groupby('customer_id')['customer_provien'].last().fillna(0))\n",
    "    data[['goods_id_last', 'goods_status_last', 'goods_price_last', 'goods_has_discount_last', 'goods_list_time_last', 'goods_delist_time_last']] = raw.groupby('customer_id')['goods_id', 'goods_status', 'goods_price', 'goods_has_discount', 'goods_list_time', 'goods_delist_time'].last()\n",
    "    data[['order_total_num_last', 'order_amount_last',\n",
    "       'order_total_payment_last', 'order_total_discount_last', 'order_pay_time_last',\n",
    "       'order_status_last', 'order_count_last', 'is_customer_rate_last',\n",
    "       'order_detail_status_last', 'order_detail_goods_num_last', 'order_detail_amount_last',\n",
    "       'order_detail_payment_last', 'order_detail_discount_last']] = raw.groupby('customer_id')['order_total_num', 'order_amount',\n",
    "       'order_total_payment', 'order_total_discount', 'order_pay_time',\n",
    "       'order_status', 'order_count', 'is_customer_rate',\n",
    "       'order_detail_status', 'order_detail_goods_num', 'order_detail_amount',\n",
    "       'order_detail_payment', 'order_detail_discount'].last()\n",
    "    data[['good_price_std', 'good_price_mean', 'good_price_min', 'good_price_max']] = raw.groupby('customer_id')['goods_price'].agg({'good_price_std':'std', 'good_price_mean':'mean', 'good_price_min':'min', 'good_price_max':'max'})\n",
    "    data[['order_detail_payment_std', 'order_detail_payment_mean', 'order_detail_payment_min', 'order_detail_payment_max']] = raw.groupby('customer_id')['order_detail_payment'].agg({'order_detail_payment_std':'std', 'order_detail_payment_mean':'mean', 'order_detail_payment_min':'min', 'order_detail_payment_max':'max'})\n",
    "    data['count'] = raw.groupby('customer_id')['order_id'].nunique()\n",
    "    data['goods_count'] = raw.groupby('customer_id')['order_total_num'].sum()\n",
    "    data['customer_province'] = raw.groupby('customer_id')['customer_province'].last().fillna('0')\n",
    "    data['customer_city'] = raw.groupby('customer_id')['customer_city'].last().fillna('0')\n",
    "    data[['is_customer_rate_ratio','is_customer_rate_sum']] = raw.groupby('customer_id')['is_customer_rate'].agg({'is_customer_rate_ratio':np.mean,'is_customer_rate_sum':np.sum})\n",
    "    data['order_detail_count'] = raw.groupby('customer_id')['customer_id'].count()\n",
    "    data[['goods_has_discount_sum','goods_has_discount_ave']] = raw.groupby('customer_id')['goods_has_discount'].agg({'goods_has_discount_sum':np.sum,'goods_has_discount_ave':np.mean})\n",
    "    data[['order_total_payment_sum','order_total_ave_pay']] = raw.groupby('customer_id')['order_total_payment'].agg({'order_total_payment_sum':np.sum,'order_total_ave_pay':np.mean})\n",
    "    data[['order_total_num_sum', 'order_total_num_ave']] = raw.groupby('customer_id')['order_total_num'].agg({'order_total_num_sum':np.sum,'order_total_num_ave':np.mean})\n",
    "\n",
    "    \n",
    "    def time2multi(x):\n",
    "        t=datetime.datetime.strptime(x, '%Y-%m-%d %H:%M:%S')\n",
    "        return pd.Series([t.month,t.day,t.weekday(),t.hour,t.minute,t.second])\n",
    "    \n",
    "    data[['order_pay_time_last_m','order_pay_time_last_d','order_pay_time_last_week','order_pay_time_last_h','order_pay_time_last_min','order_pay_time_last_s']]=data['order_pay_time_last'].apply(time2multi)\n",
    "    #data[['order_pay_time_last_m','order_pay_time_last_d','order_pay_time_last_week','order_pay_time_last_h','order_pay_time_last_min','order_pay_time_last_s']] = raw.groupby('customer_id')['order_pay_time_last_m','order_pay_time_last_d','order_pay_time_last_week','order_pay_time_last_h','order_pay_time_last_min','order_pay_time_last_s'].last()\n",
    "    t_str='2013-01-01 00:00:00'\n",
    "    t=datetime.datetime.strptime(t_str, '%Y-%m-%d %H:%M:%S')\n",
    "    data['goods_list_time_diff'] = data['goods_list_time_last'].map(lambda x:(datetime.datetime.strptime(x, '%Y-%m-%d %H:%M:%S')-t).days/364)\n",
    "    data['goods_delist_time_diff'] = data['goods_delist_time_last'].map(lambda x:(datetime.datetime.strptime(x, '%Y-%m-%d %H:%M:%S')-t).days/364)\n",
    "    data['goods_diff'] = data['goods_delist_time_diff'] - data['goods_list_time_diff']\n",
    "    data['order_pay_time_last_diff'] = data['order_pay_time_last'].map(lambda x:(datetime.datetime.strptime(x, '%Y-%m-%d %H:%M:%S')-t).days/364)\n",
    "    \n",
    "    data = data.drop(['goods_list_time_last', 'goods_delist_time_last', 'order_pay_time_last'], axis=1)\n",
    "    data = data.fillna(0)\n",
    "    \n",
    "    ed = time.time()\n",
    "    print(ed-st)\n",
    "    \n",
    "    return data"
   ]
  },
  {
   "cell_type": "code",
   "execution_count": 8,
   "metadata": {},
   "outputs": [
    {
     "name": "stderr",
     "output_type": "stream",
     "text": [
      "C:\\ProgramData\\Anaconda3\\envs\\tf\\lib\\site-packages\\ipykernel_launcher.py:15: FutureWarning: using a dict on a Series for aggregation\n",
      "is deprecated and will be removed in a future version. Use                 named aggregation instead.\n",
      "\n",
      "    >>> grouper.agg(name_1=func_1, name_2=func_2)\n",
      "\n",
      "  from ipykernel import kernelapp as app\n",
      "C:\\ProgramData\\Anaconda3\\envs\\tf\\lib\\site-packages\\ipykernel_launcher.py:16: FutureWarning: using a dict on a Series for aggregation\n",
      "is deprecated and will be removed in a future version. Use                 named aggregation instead.\n",
      "\n",
      "    >>> grouper.agg(name_1=func_1, name_2=func_2)\n",
      "\n",
      "  app.launch_new_instance()\n",
      "C:\\ProgramData\\Anaconda3\\envs\\tf\\lib\\site-packages\\ipykernel_launcher.py:21: FutureWarning: using a dict on a Series for aggregation\n",
      "is deprecated and will be removed in a future version. Use                 named aggregation instead.\n",
      "\n",
      "    >>> grouper.agg(name_1=func_1, name_2=func_2)\n",
      "\n",
      "C:\\ProgramData\\Anaconda3\\envs\\tf\\lib\\site-packages\\ipykernel_launcher.py:23: FutureWarning: using a dict on a Series for aggregation\n",
      "is deprecated and will be removed in a future version. Use                 named aggregation instead.\n",
      "\n",
      "    >>> grouper.agg(name_1=func_1, name_2=func_2)\n",
      "\n",
      "C:\\ProgramData\\Anaconda3\\envs\\tf\\lib\\site-packages\\ipykernel_launcher.py:24: FutureWarning: using a dict on a Series for aggregation\n",
      "is deprecated and will be removed in a future version. Use                 named aggregation instead.\n",
      "\n",
      "    >>> grouper.agg(name_1=func_1, name_2=func_2)\n",
      "\n",
      "C:\\ProgramData\\Anaconda3\\envs\\tf\\lib\\site-packages\\ipykernel_launcher.py:25: FutureWarning: using a dict on a Series for aggregation\n",
      "is deprecated and will be removed in a future version. Use                 named aggregation instead.\n",
      "\n",
      "    >>> grouper.agg(name_1=func_1, name_2=func_2)\n",
      "\n"
     ]
    },
    {
     "name": "stdout",
     "output_type": "stream",
     "text": [
      "38.24474883079529\n",
      "39.52731394767761\n"
     ]
    }
   ],
   "source": [
    "train_raw = raw[raw['order_pay_time'] < '2013-07-31 23:59:59']\n",
    "train_raw = prerpocess(train_raw)\n",
    "label_raw = set(raw[raw['order_pay_time'] > '2013-07-31 23:59:59']['customer_id'].dropna())\n",
    "train_raw['labels']=train_raw.index.map(lambda x:int(x in label_raw))\n",
    "test = prerpocess(raw)\n",
    "test['labels'] = 0\n",
    "test_raw = test"
   ]
  },
  {
   "cell_type": "code",
   "execution_count": 9,
   "metadata": {},
   "outputs": [
    {
     "data": {
      "text/plain": [
       "Index(['customer_gender', 'goods_id_last', 'goods_status_last',\n",
       "       'goods_price_last', 'goods_has_discount_last', 'order_total_num_last',\n",
       "       'order_amount_last', 'order_total_payment_last',\n",
       "       'order_total_discount_last', 'order_status_last', 'order_count_last',\n",
       "       'is_customer_rate_last', 'order_detail_status_last',\n",
       "       'order_detail_goods_num_last', 'order_detail_amount_last',\n",
       "       'order_detail_payment_last', 'order_detail_discount_last',\n",
       "       'good_price_std', 'good_price_mean', 'good_price_min', 'good_price_max',\n",
       "       'order_detail_payment_std', 'order_detail_payment_mean',\n",
       "       'order_detail_payment_min', 'order_detail_payment_max', 'count',\n",
       "       'goods_count', 'customer_province', 'customer_city',\n",
       "       'is_customer_rate_ratio', 'is_customer_rate_sum', 'order_detail_count',\n",
       "       'goods_has_discount_sum', 'goods_has_discount_ave',\n",
       "       'order_total_payment_sum', 'order_total_ave_pay', 'order_total_num_sum',\n",
       "       'order_total_num_ave', 'order_pay_time_last_m', 'order_pay_time_last_d',\n",
       "       'order_pay_time_last_week', 'order_pay_time_last_h',\n",
       "       'order_pay_time_last_min', 'order_pay_time_last_s',\n",
       "       'goods_list_time_diff', 'goods_delist_time_diff', 'goods_diff',\n",
       "       'order_pay_time_last_diff', 'labels'],\n",
       "      dtype='object')"
      ]
     },
     "execution_count": 9,
     "metadata": {},
     "output_type": "execute_result"
    }
   ],
   "source": [
    "train_raw.columns"
   ]
  },
  {
   "cell_type": "code",
   "execution_count": 10,
   "metadata": {},
   "outputs": [
    {
     "data": {
      "text/plain": [
       "0.000000    184154\n",
       "1.000000     12176\n",
       "0.500000       589\n",
       "0.333333        56\n",
       "0.666667        24\n",
       "0.250000        11\n",
       "0.200000         2\n",
       "0.750000         1\n",
       "0.166667         1\n",
       "0.714286         1\n",
       "0.400000         1\n",
       "Name: goods_has_discount_ave, dtype: int64"
      ]
     },
     "execution_count": 10,
     "metadata": {},
     "output_type": "execute_result"
    }
   ],
   "source": [
    "train_raw['goods_has_discount_ave'].value_counts()"
   ]
  },
  {
   "cell_type": "code",
   "execution_count": 12,
   "metadata": {},
   "outputs": [],
   "source": [
    "data = pd.concat([train_raw, test_raw])"
   ]
  },
  {
   "cell_type": "code",
   "execution_count": 15,
   "metadata": {},
   "outputs": [],
   "source": [
    "sparse_features = ['order_pay_time_last_h', 'order_pay_time_last_week', 'order_pay_time_last_m', 'order_detail_status_last', \n",
    "                   'order_status_last', 'goods_status_last', 'goods_id_last', 'customer_gender', 'customer_province', 'customer_city']\n",
    "dense_features = [feature for feature in data.columns if feature not in sparse_features]\n",
    "dense_features.remove('labels')\n",
    "\n",
    "target = ['labels']"
   ]
  },
  {
   "cell_type": "code",
   "execution_count": 16,
   "metadata": {},
   "outputs": [
    {
     "data": {
      "text/plain": [
       "['goods_price_last',\n",
       " 'goods_has_discount_last',\n",
       " 'order_total_num_last',\n",
       " 'order_amount_last',\n",
       " 'order_total_payment_last',\n",
       " 'order_total_discount_last',\n",
       " 'order_count_last',\n",
       " 'is_customer_rate_last',\n",
       " 'order_detail_goods_num_last',\n",
       " 'order_detail_amount_last',\n",
       " 'order_detail_payment_last',\n",
       " 'order_detail_discount_last',\n",
       " 'good_price_std',\n",
       " 'good_price_mean',\n",
       " 'good_price_min',\n",
       " 'good_price_max',\n",
       " 'order_detail_payment_std',\n",
       " 'order_detail_payment_mean',\n",
       " 'order_detail_payment_min',\n",
       " 'order_detail_payment_max',\n",
       " 'count',\n",
       " 'goods_count',\n",
       " 'is_customer_rate_ratio',\n",
       " 'is_customer_rate_sum',\n",
       " 'order_detail_count',\n",
       " 'goods_has_discount_sum',\n",
       " 'goods_has_discount_ave',\n",
       " 'order_total_payment_sum',\n",
       " 'order_total_ave_pay',\n",
       " 'order_total_num_sum',\n",
       " 'order_total_num_ave',\n",
       " 'order_pay_time_last_d',\n",
       " 'order_pay_time_last_min',\n",
       " 'order_pay_time_last_s',\n",
       " 'goods_list_time_diff',\n",
       " 'goods_delist_time_diff',\n",
       " 'goods_diff',\n",
       " 'order_pay_time_last_diff']"
      ]
     },
     "execution_count": 16,
     "metadata": {},
     "output_type": "execute_result"
    }
   ],
   "source": [
    "dense_features"
   ]
  },
  {
   "cell_type": "code",
   "execution_count": 17,
   "metadata": {},
   "outputs": [],
   "source": [
    "from sklearn.preprocessing import LabelEncoder\n",
    "from sklearn.preprocessing import MinMaxScaler\n",
    "# 对特征标签进行编码\n",
    "for feat in sparse_features:\n",
    "    lbe = LabelEncoder()\n",
    "    if feat in ['customer_province', 'customer_city']:\n",
    "        data[feat] = lbe.fit_transform(data[feat].astype(str))\n",
    "    else:\n",
    "        data[feat] = lbe.fit_transform(data[feat])\n",
    "\n",
    "scaler = MinMaxScaler(feature_range=(0, 1))\n",
    "data[dense_features] = scaler.fit_transform(data[dense_features])"
   ]
  },
  {
   "cell_type": "code",
   "execution_count": 19,
   "metadata": {},
   "outputs": [
    {
     "data": {
      "text/plain": [
       "customer_gender                False\n",
       "goods_id_last                  False\n",
       "goods_status_last              False\n",
       "goods_price_last               False\n",
       "goods_has_discount_last        False\n",
       "order_total_num_last           False\n",
       "order_amount_last              False\n",
       "order_total_payment_last       False\n",
       "order_total_discount_last      False\n",
       "order_status_last              False\n",
       "order_count_last               False\n",
       "is_customer_rate_last          False\n",
       "order_detail_status_last       False\n",
       "order_detail_goods_num_last    False\n",
       "order_detail_amount_last       False\n",
       "order_detail_payment_last      False\n",
       "order_detail_discount_last     False\n",
       "good_price_std                 False\n",
       "good_price_mean                False\n",
       "good_price_min                 False\n",
       "good_price_max                 False\n",
       "order_detail_payment_std       False\n",
       "order_detail_payment_mean      False\n",
       "order_detail_payment_min       False\n",
       "order_detail_payment_max       False\n",
       "count                          False\n",
       "goods_count                    False\n",
       "customer_province              False\n",
       "customer_city                  False\n",
       "is_customer_rate_ratio         False\n",
       "is_customer_rate_sum           False\n",
       "order_detail_count             False\n",
       "goods_has_discount_sum         False\n",
       "goods_has_discount_ave         False\n",
       "order_total_payment_sum        False\n",
       "order_total_ave_pay            False\n",
       "order_total_num_sum            False\n",
       "order_total_num_ave            False\n",
       "order_pay_time_last_m          False\n",
       "order_pay_time_last_d          False\n",
       "order_pay_time_last_week       False\n",
       "order_pay_time_last_h          False\n",
       "order_pay_time_last_min        False\n",
       "order_pay_time_last_s          False\n",
       "goods_list_time_diff           False\n",
       "goods_delist_time_diff         False\n",
       "goods_diff                     False\n",
       "order_pay_time_last_diff       False\n",
       "labels                         False\n",
       "dtype: bool"
      ]
     },
     "execution_count": 19,
     "metadata": {},
     "output_type": "execute_result"
    }
   ],
   "source": [
    "data.isnull().any()"
   ]
  },
  {
   "cell_type": "code",
   "execution_count": 20,
   "metadata": {},
   "outputs": [
    {
     "name": "stderr",
     "output_type": "stream",
     "text": [
      "WARNING:root:\n",
      "DeepCTR version 0.7.4 detected. Your version is 0.7.3.\n",
      "Use `pip install -U deepctr` to upgrade.Changelog: https://github.com/shenweichen/DeepCTR/releases/tag/v0.7.4\n"
     ]
    }
   ],
   "source": [
    "from deepctr.models import *\n",
    "from deepctr.inputs import SparseFeat, DenseFeat, get_feature_names\n",
    "\n",
    "fixlen_feature_columns = [SparseFeat(feat, vocabulary_size=data[feat].nunique(), embedding_dim=4)\n",
    "                        for feat in sparse_features] + [DenseFeat(feat, 1) for feat in dense_features]\n",
    "\n",
    "dnn_feature_columns = fixlen_feature_columns\n",
    "linear_feature_columns = fixlen_feature_columns\n",
    "\n",
    "feature_names = get_feature_names(linear_feature_columns + dnn_feature_columns)"
   ]
  },
  {
   "cell_type": "code",
   "execution_count": 21,
   "metadata": {},
   "outputs": [],
   "source": [
    "train_data = data[:train_raw.shape[0]]\n",
    "test_data = data[train_raw.shape[0]:]"
   ]
  },
  {
   "cell_type": "code",
   "execution_count": 22,
   "metadata": {},
   "outputs": [
    {
     "data": {
      "text/html": [
       "<div>\n",
       "<style scoped>\n",
       "    .dataframe tbody tr th:only-of-type {\n",
       "        vertical-align: middle;\n",
       "    }\n",
       "\n",
       "    .dataframe tbody tr th {\n",
       "        vertical-align: top;\n",
       "    }\n",
       "\n",
       "    .dataframe thead th {\n",
       "        text-align: right;\n",
       "    }\n",
       "</style>\n",
       "<table border=\"1\" class=\"dataframe\">\n",
       "  <thead>\n",
       "    <tr style=\"text-align: right;\">\n",
       "      <th></th>\n",
       "      <th>customer_gender</th>\n",
       "      <th>goods_id_last</th>\n",
       "      <th>goods_status_last</th>\n",
       "      <th>goods_price_last</th>\n",
       "      <th>goods_has_discount_last</th>\n",
       "      <th>order_total_num_last</th>\n",
       "      <th>order_amount_last</th>\n",
       "      <th>order_total_payment_last</th>\n",
       "      <th>order_total_discount_last</th>\n",
       "      <th>order_status_last</th>\n",
       "      <th>...</th>\n",
       "      <th>order_pay_time_last_d</th>\n",
       "      <th>order_pay_time_last_week</th>\n",
       "      <th>order_pay_time_last_h</th>\n",
       "      <th>order_pay_time_last_min</th>\n",
       "      <th>order_pay_time_last_s</th>\n",
       "      <th>goods_list_time_diff</th>\n",
       "      <th>goods_delist_time_diff</th>\n",
       "      <th>goods_diff</th>\n",
       "      <th>order_pay_time_last_diff</th>\n",
       "      <th>labels</th>\n",
       "    </tr>\n",
       "    <tr>\n",
       "      <th>customer_id</th>\n",
       "      <th></th>\n",
       "      <th></th>\n",
       "      <th></th>\n",
       "      <th></th>\n",
       "      <th></th>\n",
       "      <th></th>\n",
       "      <th></th>\n",
       "      <th></th>\n",
       "      <th></th>\n",
       "      <th></th>\n",
       "      <th></th>\n",
       "      <th></th>\n",
       "      <th></th>\n",
       "      <th></th>\n",
       "      <th></th>\n",
       "      <th></th>\n",
       "      <th></th>\n",
       "      <th></th>\n",
       "      <th></th>\n",
       "      <th></th>\n",
       "      <th></th>\n",
       "    </tr>\n",
       "  </thead>\n",
       "  <tbody>\n",
       "    <tr>\n",
       "      <th>1000123</th>\n",
       "      <td>0</td>\n",
       "      <td>51</td>\n",
       "      <td>1</td>\n",
       "      <td>0.784722</td>\n",
       "      <td>0.0</td>\n",
       "      <td>0.000000</td>\n",
       "      <td>0.004528</td>\n",
       "      <td>0.005576</td>\n",
       "      <td>0.000000</td>\n",
       "      <td>3</td>\n",
       "      <td>...</td>\n",
       "      <td>0.366667</td>\n",
       "      <td>2</td>\n",
       "      <td>6</td>\n",
       "      <td>0.508475</td>\n",
       "      <td>0.016949</td>\n",
       "      <td>0.973788</td>\n",
       "      <td>0.999286</td>\n",
       "      <td>1.0</td>\n",
       "      <td>0.135314</td>\n",
       "      <td>0</td>\n",
       "    </tr>\n",
       "    <tr>\n",
       "      <th>1000164</th>\n",
       "      <td>0</td>\n",
       "      <td>176</td>\n",
       "      <td>1</td>\n",
       "      <td>0.771480</td>\n",
       "      <td>0.0</td>\n",
       "      <td>0.000000</td>\n",
       "      <td>0.003606</td>\n",
       "      <td>0.003219</td>\n",
       "      <td>0.000000</td>\n",
       "      <td>3</td>\n",
       "      <td>...</td>\n",
       "      <td>0.733333</td>\n",
       "      <td>1</td>\n",
       "      <td>20</td>\n",
       "      <td>0.508475</td>\n",
       "      <td>0.135593</td>\n",
       "      <td>0.979030</td>\n",
       "      <td>0.999506</td>\n",
       "      <td>1.0</td>\n",
       "      <td>0.871287</td>\n",
       "      <td>0</td>\n",
       "    </tr>\n",
       "    <tr>\n",
       "      <th>1000304</th>\n",
       "      <td>0</td>\n",
       "      <td>16</td>\n",
       "      <td>1</td>\n",
       "      <td>0.771420</td>\n",
       "      <td>0.0</td>\n",
       "      <td>0.000592</td>\n",
       "      <td>0.005416</td>\n",
       "      <td>0.004470</td>\n",
       "      <td>0.000000</td>\n",
       "      <td>3</td>\n",
       "      <td>...</td>\n",
       "      <td>0.166667</td>\n",
       "      <td>5</td>\n",
       "      <td>13</td>\n",
       "      <td>0.101695</td>\n",
       "      <td>0.864407</td>\n",
       "      <td>0.973788</td>\n",
       "      <td>0.999286</td>\n",
       "      <td>1.0</td>\n",
       "      <td>0.514851</td>\n",
       "      <td>0</td>\n",
       "    </tr>\n",
       "    <tr>\n",
       "      <th>1000426</th>\n",
       "      <td>0</td>\n",
       "      <td>37</td>\n",
       "      <td>1</td>\n",
       "      <td>0.780000</td>\n",
       "      <td>0.0</td>\n",
       "      <td>0.000000</td>\n",
       "      <td>0.004168</td>\n",
       "      <td>0.005769</td>\n",
       "      <td>0.000000</td>\n",
       "      <td>3</td>\n",
       "      <td>...</td>\n",
       "      <td>0.233333</td>\n",
       "      <td>2</td>\n",
       "      <td>18</td>\n",
       "      <td>0.135593</td>\n",
       "      <td>0.271186</td>\n",
       "      <td>0.979030</td>\n",
       "      <td>0.999506</td>\n",
       "      <td>1.0</td>\n",
       "      <td>0.620462</td>\n",
       "      <td>0</td>\n",
       "    </tr>\n",
       "    <tr>\n",
       "      <th>1000434</th>\n",
       "      <td>0</td>\n",
       "      <td>39</td>\n",
       "      <td>1</td>\n",
       "      <td>0.776887</td>\n",
       "      <td>0.0</td>\n",
       "      <td>0.000000</td>\n",
       "      <td>0.003985</td>\n",
       "      <td>0.003844</td>\n",
       "      <td>0.000000</td>\n",
       "      <td>3</td>\n",
       "      <td>...</td>\n",
       "      <td>0.000000</td>\n",
       "      <td>4</td>\n",
       "      <td>14</td>\n",
       "      <td>0.915254</td>\n",
       "      <td>0.389831</td>\n",
       "      <td>0.980341</td>\n",
       "      <td>0.999561</td>\n",
       "      <td>1.0</td>\n",
       "      <td>0.303630</td>\n",
       "      <td>0</td>\n",
       "    </tr>\n",
       "    <tr>\n",
       "      <th>...</th>\n",
       "      <td>...</td>\n",
       "      <td>...</td>\n",
       "      <td>...</td>\n",
       "      <td>...</td>\n",
       "      <td>...</td>\n",
       "      <td>...</td>\n",
       "      <td>...</td>\n",
       "      <td>...</td>\n",
       "      <td>...</td>\n",
       "      <td>...</td>\n",
       "      <td>...</td>\n",
       "      <td>...</td>\n",
       "      <td>...</td>\n",
       "      <td>...</td>\n",
       "      <td>...</td>\n",
       "      <td>...</td>\n",
       "      <td>...</td>\n",
       "      <td>...</td>\n",
       "      <td>...</td>\n",
       "      <td>...</td>\n",
       "      <td>...</td>\n",
       "    </tr>\n",
       "    <tr>\n",
       "      <th>2826541</th>\n",
       "      <td>0</td>\n",
       "      <td>1</td>\n",
       "      <td>1</td>\n",
       "      <td>0.782453</td>\n",
       "      <td>0.0</td>\n",
       "      <td>0.000000</td>\n",
       "      <td>0.004347</td>\n",
       "      <td>0.003568</td>\n",
       "      <td>0.005939</td>\n",
       "      <td>3</td>\n",
       "      <td>...</td>\n",
       "      <td>0.333333</td>\n",
       "      <td>6</td>\n",
       "      <td>12</td>\n",
       "      <td>0.966102</td>\n",
       "      <td>0.474576</td>\n",
       "      <td>0.975098</td>\n",
       "      <td>0.999341</td>\n",
       "      <td>1.0</td>\n",
       "      <td>0.033003</td>\n",
       "      <td>0</td>\n",
       "    </tr>\n",
       "    <tr>\n",
       "      <th>2826551</th>\n",
       "      <td>0</td>\n",
       "      <td>14</td>\n",
       "      <td>1</td>\n",
       "      <td>0.750981</td>\n",
       "      <td>0.0</td>\n",
       "      <td>0.000000</td>\n",
       "      <td>0.002354</td>\n",
       "      <td>0.002407</td>\n",
       "      <td>0.003585</td>\n",
       "      <td>3</td>\n",
       "      <td>...</td>\n",
       "      <td>0.333333</td>\n",
       "      <td>6</td>\n",
       "      <td>22</td>\n",
       "      <td>0.237288</td>\n",
       "      <td>0.644068</td>\n",
       "      <td>0.979030</td>\n",
       "      <td>0.999506</td>\n",
       "      <td>1.0</td>\n",
       "      <td>0.033003</td>\n",
       "      <td>0</td>\n",
       "    </tr>\n",
       "    <tr>\n",
       "      <th>2826560</th>\n",
       "      <td>0</td>\n",
       "      <td>10</td>\n",
       "      <td>1</td>\n",
       "      <td>0.777168</td>\n",
       "      <td>0.0</td>\n",
       "      <td>0.000000</td>\n",
       "      <td>0.003985</td>\n",
       "      <td>0.003844</td>\n",
       "      <td>0.000000</td>\n",
       "      <td>3</td>\n",
       "      <td>...</td>\n",
       "      <td>0.600000</td>\n",
       "      <td>5</td>\n",
       "      <td>8</td>\n",
       "      <td>0.762712</td>\n",
       "      <td>0.322034</td>\n",
       "      <td>0.976409</td>\n",
       "      <td>0.999396</td>\n",
       "      <td>1.0</td>\n",
       "      <td>0.260726</td>\n",
       "      <td>0</td>\n",
       "    </tr>\n",
       "    <tr>\n",
       "      <th>2826568</th>\n",
       "      <td>0</td>\n",
       "      <td>14</td>\n",
       "      <td>1</td>\n",
       "      <td>0.751638</td>\n",
       "      <td>0.0</td>\n",
       "      <td>0.000000</td>\n",
       "      <td>0.002354</td>\n",
       "      <td>0.002882</td>\n",
       "      <td>0.000000</td>\n",
       "      <td>1</td>\n",
       "      <td>...</td>\n",
       "      <td>0.566667</td>\n",
       "      <td>1</td>\n",
       "      <td>19</td>\n",
       "      <td>0.203390</td>\n",
       "      <td>0.864407</td>\n",
       "      <td>0.979030</td>\n",
       "      <td>0.999506</td>\n",
       "      <td>1.0</td>\n",
       "      <td>0.155116</td>\n",
       "      <td>0</td>\n",
       "    </tr>\n",
       "    <tr>\n",
       "      <th>2826572</th>\n",
       "      <td>0</td>\n",
       "      <td>290</td>\n",
       "      <td>1</td>\n",
       "      <td>0.771920</td>\n",
       "      <td>0.0</td>\n",
       "      <td>0.001776</td>\n",
       "      <td>0.012824</td>\n",
       "      <td>0.011469</td>\n",
       "      <td>0.022146</td>\n",
       "      <td>3</td>\n",
       "      <td>...</td>\n",
       "      <td>0.766667</td>\n",
       "      <td>3</td>\n",
       "      <td>0</td>\n",
       "      <td>0.406780</td>\n",
       "      <td>0.677966</td>\n",
       "      <td>0.979030</td>\n",
       "      <td>0.999506</td>\n",
       "      <td>1.0</td>\n",
       "      <td>0.277228</td>\n",
       "      <td>0</td>\n",
       "    </tr>\n",
       "  </tbody>\n",
       "</table>\n",
       "<p>197016 rows × 49 columns</p>\n",
       "</div>"
      ],
      "text/plain": [
       "             customer_gender  goods_id_last  goods_status_last  \\\n",
       "customer_id                                                      \n",
       "1000123                    0             51                  1   \n",
       "1000164                    0            176                  1   \n",
       "1000304                    0             16                  1   \n",
       "1000426                    0             37                  1   \n",
       "1000434                    0             39                  1   \n",
       "...                      ...            ...                ...   \n",
       "2826541                    0              1                  1   \n",
       "2826551                    0             14                  1   \n",
       "2826560                    0             10                  1   \n",
       "2826568                    0             14                  1   \n",
       "2826572                    0            290                  1   \n",
       "\n",
       "             goods_price_last  goods_has_discount_last  order_total_num_last  \\\n",
       "customer_id                                                                    \n",
       "1000123              0.784722                      0.0              0.000000   \n",
       "1000164              0.771480                      0.0              0.000000   \n",
       "1000304              0.771420                      0.0              0.000592   \n",
       "1000426              0.780000                      0.0              0.000000   \n",
       "1000434              0.776887                      0.0              0.000000   \n",
       "...                       ...                      ...                   ...   \n",
       "2826541              0.782453                      0.0              0.000000   \n",
       "2826551              0.750981                      0.0              0.000000   \n",
       "2826560              0.777168                      0.0              0.000000   \n",
       "2826568              0.751638                      0.0              0.000000   \n",
       "2826572              0.771920                      0.0              0.001776   \n",
       "\n",
       "             order_amount_last  order_total_payment_last  \\\n",
       "customer_id                                                \n",
       "1000123               0.004528                  0.005576   \n",
       "1000164               0.003606                  0.003219   \n",
       "1000304               0.005416                  0.004470   \n",
       "1000426               0.004168                  0.005769   \n",
       "1000434               0.003985                  0.003844   \n",
       "...                        ...                       ...   \n",
       "2826541               0.004347                  0.003568   \n",
       "2826551               0.002354                  0.002407   \n",
       "2826560               0.003985                  0.003844   \n",
       "2826568               0.002354                  0.002882   \n",
       "2826572               0.012824                  0.011469   \n",
       "\n",
       "             order_total_discount_last  order_status_last  ...  \\\n",
       "customer_id                                                ...   \n",
       "1000123                       0.000000                  3  ...   \n",
       "1000164                       0.000000                  3  ...   \n",
       "1000304                       0.000000                  3  ...   \n",
       "1000426                       0.000000                  3  ...   \n",
       "1000434                       0.000000                  3  ...   \n",
       "...                                ...                ...  ...   \n",
       "2826541                       0.005939                  3  ...   \n",
       "2826551                       0.003585                  3  ...   \n",
       "2826560                       0.000000                  3  ...   \n",
       "2826568                       0.000000                  1  ...   \n",
       "2826572                       0.022146                  3  ...   \n",
       "\n",
       "             order_pay_time_last_d  order_pay_time_last_week  \\\n",
       "customer_id                                                    \n",
       "1000123                   0.366667                         2   \n",
       "1000164                   0.733333                         1   \n",
       "1000304                   0.166667                         5   \n",
       "1000426                   0.233333                         2   \n",
       "1000434                   0.000000                         4   \n",
       "...                            ...                       ...   \n",
       "2826541                   0.333333                         6   \n",
       "2826551                   0.333333                         6   \n",
       "2826560                   0.600000                         5   \n",
       "2826568                   0.566667                         1   \n",
       "2826572                   0.766667                         3   \n",
       "\n",
       "             order_pay_time_last_h  order_pay_time_last_min  \\\n",
       "customer_id                                                   \n",
       "1000123                          6                 0.508475   \n",
       "1000164                         20                 0.508475   \n",
       "1000304                         13                 0.101695   \n",
       "1000426                         18                 0.135593   \n",
       "1000434                         14                 0.915254   \n",
       "...                            ...                      ...   \n",
       "2826541                         12                 0.966102   \n",
       "2826551                         22                 0.237288   \n",
       "2826560                          8                 0.762712   \n",
       "2826568                         19                 0.203390   \n",
       "2826572                          0                 0.406780   \n",
       "\n",
       "             order_pay_time_last_s  goods_list_time_diff  \\\n",
       "customer_id                                                \n",
       "1000123                   0.016949              0.973788   \n",
       "1000164                   0.135593              0.979030   \n",
       "1000304                   0.864407              0.973788   \n",
       "1000426                   0.271186              0.979030   \n",
       "1000434                   0.389831              0.980341   \n",
       "...                            ...                   ...   \n",
       "2826541                   0.474576              0.975098   \n",
       "2826551                   0.644068              0.979030   \n",
       "2826560                   0.322034              0.976409   \n",
       "2826568                   0.864407              0.979030   \n",
       "2826572                   0.677966              0.979030   \n",
       "\n",
       "             goods_delist_time_diff  goods_diff  order_pay_time_last_diff  \\\n",
       "customer_id                                                                 \n",
       "1000123                    0.999286         1.0                  0.135314   \n",
       "1000164                    0.999506         1.0                  0.871287   \n",
       "1000304                    0.999286         1.0                  0.514851   \n",
       "1000426                    0.999506         1.0                  0.620462   \n",
       "1000434                    0.999561         1.0                  0.303630   \n",
       "...                             ...         ...                       ...   \n",
       "2826541                    0.999341         1.0                  0.033003   \n",
       "2826551                    0.999506         1.0                  0.033003   \n",
       "2826560                    0.999396         1.0                  0.260726   \n",
       "2826568                    0.999506         1.0                  0.155116   \n",
       "2826572                    0.999506         1.0                  0.277228   \n",
       "\n",
       "             labels  \n",
       "customer_id          \n",
       "1000123           0  \n",
       "1000164           0  \n",
       "1000304           0  \n",
       "1000426           0  \n",
       "1000434           0  \n",
       "...             ...  \n",
       "2826541           0  \n",
       "2826551           0  \n",
       "2826560           0  \n",
       "2826568           0  \n",
       "2826572           0  \n",
       "\n",
       "[197016 rows x 49 columns]"
      ]
     },
     "execution_count": 22,
     "metadata": {},
     "output_type": "execute_result"
    }
   ],
   "source": [
    "train_data"
   ]
  },
  {
   "cell_type": "code",
   "execution_count": 23,
   "metadata": {},
   "outputs": [
    {
     "data": {
      "text/plain": [
       "(218278, 49)"
      ]
     },
     "execution_count": 23,
     "metadata": {},
     "output_type": "execute_result"
    }
   ],
   "source": [
    "test_data.shape"
   ]
  },
  {
   "cell_type": "code",
   "execution_count": 24,
   "metadata": {},
   "outputs": [],
   "source": [
    "train_model_input = {name: train_data[name] for name in feature_names}\n",
    "test_model_input = {name: test_data[name] for name in feature_names}"
   ]
  },
  {
   "cell_type": "code",
   "execution_count": 25,
   "metadata": {},
   "outputs": [],
   "source": [
    "from tensorflow.keras import callbacks\n",
    "from tensorflow.keras.callbacks import EarlyStopping\n",
    "import matplotlib.pyplot as plt\n",
    "\n",
    "class LossHistory(callbacks.Callback):\n",
    "    def on_train_begin(self, logs={}):\n",
    "        self.losses = {'batch': [], 'epoch': []}\n",
    "        self.binary_crossentropy = {'batch': [], 'epoch': []}\n",
    "        self.val_loss = {'batch': [], 'epoch': []}\n",
    "        self.val_binary_crossentropy = {'batch': [], 'epoch': []}\n",
    "\n",
    "    def on_batch_end(self, batch, logs={}):\n",
    "        self.losses['batch'].append(logs.get('loss'))\n",
    "        self.binary_crossentropy['batch'].append(logs.get('binary_crossentropy'))\n",
    "        self.val_loss['batch'].append(logs.get('val_loss'))\n",
    "        self.val_binary_crossentropy['batch'].append(logs.get('val_acc'))\n",
    "\n",
    "    def on_epoch_end(self, batch, logs={}):\n",
    "        self.losses['epoch'].append(logs.get('loss'))\n",
    "        self.binary_crossentropy['epoch'].append(logs.get('binary_crossentropy'))\n",
    "        self.val_loss['epoch'].append(logs.get('val_loss'))\n",
    "        self.val_binary_crossentropy['epoch'].append(logs.get('val_binary_crossentropy'))\n",
    "\n",
    "    def loss_plot(self, loss_type):\n",
    "        iters = range(len(self.losses[loss_type]))\n",
    "        plt.figure()\n",
    "        # acc\n",
    "        plt.plot(iters, self.binary_crossentropy[loss_type], 'r', label='train binary_crossentropy')\n",
    "        # loss\n",
    "        plt.plot(iters, self.losses[loss_type], 'g', label='train loss')\n",
    "        if loss_type == 'epoch':\n",
    "            # val_acc\n",
    "            plt.plot(iters, self.val_binary_crossentropy[loss_type], 'b', label='val binary_crossentropy')\n",
    "            # val_loss\n",
    "            plt.plot(iters, self.val_loss[loss_type], 'k', label='val loss')\n",
    "        plt.grid(True)\n",
    "        plt.xlabel(loss_type)\n",
    "        plt.ylabel('acc-loss')\n",
    "        plt.legend(loc=\"upper right\")\n",
    "        plt.show()"
   ]
  },
  {
   "cell_type": "code",
   "execution_count": 26,
   "metadata": {},
   "outputs": [],
   "source": [
    "def train_model(model, name):\n",
    "    model.compile(\"adam\", \"binary_crossentropy\", metrics=[\"binary_crossentropy\"])\n",
    "    es = EarlyStopping(monitor='val_binary_crossentropy', mode='min')\n",
    "    history = LossHistory()\n",
    "    his = model.fit(train_model_input, train_data[target].values, callbacks = [es, history], batch_size=256, epochs = 10, verbose=2, validation_split = 0.2, class_weight={0:1.0, 1:40.0})\n",
    "    print(\"Model {0}'s training log ...\".format(name))\n",
    "    history.loss_plot('epoch')"
   ]
  },
  {
   "cell_type": "code",
   "execution_count": 27,
   "metadata": {},
   "outputs": [],
   "source": [
    "def f(x):\n",
    "    x = round(x, 5)\n",
    "    if x < 0.1:\n",
    "        return 0.1\n",
    "    if x > 0.9:\n",
    "        return 0.9\n",
    "    return x"
   ]
  },
  {
   "cell_type": "code",
   "execution_count": 34,
   "metadata": {},
   "outputs": [],
   "source": [
    "def predict_and_output(model, name, issamples=True):\n",
    "    y_pred = model.predict(test_model_input, batch_size=256)\n",
    "    test['result'] = y_pred\n",
    "    test['result'] = test['result'].map(f)\n",
    "    subm = pd.DataFrame(test['result'])\n",
    "    if issamples:\n",
    "        subm.to_csv('submissions/submission_{0}_s.csv'.format(name))\n",
    "    else:\n",
    "        subm.to_csv('submissions/submission_{0}.csv'.format(name))"
   ]
  },
  {
   "cell_type": "code",
   "execution_count": 35,
   "metadata": {},
   "outputs": [],
   "source": [
    "models = {}\n",
    "models['DeepFM'] = DeepFM(linear_feature_columns, dnn_feature_columns, task = 'binary')\n",
    "models['Wide&Deep'] = WDL(linear_feature_columns, dnn_feature_columns, task='binary')\n",
    "models['AutoInt'] = AutoInt(linear_feature_columns, dnn_feature_columns, task='binary')\n",
    "models['xDeepFM'] = xDeepFM(linear_feature_columns, dnn_feature_columns, task='binary')"
   ]
  },
  {
   "cell_type": "code",
   "execution_count": 36,
   "metadata": {},
   "outputs": [
    {
     "name": "stdout",
     "output_type": "stream",
     "text": [
      "WARNING:tensorflow:sample_weight modes were coerced from\n",
      "  ...\n",
      "    to  \n",
      "  ['...']\n"
     ]
    },
    {
     "name": "stderr",
     "output_type": "stream",
     "text": [
      "WARNING:tensorflow:sample_weight modes were coerced from\n",
      "  ...\n",
      "    to  \n",
      "  ['...']\n"
     ]
    },
    {
     "name": "stdout",
     "output_type": "stream",
     "text": [
      "WARNING:tensorflow:sample_weight modes were coerced from\n",
      "  ...\n",
      "    to  \n",
      "  ['...']\n"
     ]
    },
    {
     "name": "stderr",
     "output_type": "stream",
     "text": [
      "WARNING:tensorflow:sample_weight modes were coerced from\n",
      "  ...\n",
      "    to  \n",
      "  ['...']\n"
     ]
    },
    {
     "name": "stdout",
     "output_type": "stream",
     "text": [
      "Train on 157612 samples, validate on 39404 samples\n",
      "Epoch 1/10\n"
     ]
    },
    {
     "name": "stderr",
     "output_type": "stream",
     "text": [
      "C:\\ProgramData\\Anaconda3\\envs\\tf\\lib\\site-packages\\tensorflow_core\\python\\framework\\indexed_slices.py:433: UserWarning: Converting sparse IndexedSlices to a dense Tensor of unknown shape. This may consume a large amount of memory.\n",
      "  \"Converting sparse IndexedSlices to a dense Tensor of unknown shape. \"\n",
      "C:\\ProgramData\\Anaconda3\\envs\\tf\\lib\\site-packages\\tensorflow_core\\python\\framework\\indexed_slices.py:433: UserWarning: Converting sparse IndexedSlices to a dense Tensor of unknown shape. This may consume a large amount of memory.\n",
      "  \"Converting sparse IndexedSlices to a dense Tensor of unknown shape. \"\n"
     ]
    },
    {
     "name": "stdout",
     "output_type": "stream",
     "text": [
      "157612/157612 - 10s - loss: 0.3302 - binary_crossentropy: 0.1113 - val_loss: 0.7190 - val_binary_crossentropy: 0.0838\n",
      "Epoch 2/10\n",
      "157612/157612 - 8s - loss: 0.2834 - binary_crossentropy: 0.0937 - val_loss: 0.7728 - val_binary_crossentropy: 0.0944\n",
      "Model DeepFM's training log ...\n"
     ]
    },
    {
     "data": {
      "image/png": "[encoded data removed]",
      "text/plain": [
       "<Figure size 432x288 with 1 Axes>"
      ]
     },
     "metadata": {
      "needs_background": "light"
     },
     "output_type": "display_data"
    },
    {
     "name": "stdout",
     "output_type": "stream",
     "text": [
      "WARNING:tensorflow:sample_weight modes were coerced from\n",
      "  ...\n",
      "    to  \n",
      "  ['...']\n"
     ]
    },
    {
     "name": "stderr",
     "output_type": "stream",
     "text": [
      "WARNING:tensorflow:sample_weight modes were coerced from\n",
      "  ...\n",
      "    to  \n",
      "  ['...']\n"
     ]
    },
    {
     "name": "stdout",
     "output_type": "stream",
     "text": [
      "WARNING:tensorflow:sample_weight modes were coerced from\n",
      "  ...\n",
      "    to  \n",
      "  ['...']\n"
     ]
    },
    {
     "name": "stderr",
     "output_type": "stream",
     "text": [
      "WARNING:tensorflow:sample_weight modes were coerced from\n",
      "  ...\n",
      "    to  \n",
      "  ['...']\n"
     ]
    },
    {
     "name": "stdout",
     "output_type": "stream",
     "text": [
      "Train on 157612 samples, validate on 39404 samples\n",
      "Epoch 1/10\n"
     ]
    },
    {
     "name": "stderr",
     "output_type": "stream",
     "text": [
      "C:\\ProgramData\\Anaconda3\\envs\\tf\\lib\\site-packages\\tensorflow_core\\python\\framework\\indexed_slices.py:433: UserWarning: Converting sparse IndexedSlices to a dense Tensor of unknown shape. This may consume a large amount of memory.\n",
      "  \"Converting sparse IndexedSlices to a dense Tensor of unknown shape. \"\n",
      "C:\\ProgramData\\Anaconda3\\envs\\tf\\lib\\site-packages\\tensorflow_core\\python\\framework\\indexed_slices.py:433: UserWarning: Converting sparse IndexedSlices to a dense Tensor of unknown shape. This may consume a large amount of memory.\n",
      "  \"Converting sparse IndexedSlices to a dense Tensor of unknown shape. \"\n"
     ]
    },
    {
     "name": "stdout",
     "output_type": "stream",
     "text": [
      "157612/157612 - 10s - loss: 0.3240 - binary_crossentropy: 0.1076 - val_loss: 0.6754 - val_binary_crossentropy: 0.1031\n",
      "Epoch 2/10\n",
      "157612/157612 - 8s - loss: 0.2846 - binary_crossentropy: 0.0969 - val_loss: 0.8768 - val_binary_crossentropy: 0.0704\n",
      "Epoch 3/10\n",
      "157612/157612 - 7s - loss: 0.2593 - binary_crossentropy: 0.0900 - val_loss: 0.9160 - val_binary_crossentropy: 0.1065\n",
      "Model Wide&Deep's training log ...\n"
     ]
    },
    {
     "data": {
      "image/png": "[encoded data removed]",
      "text/plain": [
       "<Figure size 432x288 with 1 Axes>"
      ]
     },
     "metadata": {
      "needs_background": "light"
     },
     "output_type": "display_data"
    }
   ],
   "source": [
    "for key in models:\n",
    "    train_model(models[key], key)\n",
    "    predict_and_output(models[key], key, issamples)"
   ]
  }
 ],
 "metadata": {
  "kernelspec": {
   "display_name": "Python 3.7.6 64-bit ('tf': conda)",
   "language": "python",
   "name": "python37664bittfconda946bd5c5de684c5d81ef2ce52df4450d"
  },
  "language_info": {
   "codemirror_mode": {
    "name": "ipython",
    "version": 3
   },
   "file_extension": ".py",
   "mimetype": "text/x-python",
   "name": "python",
   "nbconvert_exporter": "python",
   "pygments_lexer": "ipython3",
   "version": "3.7.6"
  }
 },
 "nbformat": 4,
 "nbformat_minor": 4
}
