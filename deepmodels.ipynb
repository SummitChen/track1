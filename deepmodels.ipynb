{
 "cells": [
  {
   "cell_type": "code",
   "execution_count": 1,
   "metadata": {},
   "outputs": [],
   "source": [
    "import pandas as pd\n",
    "import numpy as np\n",
    "from tqdm import tqdm\n",
    "import datetime\n",
    "import time"
   ]
  },
  {
   "cell_type": "code",
   "execution_count": 2,
   "metadata": {},
   "outputs": [],
   "source": [
    "raw = pd.read_csv('data/train.csv')"
   ]
  },
  {
   "cell_type": "code",
   "execution_count": 3,
   "metadata": {},
   "outputs": [],
   "source": [
    "issamples = False"
   ]
  },
  {
   "cell_type": "code",
   "execution_count": 4,
   "metadata": {},
   "outputs": [],
   "source": [
    "raw['goods_id'] = pd.factorize(raw['goods_id'])[0]"
   ]
  },
  {
   "cell_type": "code",
   "execution_count": 5,
   "metadata": {},
   "outputs": [
    {
     "data": {
      "text/plain": [
       "Index(['order_detail_id', 'order_id', 'order_total_num', 'order_amount',\n",
       "       'order_total_payment', 'order_total_discount', 'order_pay_time',\n",
       "       'order_status', 'order_count', 'is_customer_rate',\n",
       "       'order_detail_status', 'order_detail_goods_num', 'order_detail_amount',\n",
       "       'order_detail_payment', 'order_detail_discount', 'customer_province',\n",
       "       'customer_city', 'member_id', 'customer_id', 'customer_gender',\n",
       "       'member_status', 'is_member_actived', 'goods_id', 'goods_class_id',\n",
       "       'goods_price', 'goods_status', 'goods_has_discount', 'goods_list_time',\n",
       "       'goods_delist_time'],\n",
       "      dtype='object')"
      ]
     },
     "execution_count": 5,
     "metadata": {},
     "output_type": "execute_result"
    }
   ],
   "source": [
    "raw.columns"
   ]
  },
  {
   "cell_type": "code",
   "execution_count": 6,
   "metadata": {},
   "outputs": [
    {
     "data": {
      "text/plain": [
       "1.0      1523387\n",
       "2.0       526933\n",
       "3.0       127457\n",
       "4.0        56633\n",
       "5.0        27189\n",
       "          ...   \n",
       "203.0          1\n",
       "201.0          1\n",
       "106.0          1\n",
       "198.0          1\n",
       "115.0          1\n",
       "Name: order_total_num, Length: 239, dtype: int64"
      ]
     },
     "execution_count": 6,
     "metadata": {},
     "output_type": "execute_result"
    }
   ],
   "source": [
    "raw['order_total_num'].value_counts()"
   ]
  },
  {
   "cell_type": "code",
   "execution_count": 7,
   "metadata": {},
   "outputs": [],
   "source": [
    "# data = pd.DataFrame(raw.groupby('customer_id').apply(lambda df: df['order_pay_time'][0]))"
   ]
  },
  {
   "cell_type": "code",
   "execution_count": 8,
   "metadata": {},
   "outputs": [],
   "source": [
    "# data.head()"
   ]
  },
  {
   "cell_type": "code",
   "execution_count": 9,
   "metadata": {},
   "outputs": [],
   "source": [
    "def prerpocess(raw, train='train'):\n",
    "    st = time.time()\n",
    "    data = pd.DataFrame(raw.groupby('customer_id')['customer_gender'].last().fillna(0))\n",
    "    \n",
    "    data[['goods_id_last', 'goods_status_last', 'goods_price_last', 'goods_has_discount_last', 'goods_list_time_last', 'goods_delist_time_last']] = raw.groupby('customer_id')['goods_id', 'goods_status', 'goods_price', 'goods_has_discount', 'goods_list_time', 'goods_delist_time'].last()\n",
    "    \n",
    "    data[['order_total_num_last', 'order_amount_last',\n",
    "       'order_total_payment_last', 'order_total_discount_last', 'order_pay_time_last',\n",
    "       'order_status_last', 'order_count_last', 'is_customer_rate_last',\n",
    "       'order_detail_status_last', 'order_detail_goods_num_last', 'order_detail_amount_last',\n",
    "       'order_detail_payment_last', 'order_detail_discount_last']] = raw.groupby('customer_id')['order_total_num', 'order_amount',\n",
    "       'order_total_payment', 'order_total_discount', 'order_pay_time',\n",
    "       'order_status', 'order_count', 'is_customer_rate',\n",
    "       'order_detail_status', 'order_detail_goods_num', 'order_detail_amount',\n",
    "       'order_detail_payment', 'order_detail_discount'].last()\n",
    "    \n",
    "    data['count'] = raw.groupby('customer_id')['order_id'].nunique()\n",
    "    data['goods_count'] = raw.groupby('customer_id')['order_total_num'].sum()\n",
    "    data['order_detail_count'] = raw.groupby('customer_id')['customer_id'].count()\n",
    "    \n",
    "    data['customer_province'] = raw.groupby('customer_id')['customer_province'].last().fillna('0')\n",
    "    data['customer_city'] = raw.groupby('customer_id')['customer_city'].last().fillna('0')\n",
    "    \n",
    "    data[['good_price_std', 'good_price_mean', 'good_price_min', 'good_price_max', 'good_price_sum']] = \\\n",
    "        raw.groupby('customer_id')['goods_price'] \\\n",
    "        .agg({'good_price_std':'std', 'good_price_mean':'mean', 'good_price_min':'min', 'good_price_max':'max', 'good_price_sum':'sum'})\n",
    "        \n",
    "    data[['order_detail_payment_std', 'order_detail_payment_mean', 'order_detail_payment_min', 'order_detail_payment_max', 'order_detail_payment_sum']] = \\\n",
    "        raw.groupby('customer_id')['order_detail_payment'] \\\n",
    "        .agg({'order_detail_payment_std':'std', 'order_detail_payment_mean':'mean', 'order_detail_payment_min':'min', 'order_detail_payment_max':'max', 'order_detail_payment_sum':'sum'})\n",
    "    \n",
    "    data[['order_detail_discount_std', 'order_detail_discount_mean', 'order_detail_discount_min', 'order_detail_discount_max', 'order_detail_discount_sum']] = \\\n",
    "        raw.groupby('customer_id')['order_detail_discount'] \\\n",
    "        .agg({'order_detail_discount_std':'std', 'order_detail_discount_mean':'mean', 'order_detail_discount_min':'min', 'order_detail_discount_max':'max', 'order_detail_discount_sum':'sum'})\n",
    "    \n",
    "    data[['order_detail_amount_std', 'order_detail_amount_mean', 'order_detail_amount_min', 'order_detail_amount_max', 'order_detail_amount_sum']] = \\\n",
    "        raw.groupby('customer_id')['order_detail_amount'] \\\n",
    "        .agg({'order_detail_amount_std':'std', 'order_detail_amount_mean':'mean', 'order_detail_amount_min':'min', 'order_detail_amount_max':'max', 'order_detail_amount_sum':'sum'})\n",
    "    \n",
    "    data[['order_detail_goods_num_std', 'order_detail_goods_num_mean', 'order_detail_goods_num_min', 'order_detail_goods_num_max', 'order_detail_goods_num_sum']] = \\\n",
    "        raw.groupby('customer_id')['order_detail_goods_num'] \\\n",
    "        .agg({'order_detail_goods_num_std':'std', 'order_detail_goods_num_mean':'mean', 'order_detail_goods_num_min':'min', 'order_detail_goods_num_max':'max', 'order_detail_goods_num_sum':'sum'})\n",
    "\n",
    "    data[['order_total_num_std', 'order_total_num_mean', 'order_total_num_min', 'order_total_num_max', 'order_total_num_sum']] = \\\n",
    "        raw.groupby('customer_id')['order_total_num'] \\\n",
    "        .agg({'order_total_num_std':'std', 'order_total_num_mean':'mean', 'order_total_num_min':'min', 'order_total_num_max':'max', 'order_total_num_sum':'sum'})\n",
    "    \n",
    "    data[['order_amount_std', 'order_amount_mean', 'order_amount_min', 'order_amount_max', 'order_amount_sum']] = \\\n",
    "        raw.groupby('customer_id')['order_amount'] \\\n",
    "        .agg({'order_amount_std':'std', 'order_amount_mean':'mean', 'order_amount_min':'min', 'order_amount_max':'max', 'order_amount_sum':'sum'})\n",
    "        \n",
    "    data[['is_customer_rate_ratio','is_customer_rate_sum']] = \\\n",
    "        raw.groupby('customer_id')['is_customer_rate'].agg({'is_customer_rate_ratio':np.mean,'is_customer_rate_sum':np.sum})\n",
    "    \n",
    "    data[['goods_has_discount_sum','goods_has_discount_ave']] = \\\n",
    "        raw.groupby('customer_id')['goods_has_discount'].agg({'goods_has_discount_sum':np.sum,'goods_has_discount_ave':np.mean})\n",
    "    \n",
    "    data[['order_total_payment_sum','order_total_ave_pay']] = \\\n",
    "        raw.groupby('customer_id')['order_total_payment'].agg({'order_total_payment_sum':np.sum,'order_total_ave_pay':np.mean})\n",
    "    \n",
    "    data[['order_total_num_sum', 'order_total_num_ave']] = \\\n",
    "        raw.groupby('customer_id')['order_total_num'].agg({'order_total_num_sum':np.sum,'order_total_num_ave':np.mean})\n",
    "    \n",
    "    data[['order_count_sum', 'order_count_ave']] = \\\n",
    "        raw.groupby('customer_id')['order_count'].agg({'order_count_sum':np.sum,'order_count_ave':np.mean})\n",
    "    \n",
    "    # data[['']]\n",
    "    \n",
    "    def time2multi(x):\n",
    "        t=datetime.datetime.strptime(x, '%Y-%m-%d %H:%M:%S')\n",
    "        return pd.Series([t.month,t.day,t.weekday(),t.hour,t.minute,t.second])\n",
    "    \n",
    "    data[['order_pay_time_last_m','order_pay_time_last_d','order_pay_time_last_week','order_pay_time_last_h','order_pay_time_last_min','order_pay_time_last_s']]=data['order_pay_time_last'].apply(time2multi)\n",
    "    t_str='2013-01-01 00:00:00'\n",
    "    t=datetime.datetime.strptime(t_str, '%Y-%m-%d %H:%M:%S')\n",
    "    data['goods_list_time_diff'] = data['goods_list_time_last'].map(lambda x:(datetime.datetime.strptime(x, '%Y-%m-%d %H:%M:%S')-t).days/364)\n",
    "    data['goods_delist_time_diff'] = data['goods_delist_time_last'].map(lambda x:(datetime.datetime.strptime(x, '%Y-%m-%d %H:%M:%S')-t).days/364)\n",
    "    data['goods_diff'] = data['goods_delist_time_diff'] - data['goods_list_time_diff']\n",
    "    data['order_pay_time_last_diff'] = data['order_pay_time_last'].map(lambda x:(datetime.datetime.strptime(x, '%Y-%m-%d %H:%M:%S')-t).days/364)\n",
    "    \n",
    "    data = data.drop(['goods_list_time_last', 'goods_delist_time_last', 'order_pay_time_last'], axis=1)\n",
    "    data = data.fillna(0)\n",
    "    \n",
    "    ed = time.time()\n",
    "    print(ed-st)\n",
    "    \n",
    "    return data"
   ]
  },
  {
   "cell_type": "code",
   "execution_count": 10,
   "metadata": {},
   "outputs": [
    {
     "name": "stderr",
     "output_type": "stream",
     "text": [
      "C:\\ProgramData\\Anaconda3\\envs\\tf\\lib\\site-packages\\ipykernel_launcher.py:26: FutureWarning: using a dict on a Series for aggregation\n",
      "is deprecated and will be removed in a future version. Use                 named aggregation instead.\n",
      "\n",
      "    >>> grouper.agg(name_1=func_1, name_2=func_2)\n",
      "\n",
      "C:\\ProgramData\\Anaconda3\\envs\\tf\\lib\\site-packages\\ipykernel_launcher.py:30: FutureWarning: using a dict on a Series for aggregation\n",
      "is deprecated and will be removed in a future version. Use                 named aggregation instead.\n",
      "\n",
      "    >>> grouper.agg(name_1=func_1, name_2=func_2)\n",
      "\n",
      "C:\\ProgramData\\Anaconda3\\envs\\tf\\lib\\site-packages\\ipykernel_launcher.py:34: FutureWarning: using a dict on a Series for aggregation\n",
      "is deprecated and will be removed in a future version. Use                 named aggregation instead.\n",
      "\n",
      "    >>> grouper.agg(name_1=func_1, name_2=func_2)\n",
      "\n",
      "C:\\ProgramData\\Anaconda3\\envs\\tf\\lib\\site-packages\\ipykernel_launcher.py:38: FutureWarning: using a dict on a Series for aggregation\n",
      "is deprecated and will be removed in a future version. Use                 named aggregation instead.\n",
      "\n",
      "    >>> grouper.agg(name_1=func_1, name_2=func_2)\n",
      "\n",
      "C:\\ProgramData\\Anaconda3\\envs\\tf\\lib\\site-packages\\ipykernel_launcher.py:42: FutureWarning: using a dict on a Series for aggregation\n",
      "is deprecated and will be removed in a future version. Use                 named aggregation instead.\n",
      "\n",
      "    >>> grouper.agg(name_1=func_1, name_2=func_2)\n",
      "\n",
      "C:\\ProgramData\\Anaconda3\\envs\\tf\\lib\\site-packages\\ipykernel_launcher.py:46: FutureWarning: using a dict on a Series for aggregation\n",
      "is deprecated and will be removed in a future version. Use                 named aggregation instead.\n",
      "\n",
      "    >>> grouper.agg(name_1=func_1, name_2=func_2)\n",
      "\n",
      "C:\\ProgramData\\Anaconda3\\envs\\tf\\lib\\site-packages\\ipykernel_launcher.py:50: FutureWarning: using a dict on a Series for aggregation\n",
      "is deprecated and will be removed in a future version. Use                 named aggregation instead.\n",
      "\n",
      "    >>> grouper.agg(name_1=func_1, name_2=func_2)\n",
      "\n",
      "C:\\ProgramData\\Anaconda3\\envs\\tf\\lib\\site-packages\\ipykernel_launcher.py:53: FutureWarning: using a dict on a Series for aggregation\n",
      "is deprecated and will be removed in a future version. Use                 named aggregation instead.\n",
      "\n",
      "    >>> grouper.agg(name_1=func_1, name_2=func_2)\n",
      "\n",
      "C:\\ProgramData\\Anaconda3\\envs\\tf\\lib\\site-packages\\ipykernel_launcher.py:56: FutureWarning: using a dict on a Series for aggregation\n",
      "is deprecated and will be removed in a future version. Use                 named aggregation instead.\n",
      "\n",
      "    >>> grouper.agg(name_1=func_1, name_2=func_2)\n",
      "\n",
      "C:\\ProgramData\\Anaconda3\\envs\\tf\\lib\\site-packages\\ipykernel_launcher.py:59: FutureWarning: using a dict on a Series for aggregation\n",
      "is deprecated and will be removed in a future version. Use                 named aggregation instead.\n",
      "\n",
      "    >>> grouper.agg(name_1=func_1, name_2=func_2)\n",
      "\n",
      "C:\\ProgramData\\Anaconda3\\envs\\tf\\lib\\site-packages\\ipykernel_launcher.py:62: FutureWarning: using a dict on a Series for aggregation\n",
      "is deprecated and will be removed in a future version. Use                 named aggregation instead.\n",
      "\n",
      "    >>> grouper.agg(name_1=func_1, name_2=func_2)\n",
      "\n",
      "C:\\ProgramData\\Anaconda3\\envs\\tf\\lib\\site-packages\\ipykernel_launcher.py:65: FutureWarning: using a dict on a Series for aggregation\n",
      "is deprecated and will be removed in a future version. Use                 named aggregation instead.\n",
      "\n",
      "    >>> grouper.agg(name_1=func_1, name_2=func_2)\n",
      "\n"
     ]
    },
    {
     "name": "stdout",
     "output_type": "stream",
     "text": [
      "275.8696024417877\n",
      "305.366619348526\n"
     ]
    }
   ],
   "source": [
    "train_raw = raw[raw['order_pay_time'] < '2013-07-31 23:59:59']\n",
    "train_raw = prerpocess(train_raw)\n",
    "label_raw = set(raw[raw['order_pay_time'] > '2013-07-31 23:59:59']['customer_id'].dropna())\n",
    "train_raw['labels']=train_raw.index.map(lambda x:int(x in label_raw))\n",
    "test = prerpocess(raw)\n",
    "test['labels'] = 0\n",
    "test_raw = test"
   ]
  },
  {
   "cell_type": "code",
   "execution_count": 11,
   "metadata": {},
   "outputs": [
    {
     "data": {
      "text/plain": [
       "Index(['customer_gender', 'goods_id_last', 'goods_status_last',\n",
       "       'goods_price_last', 'goods_has_discount_last', 'order_total_num_last',\n",
       "       'order_amount_last', 'order_total_payment_last',\n",
       "       'order_total_discount_last', 'order_status_last', 'order_count_last',\n",
       "       'is_customer_rate_last', 'order_detail_status_last',\n",
       "       'order_detail_goods_num_last', 'order_detail_amount_last',\n",
       "       'order_detail_payment_last', 'order_detail_discount_last', 'count',\n",
       "       'goods_count', 'order_detail_count', 'customer_province',\n",
       "       'customer_city', 'good_price_std', 'good_price_mean', 'good_price_min',\n",
       "       'good_price_max', 'good_price_sum', 'order_detail_payment_std',\n",
       "       'order_detail_payment_mean', 'order_detail_payment_min',\n",
       "       'order_detail_payment_max', 'order_detail_payment_sum',\n",
       "       'order_detail_discount_std', 'order_detail_discount_mean',\n",
       "       'order_detail_discount_min', 'order_detail_discount_max',\n",
       "       'order_detail_discount_sum', 'order_detail_amount_std',\n",
       "       'order_detail_amount_mean', 'order_detail_amount_min',\n",
       "       'order_detail_amount_max', 'order_detail_amount_sum',\n",
       "       'order_detail_goods_num_std', 'order_detail_goods_num_mean',\n",
       "       'order_detail_goods_num_min', 'order_detail_goods_num_max',\n",
       "       'order_detail_goods_num_sum', 'order_total_num_std',\n",
       "       'order_total_num_mean', 'order_total_num_min', 'order_total_num_max',\n",
       "       'order_total_num_sum', 'order_amount_std', 'order_amount_mean',\n",
       "       'order_amount_min', 'order_amount_max', 'order_amount_sum',\n",
       "       'is_customer_rate_ratio', 'is_customer_rate_sum',\n",
       "       'goods_has_discount_sum', 'goods_has_discount_ave',\n",
       "       'order_total_payment_sum', 'order_total_ave_pay', 'order_total_num_ave',\n",
       "       'order_count_sum', 'order_count_ave', 'order_pay_time_last_m',\n",
       "       'order_pay_time_last_d', 'order_pay_time_last_week',\n",
       "       'order_pay_time_last_h', 'order_pay_time_last_min',\n",
       "       'order_pay_time_last_s', 'goods_list_time_diff',\n",
       "       'goods_delist_time_diff', 'goods_diff', 'order_pay_time_last_diff',\n",
       "       'labels'],\n",
       "      dtype='object')"
      ]
     },
     "execution_count": 11,
     "metadata": {},
     "output_type": "execute_result"
    }
   ],
   "source": [
    "train_raw.columns"
   ]
  },
  {
   "cell_type": "code",
   "execution_count": 12,
   "metadata": {},
   "outputs": [
    {
     "data": {
      "text/plain": [
       "0.000000    1334613\n",
       "1.000000      68860\n",
       "0.500000      19973\n",
       "0.333333       3805\n",
       "0.666667       1999\n",
       "             ...   \n",
       "0.216216          1\n",
       "0.687500          1\n",
       "0.043478          1\n",
       "0.866667          1\n",
       "0.035714          1\n",
       "Name: goods_has_discount_ave, Length: 127, dtype: int64"
      ]
     },
     "execution_count": 12,
     "metadata": {},
     "output_type": "execute_result"
    }
   ],
   "source": [
    "train_raw['goods_has_discount_ave'].value_counts()"
   ]
  },
  {
   "cell_type": "code",
   "execution_count": 13,
   "metadata": {},
   "outputs": [],
   "source": [
    "data = pd.concat([train_raw, test_raw])"
   ]
  },
  {
   "cell_type": "code",
   "execution_count": 14,
   "metadata": {},
   "outputs": [],
   "source": [
    "sparse_features = ['order_pay_time_last_h', 'order_pay_time_last_week', 'order_pay_time_last_m', 'order_detail_status_last', \n",
    "                   'order_status_last', 'goods_status_last', 'goods_id_last', 'customer_gender', 'customer_province', 'customer_city']\n",
    "dense_features = [feature for feature in data.columns if feature not in sparse_features]\n",
    "dense_features.remove('labels')\n",
    "\n",
    "target = ['labels']"
   ]
  },
  {
   "cell_type": "code",
   "execution_count": 15,
   "metadata": {},
   "outputs": [
    {
     "data": {
      "text/plain": [
       "['goods_price_last',\n",
       " 'goods_has_discount_last',\n",
       " 'order_total_num_last',\n",
       " 'order_amount_last',\n",
       " 'order_total_payment_last',\n",
       " 'order_total_discount_last',\n",
       " 'order_count_last',\n",
       " 'is_customer_rate_last',\n",
       " 'order_detail_goods_num_last',\n",
       " 'order_detail_amount_last',\n",
       " 'order_detail_payment_last',\n",
       " 'order_detail_discount_last',\n",
       " 'count',\n",
       " 'goods_count',\n",
       " 'order_detail_count',\n",
       " 'good_price_std',\n",
       " 'good_price_mean',\n",
       " 'good_price_min',\n",
       " 'good_price_max',\n",
       " 'good_price_sum',\n",
       " 'order_detail_payment_std',\n",
       " 'order_detail_payment_mean',\n",
       " 'order_detail_payment_min',\n",
       " 'order_detail_payment_max',\n",
       " 'order_detail_payment_sum',\n",
       " 'order_detail_discount_std',\n",
       " 'order_detail_discount_mean',\n",
       " 'order_detail_discount_min',\n",
       " 'order_detail_discount_max',\n",
       " 'order_detail_discount_sum',\n",
       " 'order_detail_amount_std',\n",
       " 'order_detail_amount_mean',\n",
       " 'order_detail_amount_min',\n",
       " 'order_detail_amount_max',\n",
       " 'order_detail_amount_sum',\n",
       " 'order_detail_goods_num_std',\n",
       " 'order_detail_goods_num_mean',\n",
       " 'order_detail_goods_num_min',\n",
       " 'order_detail_goods_num_max',\n",
       " 'order_detail_goods_num_sum',\n",
       " 'order_total_num_std',\n",
       " 'order_total_num_mean',\n",
       " 'order_total_num_min',\n",
       " 'order_total_num_max',\n",
       " 'order_total_num_sum',\n",
       " 'order_amount_std',\n",
       " 'order_amount_mean',\n",
       " 'order_amount_min',\n",
       " 'order_amount_max',\n",
       " 'order_amount_sum',\n",
       " 'is_customer_rate_ratio',\n",
       " 'is_customer_rate_sum',\n",
       " 'goods_has_discount_sum',\n",
       " 'goods_has_discount_ave',\n",
       " 'order_total_payment_sum',\n",
       " 'order_total_ave_pay',\n",
       " 'order_total_num_ave',\n",
       " 'order_count_sum',\n",
       " 'order_count_ave',\n",
       " 'order_pay_time_last_d',\n",
       " 'order_pay_time_last_min',\n",
       " 'order_pay_time_last_s',\n",
       " 'goods_list_time_diff',\n",
       " 'goods_delist_time_diff',\n",
       " 'goods_diff',\n",
       " 'order_pay_time_last_diff']"
      ]
     },
     "execution_count": 15,
     "metadata": {},
     "output_type": "execute_result"
    }
   ],
   "source": [
    "dense_features"
   ]
  },
  {
   "cell_type": "code",
   "execution_count": 16,
   "metadata": {},
   "outputs": [],
   "source": [
    "from sklearn.preprocessing import LabelEncoder\n",
    "from sklearn.preprocessing import MinMaxScaler\n",
    "# 对特征标签进行编码\n",
    "for feat in sparse_features:\n",
    "    lbe = LabelEncoder()\n",
    "    if feat in ['customer_province', 'customer_city']:\n",
    "        data[feat] = lbe.fit_transform(data[feat].astype(str))\n",
    "    else:\n",
    "        data[feat] = lbe.fit_transform(data[feat])\n",
    "\n",
    "scaler = MinMaxScaler(feature_range=(0, 1))\n",
    "data[dense_features] = scaler.fit_transform(data[dense_features])"
   ]
  },
  {
   "cell_type": "code",
   "execution_count": 17,
   "metadata": {},
   "outputs": [
    {
     "data": {
      "text/plain": [
       "customer_gender             False\n",
       "goods_id_last               False\n",
       "goods_status_last           False\n",
       "goods_price_last            False\n",
       "goods_has_discount_last     False\n",
       "                            ...  \n",
       "goods_list_time_diff        False\n",
       "goods_delist_time_diff      False\n",
       "goods_diff                  False\n",
       "order_pay_time_last_diff    False\n",
       "labels                      False\n",
       "Length: 77, dtype: bool"
      ]
     },
     "execution_count": 17,
     "metadata": {},
     "output_type": "execute_result"
    }
   ],
   "source": [
    "data.isnull().any()"
   ]
  },
  {
   "cell_type": "code",
   "execution_count": 18,
   "metadata": {},
   "outputs": [
    {
     "name": "stderr",
     "output_type": "stream",
     "text": [
      "WARNING:root:\n",
      "DeepCTR version 0.7.4 detected. Your version is 0.7.3.\n",
      "Use `pip install -U deepctr` to upgrade.Changelog: https://github.com/shenweichen/DeepCTR/releases/tag/v0.7.4\n"
     ]
    }
   ],
   "source": [
    "from deepctr.models import *\n",
    "from deepctr.inputs import SparseFeat, DenseFeat, get_feature_names\n",
    "\n",
    "fixlen_feature_columns = [SparseFeat(feat, vocabulary_size=data[feat].nunique(), embedding_dim=4)\n",
    "                        for feat in sparse_features] + [DenseFeat(feat, 1) for feat in dense_features]\n",
    "\n",
    "dnn_feature_columns = fixlen_feature_columns\n",
    "linear_feature_columns = fixlen_feature_columns\n",
    "\n",
    "feature_names = get_feature_names(linear_feature_columns + dnn_feature_columns)"
   ]
  },
  {
   "cell_type": "code",
   "execution_count": 19,
   "metadata": {},
   "outputs": [],
   "source": [
    "train_data = data[:train_raw.shape[0]]\n",
    "test_data = data[train_raw.shape[0]:]"
   ]
  },
  {
   "cell_type": "code",
   "execution_count": 20,
   "metadata": {},
   "outputs": [
    {
     "data": {
      "text/html": [
       "<div>\n",
       "<style scoped>\n",
       "    .dataframe tbody tr th:only-of-type {\n",
       "        vertical-align: middle;\n",
       "    }\n",
       "\n",
       "    .dataframe tbody tr th {\n",
       "        vertical-align: top;\n",
       "    }\n",
       "\n",
       "    .dataframe thead th {\n",
       "        text-align: right;\n",
       "    }\n",
       "</style>\n",
       "<table border=\"1\" class=\"dataframe\">\n",
       "  <thead>\n",
       "    <tr style=\"text-align: right;\">\n",
       "      <th></th>\n",
       "      <th>customer_gender</th>\n",
       "      <th>goods_id_last</th>\n",
       "      <th>goods_status_last</th>\n",
       "      <th>goods_price_last</th>\n",
       "      <th>goods_has_discount_last</th>\n",
       "      <th>order_total_num_last</th>\n",
       "      <th>order_amount_last</th>\n",
       "      <th>order_total_payment_last</th>\n",
       "      <th>order_total_discount_last</th>\n",
       "      <th>order_status_last</th>\n",
       "      <th>...</th>\n",
       "      <th>order_pay_time_last_d</th>\n",
       "      <th>order_pay_time_last_week</th>\n",
       "      <th>order_pay_time_last_h</th>\n",
       "      <th>order_pay_time_last_min</th>\n",
       "      <th>order_pay_time_last_s</th>\n",
       "      <th>goods_list_time_diff</th>\n",
       "      <th>goods_delist_time_diff</th>\n",
       "      <th>goods_diff</th>\n",
       "      <th>order_pay_time_last_diff</th>\n",
       "      <th>labels</th>\n",
       "    </tr>\n",
       "    <tr>\n",
       "      <th>customer_id</th>\n",
       "      <th></th>\n",
       "      <th></th>\n",
       "      <th></th>\n",
       "      <th></th>\n",
       "      <th></th>\n",
       "      <th></th>\n",
       "      <th></th>\n",
       "      <th></th>\n",
       "      <th></th>\n",
       "      <th></th>\n",
       "      <th></th>\n",
       "      <th></th>\n",
       "      <th></th>\n",
       "      <th></th>\n",
       "      <th></th>\n",
       "      <th></th>\n",
       "      <th></th>\n",
       "      <th></th>\n",
       "      <th></th>\n",
       "      <th></th>\n",
       "      <th></th>\n",
       "    </tr>\n",
       "  </thead>\n",
       "  <tbody>\n",
       "    <tr>\n",
       "      <th>1000000</th>\n",
       "      <td>0</td>\n",
       "      <td>0</td>\n",
       "      <td>1</td>\n",
       "      <td>0.734675</td>\n",
       "      <td>0.0</td>\n",
       "      <td>0.000000</td>\n",
       "      <td>0.002343</td>\n",
       "      <td>0.000985</td>\n",
       "      <td>0.000000</td>\n",
       "      <td>4</td>\n",
       "      <td>...</td>\n",
       "      <td>0.000000</td>\n",
       "      <td>3</td>\n",
       "      <td>0</td>\n",
       "      <td>0.169492</td>\n",
       "      <td>0.949153</td>\n",
       "      <td>0.975098</td>\n",
       "      <td>0.999341</td>\n",
       "      <td>1.0</td>\n",
       "      <td>0.000000</td>\n",
       "      <td>0</td>\n",
       "    </tr>\n",
       "    <tr>\n",
       "      <th>1000034</th>\n",
       "      <td>0</td>\n",
       "      <td>0</td>\n",
       "      <td>1</td>\n",
       "      <td>0.733734</td>\n",
       "      <td>0.0</td>\n",
       "      <td>0.001016</td>\n",
       "      <td>0.002928</td>\n",
       "      <td>0.001015</td>\n",
       "      <td>0.000000</td>\n",
       "      <td>4</td>\n",
       "      <td>...</td>\n",
       "      <td>0.233333</td>\n",
       "      <td>4</td>\n",
       "      <td>10</td>\n",
       "      <td>0.355932</td>\n",
       "      <td>0.491525</td>\n",
       "      <td>0.975098</td>\n",
       "      <td>0.999341</td>\n",
       "      <td>1.0</td>\n",
       "      <td>0.419142</td>\n",
       "      <td>0</td>\n",
       "    </tr>\n",
       "    <tr>\n",
       "      <th>1000046</th>\n",
       "      <td>0</td>\n",
       "      <td>46</td>\n",
       "      <td>1</td>\n",
       "      <td>0.658437</td>\n",
       "      <td>1.0</td>\n",
       "      <td>0.000000</td>\n",
       "      <td>0.000781</td>\n",
       "      <td>0.000405</td>\n",
       "      <td>0.000000</td>\n",
       "      <td>4</td>\n",
       "      <td>...</td>\n",
       "      <td>0.200000</td>\n",
       "      <td>4</td>\n",
       "      <td>12</td>\n",
       "      <td>0.745763</td>\n",
       "      <td>0.915254</td>\n",
       "      <td>0.975098</td>\n",
       "      <td>0.999341</td>\n",
       "      <td>1.0</td>\n",
       "      <td>0.719472</td>\n",
       "      <td>0</td>\n",
       "    </tr>\n",
       "    <tr>\n",
       "      <th>1000048</th>\n",
       "      <td>0</td>\n",
       "      <td>0</td>\n",
       "      <td>1</td>\n",
       "      <td>0.734375</td>\n",
       "      <td>0.0</td>\n",
       "      <td>0.000000</td>\n",
       "      <td>0.002343</td>\n",
       "      <td>0.000914</td>\n",
       "      <td>0.000000</td>\n",
       "      <td>4</td>\n",
       "      <td>...</td>\n",
       "      <td>0.366667</td>\n",
       "      <td>2</td>\n",
       "      <td>0</td>\n",
       "      <td>0.169492</td>\n",
       "      <td>0.000000</td>\n",
       "      <td>0.975098</td>\n",
       "      <td>0.999341</td>\n",
       "      <td>1.0</td>\n",
       "      <td>0.135314</td>\n",
       "      <td>0</td>\n",
       "    </tr>\n",
       "    <tr>\n",
       "      <th>1000069</th>\n",
       "      <td>0</td>\n",
       "      <td>10</td>\n",
       "      <td>1</td>\n",
       "      <td>0.673600</td>\n",
       "      <td>1.0</td>\n",
       "      <td>0.002033</td>\n",
       "      <td>0.002480</td>\n",
       "      <td>0.001014</td>\n",
       "      <td>0.000000</td>\n",
       "      <td>4</td>\n",
       "      <td>...</td>\n",
       "      <td>0.400000</td>\n",
       "      <td>5</td>\n",
       "      <td>23</td>\n",
       "      <td>0.711864</td>\n",
       "      <td>0.254237</td>\n",
       "      <td>0.979030</td>\n",
       "      <td>0.999506</td>\n",
       "      <td>1.0</td>\n",
       "      <td>0.838284</td>\n",
       "      <td>0</td>\n",
       "    </tr>\n",
       "    <tr>\n",
       "      <th>...</th>\n",
       "      <td>...</td>\n",
       "      <td>...</td>\n",
       "      <td>...</td>\n",
       "      <td>...</td>\n",
       "      <td>...</td>\n",
       "      <td>...</td>\n",
       "      <td>...</td>\n",
       "      <td>...</td>\n",
       "      <td>...</td>\n",
       "      <td>...</td>\n",
       "      <td>...</td>\n",
       "      <td>...</td>\n",
       "      <td>...</td>\n",
       "      <td>...</td>\n",
       "      <td>...</td>\n",
       "      <td>...</td>\n",
       "      <td>...</td>\n",
       "      <td>...</td>\n",
       "      <td>...</td>\n",
       "      <td>...</td>\n",
       "      <td>...</td>\n",
       "    </tr>\n",
       "    <tr>\n",
       "      <th>2826569</th>\n",
       "      <td>0</td>\n",
       "      <td>39</td>\n",
       "      <td>1</td>\n",
       "      <td>0.762589</td>\n",
       "      <td>0.0</td>\n",
       "      <td>0.002033</td>\n",
       "      <td>0.006826</td>\n",
       "      <td>0.002612</td>\n",
       "      <td>0.015085</td>\n",
       "      <td>4</td>\n",
       "      <td>...</td>\n",
       "      <td>0.366667</td>\n",
       "      <td>2</td>\n",
       "      <td>0</td>\n",
       "      <td>0.000000</td>\n",
       "      <td>0.254237</td>\n",
       "      <td>0.973788</td>\n",
       "      <td>0.999286</td>\n",
       "      <td>1.0</td>\n",
       "      <td>0.135314</td>\n",
       "      <td>0</td>\n",
       "    </tr>\n",
       "    <tr>\n",
       "      <th>2826571</th>\n",
       "      <td>0</td>\n",
       "      <td>5</td>\n",
       "      <td>1</td>\n",
       "      <td>0.697230</td>\n",
       "      <td>0.0</td>\n",
       "      <td>0.000000</td>\n",
       "      <td>0.001269</td>\n",
       "      <td>0.000609</td>\n",
       "      <td>0.000000</td>\n",
       "      <td>4</td>\n",
       "      <td>...</td>\n",
       "      <td>0.566667</td>\n",
       "      <td>4</td>\n",
       "      <td>10</td>\n",
       "      <td>0.406780</td>\n",
       "      <td>1.000000</td>\n",
       "      <td>0.979030</td>\n",
       "      <td>0.999506</td>\n",
       "      <td>1.0</td>\n",
       "      <td>0.257426</td>\n",
       "      <td>0</td>\n",
       "    </tr>\n",
       "    <tr>\n",
       "      <th>2826572</th>\n",
       "      <td>0</td>\n",
       "      <td>118</td>\n",
       "      <td>1</td>\n",
       "      <td>0.721483</td>\n",
       "      <td>0.0</td>\n",
       "      <td>0.003049</td>\n",
       "      <td>0.006913</td>\n",
       "      <td>0.002423</td>\n",
       "      <td>0.022146</td>\n",
       "      <td>4</td>\n",
       "      <td>...</td>\n",
       "      <td>0.766667</td>\n",
       "      <td>3</td>\n",
       "      <td>0</td>\n",
       "      <td>0.406780</td>\n",
       "      <td>0.677966</td>\n",
       "      <td>0.979030</td>\n",
       "      <td>0.999506</td>\n",
       "      <td>1.0</td>\n",
       "      <td>0.277228</td>\n",
       "      <td>0</td>\n",
       "    </tr>\n",
       "    <tr>\n",
       "      <th>2826573</th>\n",
       "      <td>0</td>\n",
       "      <td>114</td>\n",
       "      <td>1</td>\n",
       "      <td>0.721231</td>\n",
       "      <td>0.0</td>\n",
       "      <td>0.000000</td>\n",
       "      <td>0.001944</td>\n",
       "      <td>0.000609</td>\n",
       "      <td>0.000000</td>\n",
       "      <td>4</td>\n",
       "      <td>...</td>\n",
       "      <td>0.300000</td>\n",
       "      <td>3</td>\n",
       "      <td>19</td>\n",
       "      <td>0.406780</td>\n",
       "      <td>0.525424</td>\n",
       "      <td>0.975098</td>\n",
       "      <td>0.999341</td>\n",
       "      <td>1.0</td>\n",
       "      <td>0.231023</td>\n",
       "      <td>0</td>\n",
       "    </tr>\n",
       "    <tr>\n",
       "      <th>2826574</th>\n",
       "      <td>0</td>\n",
       "      <td>10</td>\n",
       "      <td>1</td>\n",
       "      <td>0.672357</td>\n",
       "      <td>1.0</td>\n",
       "      <td>0.000000</td>\n",
       "      <td>0.000996</td>\n",
       "      <td>0.000507</td>\n",
       "      <td>0.000000</td>\n",
       "      <td>4</td>\n",
       "      <td>...</td>\n",
       "      <td>0.300000</td>\n",
       "      <td>2</td>\n",
       "      <td>14</td>\n",
       "      <td>0.372881</td>\n",
       "      <td>0.237288</td>\n",
       "      <td>0.979030</td>\n",
       "      <td>0.999506</td>\n",
       "      <td>1.0</td>\n",
       "      <td>0.828383</td>\n",
       "      <td>0</td>\n",
       "    </tr>\n",
       "  </tbody>\n",
       "</table>\n",
       "<p>1435404 rows × 77 columns</p>\n",
       "</div>"
      ],
      "text/plain": [
       "             customer_gender  goods_id_last  goods_status_last  \\\n",
       "customer_id                                                      \n",
       "1000000                    0              0                  1   \n",
       "1000034                    0              0                  1   \n",
       "1000046                    0             46                  1   \n",
       "1000048                    0              0                  1   \n",
       "1000069                    0             10                  1   \n",
       "...                      ...            ...                ...   \n",
       "2826569                    0             39                  1   \n",
       "2826571                    0              5                  1   \n",
       "2826572                    0            118                  1   \n",
       "2826573                    0            114                  1   \n",
       "2826574                    0             10                  1   \n",
       "\n",
       "             goods_price_last  goods_has_discount_last  order_total_num_last  \\\n",
       "customer_id                                                                    \n",
       "1000000              0.734675                      0.0              0.000000   \n",
       "1000034              0.733734                      0.0              0.001016   \n",
       "1000046              0.658437                      1.0              0.000000   \n",
       "1000048              0.734375                      0.0              0.000000   \n",
       "1000069              0.673600                      1.0              0.002033   \n",
       "...                       ...                      ...                   ...   \n",
       "2826569              0.762589                      0.0              0.002033   \n",
       "2826571              0.697230                      0.0              0.000000   \n",
       "2826572              0.721483                      0.0              0.003049   \n",
       "2826573              0.721231                      0.0              0.000000   \n",
       "2826574              0.672357                      1.0              0.000000   \n",
       "\n",
       "             order_amount_last  order_total_payment_last  \\\n",
       "customer_id                                                \n",
       "1000000               0.002343                  0.000985   \n",
       "1000034               0.002928                  0.001015   \n",
       "1000046               0.000781                  0.000405   \n",
       "1000048               0.002343                  0.000914   \n",
       "1000069               0.002480                  0.001014   \n",
       "...                        ...                       ...   \n",
       "2826569               0.006826                  0.002612   \n",
       "2826571               0.001269                  0.000609   \n",
       "2826572               0.006913                  0.002423   \n",
       "2826573               0.001944                  0.000609   \n",
       "2826574               0.000996                  0.000507   \n",
       "\n",
       "             order_total_discount_last  order_status_last  ...  \\\n",
       "customer_id                                                ...   \n",
       "1000000                       0.000000                  4  ...   \n",
       "1000034                       0.000000                  4  ...   \n",
       "1000046                       0.000000                  4  ...   \n",
       "1000048                       0.000000                  4  ...   \n",
       "1000069                       0.000000                  4  ...   \n",
       "...                                ...                ...  ...   \n",
       "2826569                       0.015085                  4  ...   \n",
       "2826571                       0.000000                  4  ...   \n",
       "2826572                       0.022146                  4  ...   \n",
       "2826573                       0.000000                  4  ...   \n",
       "2826574                       0.000000                  4  ...   \n",
       "\n",
       "             order_pay_time_last_d  order_pay_time_last_week  \\\n",
       "customer_id                                                    \n",
       "1000000                   0.000000                         3   \n",
       "1000034                   0.233333                         4   \n",
       "1000046                   0.200000                         4   \n",
       "1000048                   0.366667                         2   \n",
       "1000069                   0.400000                         5   \n",
       "...                            ...                       ...   \n",
       "2826569                   0.366667                         2   \n",
       "2826571                   0.566667                         4   \n",
       "2826572                   0.766667                         3   \n",
       "2826573                   0.300000                         3   \n",
       "2826574                   0.300000                         2   \n",
       "\n",
       "             order_pay_time_last_h  order_pay_time_last_min  \\\n",
       "customer_id                                                   \n",
       "1000000                          0                 0.169492   \n",
       "1000034                         10                 0.355932   \n",
       "1000046                         12                 0.745763   \n",
       "1000048                          0                 0.169492   \n",
       "1000069                         23                 0.711864   \n",
       "...                            ...                      ...   \n",
       "2826569                          0                 0.000000   \n",
       "2826571                         10                 0.406780   \n",
       "2826572                          0                 0.406780   \n",
       "2826573                         19                 0.406780   \n",
       "2826574                         14                 0.372881   \n",
       "\n",
       "             order_pay_time_last_s  goods_list_time_diff  \\\n",
       "customer_id                                                \n",
       "1000000                   0.949153              0.975098   \n",
       "1000034                   0.491525              0.975098   \n",
       "1000046                   0.915254              0.975098   \n",
       "1000048                   0.000000              0.975098   \n",
       "1000069                   0.254237              0.979030   \n",
       "...                            ...                   ...   \n",
       "2826569                   0.254237              0.973788   \n",
       "2826571                   1.000000              0.979030   \n",
       "2826572                   0.677966              0.979030   \n",
       "2826573                   0.525424              0.975098   \n",
       "2826574                   0.237288              0.979030   \n",
       "\n",
       "             goods_delist_time_diff  goods_diff  order_pay_time_last_diff  \\\n",
       "customer_id                                                                 \n",
       "1000000                    0.999341         1.0                  0.000000   \n",
       "1000034                    0.999341         1.0                  0.419142   \n",
       "1000046                    0.999341         1.0                  0.719472   \n",
       "1000048                    0.999341         1.0                  0.135314   \n",
       "1000069                    0.999506         1.0                  0.838284   \n",
       "...                             ...         ...                       ...   \n",
       "2826569                    0.999286         1.0                  0.135314   \n",
       "2826571                    0.999506         1.0                  0.257426   \n",
       "2826572                    0.999506         1.0                  0.277228   \n",
       "2826573                    0.999341         1.0                  0.231023   \n",
       "2826574                    0.999506         1.0                  0.828383   \n",
       "\n",
       "             labels  \n",
       "customer_id          \n",
       "1000000           0  \n",
       "1000034           0  \n",
       "1000046           0  \n",
       "1000048           0  \n",
       "1000069           0  \n",
       "...             ...  \n",
       "2826569           0  \n",
       "2826571           0  \n",
       "2826572           0  \n",
       "2826573           0  \n",
       "2826574           0  \n",
       "\n",
       "[1435404 rows x 77 columns]"
      ]
     },
     "execution_count": 20,
     "metadata": {},
     "output_type": "execute_result"
    }
   ],
   "source": [
    "train_data"
   ]
  },
  {
   "cell_type": "code",
   "execution_count": 21,
   "metadata": {},
   "outputs": [
    {
     "data": {
      "text/plain": [
       "(1585986, 77)"
      ]
     },
     "execution_count": 21,
     "metadata": {},
     "output_type": "execute_result"
    }
   ],
   "source": [
    "test_data.shape"
   ]
  },
  {
   "cell_type": "code",
   "execution_count": 22,
   "metadata": {},
   "outputs": [],
   "source": [
    "train_model_input = {name: train_data[name] for name in feature_names}\n",
    "test_model_input = {name: test_data[name] for name in feature_names}"
   ]
  },
  {
   "cell_type": "code",
   "execution_count": 23,
   "metadata": {},
   "outputs": [],
   "source": [
    "from tensorflow.keras import callbacks\n",
    "from tensorflow.keras.callbacks import EarlyStopping\n",
    "import matplotlib.pyplot as plt\n",
    "\n",
    "class LossHistory(callbacks.Callback):\n",
    "    def on_train_begin(self, logs={}):\n",
    "        self.losses = {'batch': [], 'epoch': []}\n",
    "        self.binary_crossentropy = {'batch': [], 'epoch': []}\n",
    "        self.val_loss = {'batch': [], 'epoch': []}\n",
    "        self.val_binary_crossentropy = {'batch': [], 'epoch': []}\n",
    "\n",
    "    def on_batch_end(self, batch, logs={}):\n",
    "        self.losses['batch'].append(logs.get('loss'))\n",
    "        self.binary_crossentropy['batch'].append(logs.get('binary_crossentropy'))\n",
    "        self.val_loss['batch'].append(logs.get('val_loss'))\n",
    "        self.val_binary_crossentropy['batch'].append(logs.get('val_acc'))\n",
    "\n",
    "    def on_epoch_end(self, batch, logs={}):\n",
    "        self.losses['epoch'].append(logs.get('loss'))\n",
    "        self.binary_crossentropy['epoch'].append(logs.get('binary_crossentropy'))\n",
    "        self.val_loss['epoch'].append(logs.get('val_loss'))\n",
    "        self.val_binary_crossentropy['epoch'].append(logs.get('val_binary_crossentropy'))\n",
    "\n",
    "    def loss_plot(self, loss_type):\n",
    "        iters = range(len(self.losses[loss_type]))\n",
    "        plt.figure()\n",
    "        # acc\n",
    "        plt.plot(iters, self.binary_crossentropy[loss_type], 'r', label='train binary_crossentropy')\n",
    "        # loss\n",
    "        plt.plot(iters, self.losses[loss_type], 'g', label='train loss')\n",
    "        if loss_type == 'epoch':\n",
    "            # val_acc\n",
    "            plt.plot(iters, self.val_binary_crossentropy[loss_type], 'b', label='val binary_crossentropy')\n",
    "            # val_loss\n",
    "            plt.plot(iters, self.val_loss[loss_type], 'k', label='val loss')\n",
    "        plt.grid(True)\n",
    "        plt.xlabel(loss_type)\n",
    "        plt.ylabel('acc-loss')\n",
    "        plt.legend(loc=\"upper right\")\n",
    "        plt.show()"
   ]
  },
  {
   "cell_type": "code",
   "execution_count": 24,
   "metadata": {},
   "outputs": [],
   "source": [
    "def train_model(model, name):\n",
    "    model.compile(\"adam\", \"binary_crossentropy\", metrics=[\"binary_crossentropy\"])\n",
    "    es = EarlyStopping(monitor='val_binary_crossentropy', mode='min')\n",
    "    history = LossHistory()\n",
    "    his = model.fit(train_model_input, train_data[target].values, callbacks = [es, history], batch_size=256, epochs = 10, verbose=2, validation_split = 0.2, class_weight={0:1.0, 1:40.0})\n",
    "    print(\"Model {0}'s training log ...\".format(name))\n",
    "    history.loss_plot('epoch')"
   ]
  },
  {
   "cell_type": "code",
   "execution_count": 25,
   "metadata": {},
   "outputs": [],
   "source": [
    "def f(x):\n",
    "    x = round(x, 5)\n",
    "    if x < 0.1:\n",
    "        return 0.1\n",
    "    if x > 0.9:\n",
    "        return 0.9\n",
    "    return x"
   ]
  },
  {
   "cell_type": "code",
   "execution_count": 26,
   "metadata": {},
   "outputs": [],
   "source": [
    "def predict_and_output(model, name, issamples=True):\n",
    "    y_pred = model.predict(test_model_input, batch_size=256)\n",
    "    test['result'] = y_pred\n",
    "    test['result'] = test['result'].map(f)\n",
    "    subm = pd.DataFrame(test['result'])\n",
    "    if issamples:\n",
    "        subm.to_csv('submissions/submission_{0}_s.csv'.format(name))\n",
    "    else:\n",
    "        subm.to_csv('submissions/submission_{0}.csv'.format(name))"
   ]
  },
  {
   "cell_type": "code",
   "execution_count": 27,
   "metadata": {},
   "outputs": [],
   "source": [
    "models = {}\n",
    "models['DeepFM'] = DeepFM(linear_feature_columns, dnn_feature_columns, task = 'binary')\n",
    "models['Wide&Deep'] = WDL(linear_feature_columns, dnn_feature_columns, task='binary')\n",
    "models['AutoInt'] = AutoInt(linear_feature_columns, dnn_feature_columns, task='binary')\n",
    "models['xDeepFM'] = xDeepFM(linear_feature_columns, dnn_feature_columns, task='binary')"
   ]
  },
  {
   "cell_type": "code",
   "execution_count": 28,
   "metadata": {},
   "outputs": [
    {
     "name": "stderr",
     "output_type": "stream",
     "text": [
      "WARNING:tensorflow:sample_weight modes were coerced from\n",
      "  ...\n",
      "    to  \n",
      "  ['...']\n",
      "WARNING:tensorflow:sample_weight modes were coerced from\n",
      "  ...\n",
      "    to  \n",
      "  ['...']\n"
     ]
    },
    {
     "name": "stdout",
     "output_type": "stream",
     "text": [
      "Train on 1148323 samples, validate on 287081 samples\n",
      "Epoch 1/10\n"
     ]
    },
    {
     "name": "stderr",
     "output_type": "stream",
     "text": [
      "C:\\ProgramData\\Anaconda3\\envs\\tf\\lib\\site-packages\\tensorflow_core\\python\\framework\\indexed_slices.py:433: UserWarning: Converting sparse IndexedSlices to a dense Tensor of unknown shape. This may consume a large amount of memory.\n",
      "  \"Converting sparse IndexedSlices to a dense Tensor of unknown shape. \"\n",
      "C:\\ProgramData\\Anaconda3\\envs\\tf\\lib\\site-packages\\tensorflow_core\\python\\framework\\indexed_slices.py:433: UserWarning: Converting sparse IndexedSlices to a dense Tensor of unknown shape. This may consume a large amount of memory.\n",
      "  \"Converting sparse IndexedSlices to a dense Tensor of unknown shape. \"\n"
     ]
    },
    {
     "name": "stdout",
     "output_type": "stream",
     "text": [
      "1148323/1148323 - 67s - loss: 0.7695 - binary_crossentropy: 0.3347 - val_loss: 1.5046 - val_binary_crossentropy: 0.4389\n",
      "Epoch 2/10\n",
      "1148323/1148323 - 63s - loss: 0.7384 - binary_crossentropy: 0.3209 - val_loss: 1.4584 - val_binary_crossentropy: 0.4843\n",
      "Model DeepFM's training log ...\n"
     ]
    },
    {
     "data": {
      "image/png": "[encoded data removed]",
      "text/plain": [
       "<Figure size 432x288 with 1 Axes>"
      ]
     },
     "metadata": {
      "needs_background": "light"
     },
     "output_type": "display_data"
    },
    {
     "name": "stderr",
     "output_type": "stream",
     "text": [
      "WARNING:tensorflow:sample_weight modes were coerced from\n",
      "  ...\n",
      "    to  \n",
      "  ['...']\n",
      "WARNING:tensorflow:sample_weight modes were coerced from\n",
      "  ...\n",
      "    to  \n",
      "  ['...']\n"
     ]
    },
    {
     "name": "stdout",
     "output_type": "stream",
     "text": [
      "Train on 1148323 samples, validate on 287081 samples\n",
      "Epoch 1/10\n"
     ]
    },
    {
     "name": "stderr",
     "output_type": "stream",
     "text": [
      "C:\\ProgramData\\Anaconda3\\envs\\tf\\lib\\site-packages\\tensorflow_core\\python\\framework\\indexed_slices.py:433: UserWarning: Converting sparse IndexedSlices to a dense Tensor of unknown shape. This may consume a large amount of memory.\n",
      "  \"Converting sparse IndexedSlices to a dense Tensor of unknown shape. \"\n",
      "C:\\ProgramData\\Anaconda3\\envs\\tf\\lib\\site-packages\\tensorflow_core\\python\\framework\\indexed_slices.py:433: UserWarning: Converting sparse IndexedSlices to a dense Tensor of unknown shape. This may consume a large amount of memory.\n",
      "  \"Converting sparse IndexedSlices to a dense Tensor of unknown shape. \"\n"
     ]
    },
    {
     "name": "stdout",
     "output_type": "stream",
     "text": [
      "1148323/1148323 - 67s - loss: 0.7678 - binary_crossentropy: 0.3351 - val_loss: 1.5774 - val_binary_crossentropy: 0.3778\n",
      "Epoch 2/10\n",
      "1148323/1148323 - 62s - loss: 0.7410 - binary_crossentropy: 0.3218 - val_loss: 1.5245 - val_binary_crossentropy: 0.4125\n",
      "Model Wide&Deep's training log ...\n"
     ]
    },
    {
     "data": {
      "image/png": "[encoded data removed]",
      "text/plain": [
       "<Figure size 432x288 with 1 Axes>"
      ]
     },
     "metadata": {
      "needs_background": "light"
     },
     "output_type": "display_data"
    },
    {
     "name": "stderr",
     "output_type": "stream",
     "text": [
      "WARNING:tensorflow:sample_weight modes were coerced from\n",
      "  ...\n",
      "    to  \n",
      "  ['...']\n",
      "WARNING:tensorflow:sample_weight modes were coerced from\n",
      "  ...\n",
      "    to  \n",
      "  ['...']\n"
     ]
    },
    {
     "name": "stdout",
     "output_type": "stream",
     "text": [
      "Train on 1148323 samples, validate on 287081 samples\n",
      "Epoch 1/10\n"
     ]
    },
    {
     "name": "stderr",
     "output_type": "stream",
     "text": [
      "C:\\ProgramData\\Anaconda3\\envs\\tf\\lib\\site-packages\\tensorflow_core\\python\\framework\\indexed_slices.py:433: UserWarning: Converting sparse IndexedSlices to a dense Tensor of unknown shape. This may consume a large amount of memory.\n",
      "  \"Converting sparse IndexedSlices to a dense Tensor of unknown shape. \"\n",
      "C:\\ProgramData\\Anaconda3\\envs\\tf\\lib\\site-packages\\tensorflow_core\\python\\framework\\indexed_slices.py:433: UserWarning: Converting sparse IndexedSlices to a dense Tensor of unknown shape. This may consume a large amount of memory.\n",
      "  \"Converting sparse IndexedSlices to a dense Tensor of unknown shape. \"\n"
     ]
    },
    {
     "name": "stdout",
     "output_type": "stream",
     "text": [
      "1148323/1148323 - 84s - loss: 0.7673 - binary_crossentropy: 0.3346 - val_loss: 1.8064 - val_binary_crossentropy: 0.2938\n",
      "Epoch 2/10\n",
      "1148323/1148323 - 79s - loss: 0.7402 - binary_crossentropy: 0.3223 - val_loss: 1.5994 - val_binary_crossentropy: 0.3831\n",
      "Model AutoInt's training log ...\n"
     ]
    },
    {
     "data": {
      "image/png": "[encoded data removed]",
      "text/plain": [
       "<Figure size 432x288 with 1 Axes>"
      ]
     },
     "metadata": {
      "needs_background": "light"
     },
     "output_type": "display_data"
    },
    {
     "name": "stderr",
     "output_type": "stream",
     "text": [
      "WARNING:tensorflow:sample_weight modes were coerced from\n",
      "  ...\n",
      "    to  \n",
      "  ['...']\n",
      "WARNING:tensorflow:sample_weight modes were coerced from\n",
      "  ...\n",
      "    to  \n",
      "  ['...']\n"
     ]
    },
    {
     "name": "stdout",
     "output_type": "stream",
     "text": [
      "Train on 1148323 samples, validate on 287081 samples\n",
      "Epoch 1/10\n"
     ]
    },
    {
     "name": "stderr",
     "output_type": "stream",
     "text": [
      "C:\\ProgramData\\Anaconda3\\envs\\tf\\lib\\site-packages\\tensorflow_core\\python\\framework\\indexed_slices.py:433: UserWarning: Converting sparse IndexedSlices to a dense Tensor of unknown shape. This may consume a large amount of memory.\n",
      "  \"Converting sparse IndexedSlices to a dense Tensor of unknown shape. \"\n",
      "C:\\ProgramData\\Anaconda3\\envs\\tf\\lib\\site-packages\\tensorflow_core\\python\\framework\\indexed_slices.py:433: UserWarning: Converting sparse IndexedSlices to a dense Tensor of unknown shape. This may consume a large amount of memory.\n",
      "  \"Converting sparse IndexedSlices to a dense Tensor of unknown shape. \"\n"
     ]
    },
    {
     "name": "stdout",
     "output_type": "stream",
     "text": [
      "1148323/1148323 - 73s - loss: 0.7680 - binary_crossentropy: 0.3339 - val_loss: 1.6138 - val_binary_crossentropy: 0.3691\n",
      "Epoch 2/10\n",
      "1148323/1148323 - 69s - loss: 0.7407 - binary_crossentropy: 0.3216 - val_loss: 1.5262 - val_binary_crossentropy: 0.4122\n",
      "Model xDeepFM's training log ...\n"
     ]
    },
    {
     "data": {
      "image/png": "[encoded data removed]",
      "text/plain": [
       "<Figure size 432x288 with 1 Axes>"
      ]
     },
     "metadata": {
      "needs_background": "light"
     },
     "output_type": "display_data"
    }
   ],
   "source": [
    "for key in models:\n",
    "    train_model(models[key], key)\n",
    "    predict_and_output(models[key], key, issamples)"
   ]
  },
  {
   "cell_type": "code",
   "execution_count": null,
   "metadata": {},
   "outputs": [],
   "source": []
  }
 ],
 "metadata": {
  "kernelspec": {
   "display_name": "Python 3.7.6 64-bit ('tf': conda)",
   "language": "python",
   "name": "python37664bittfconda946bd5c5de684c5d81ef2ce52df4450d"
  },
  "language_info": {
   "codemirror_mode": {
    "name": "ipython",
    "version": 3
   },
   "file_extension": ".py",
   "mimetype": "text/x-python",
   "name": "python",
   "nbconvert_exporter": "python",
   "pygments_lexer": "ipython3",
   "version": "3.7.6"
  }
 },
 "nbformat": 4,
 "nbformat_minor": 4
}
