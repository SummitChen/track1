{
 "cells": [
  {
   "cell_type": "code",
   "execution_count": 1,
   "metadata": {
    "execution_event_id": "2c8881fd-8c9b-49dd-9861-47812508a2a1",
    "last_executed_text": "import pandas as pd\n\nimport numpy as np\n\nimport matplotlib.pyplot as plt\n\n%matplotlib inline",
    "persistent_id": "b81e5ba4-5ba4-4e23-8e2c-e4a9c2728a89"
   },
   "outputs": [],
   "source": [
    "import pandas as pd\n",
    "import numpy as np\n",
    "import matplotlib.pyplot as plt\n",
    "%matplotlib inline"
   ]
  },
  {
   "cell_type": "code",
   "execution_count": 3,
   "metadata": {
    "execution_event_id": "d93bd968-bfdf-4bb1-922f-f1090191d054",
    "last_executed_text": "df = pd.read_csv('train.csv')",
    "persistent_id": "dbd02643-4e4e-4112-a4f1-b90aef4596c9"
   },
   "outputs": [],
   "source": [
    "df = pd.read_csv('train.csv')"
   ]
  },
  {
   "cell_type": "code",
   "execution_count": 5,
   "metadata": {
    "execution_event_id": "75a5a342-fc0e-41f2-b8f7-1b5d99fa1846",
    "last_executed_text": "df.columns",
    "persistent_id": "1f53f083-23ff-4d4f-9421-ca3464a83481"
   },
   "outputs": [
    {
     "data": {
      "text/plain": [
       "Index(['order_detail_id', 'order_id', 'order_total_num', 'order_amount',\n",
       "       'order_total_payment', 'order_total_discount', 'order_pay_time',\n",
       "       'order_status', 'order_count', 'is_customer_rate',\n",
       "       'order_detail_status', 'order_detail_goods_num', 'order_detail_amount',\n",
       "       'order_detail_payment', 'order_detail_discount', 'customer_province',\n",
       "       'customer_city', 'member_id', 'customer_id', 'customer_gender',\n",
       "       'member_status', 'is_member_actived', 'goods_id', 'goods_class_id',\n",
       "       'goods_price', 'goods_status', 'goods_has_discount', 'goods_list_time',\n",
       "       'goods_delist_time'],\n",
       "      dtype='object')"
      ]
     },
     "execution_count": 5,
     "metadata": {},
     "output_type": "execute_result"
    }
   ],
   "source": [
    "df.columns"
   ]
  },
  {
   "cell_type": "code",
   "execution_count": 9,
   "metadata": {
    "execution_event_id": "d415e649-83f4-4356-81e3-c2f43ed23fff",
    "last_executed_text": "df.drop(['order_detail_id', 'order_id', 'order_total_num', 'order_amount',\n       'order_total_payment', 'order_total_discount', 'order_pay_time',\n       'order_status', 'order_count', 'is_customer_rate',\n       'order_detail_status', 'order_detail_goods_num', 'order_detail_amount',\n       'order_detail_payment', 'order_detail_discount', 'customer_province',\n       'customer_city', 'member_id', 'customer_gender',\n       'member_status', 'is_member_actived'], axis=1, inplace=True)",
    "persistent_id": "d0d98175-16b0-4899-bad0-4ffcbee913ec"
   },
   "outputs": [],
   "source": [
    "# 保留商品列\n",
    "df.drop(['order_detail_id', 'order_id', 'order_total_num', 'order_amount',\n",
    "       'order_total_payment', 'order_total_discount', 'order_pay_time',\n",
    "       'order_status', 'order_count', 'is_customer_rate',\n",
    "       'order_detail_status', 'order_detail_goods_num', 'order_detail_amount',\n",
    "       'order_detail_payment', 'order_detail_discount', 'customer_province',\n",
    "       'customer_city', 'member_id', 'customer_gender',\n",
    "       'member_status', 'is_member_actived'], axis=1, inplace=True)"
   ]
  },
  {
   "cell_type": "code",
   "execution_count": 15,
   "metadata": {
    "execution_event_id": "98b8d989-a28f-4953-bc6b-95d871a549a8",
    "last_executed_text": "df.shape",
    "persistent_id": "a7020c23-831a-47cd-b363-90727d687037"
   },
   "outputs": [
    {
     "data": {
      "text/plain": [
       "(2306871, 8)"
      ]
     },
     "execution_count": 15,
     "metadata": {},
     "output_type": "execute_result"
    }
   ],
   "source": [
    "df.shape"
   ]
  },
  {
   "cell_type": "code",
   "execution_count": 16,
   "metadata": {
    "execution_event_id": "b9f6db54-06f8-4fdd-b535-437f929f6bad",
    "last_executed_text": "df.describe()",
    "persistent_id": "0164008a-52ae-4417-b434-0f916f69801d"
   },
   "outputs": [
    {
     "data": {
      "text/html": [
       "<div>\n",
       "<style scoped>\n",
       "    .dataframe tbody tr th:only-of-type {\n",
       "        vertical-align: middle;\n",
       "    }\n",
       "\n",
       "    .dataframe tbody tr th {\n",
       "        vertical-align: top;\n",
       "    }\n",
       "\n",
       "    .dataframe thead th {\n",
       "        text-align: right;\n",
       "    }\n",
       "</style>\n",
       "<table border=\"1\" class=\"dataframe\">\n",
       "  <thead>\n",
       "    <tr style=\"text-align: right;\">\n",
       "      <th></th>\n",
       "      <th>customer_id</th>\n",
       "      <th>goods_id</th>\n",
       "      <th>goods_class_id</th>\n",
       "      <th>goods_price</th>\n",
       "      <th>goods_status</th>\n",
       "      <th>goods_has_discount</th>\n",
       "    </tr>\n",
       "  </thead>\n",
       "  <tbody>\n",
       "    <tr>\n",
       "      <th>count</th>\n",
       "      <td>2.306871e+06</td>\n",
       "      <td>2.306871e+06</td>\n",
       "      <td>2.306871e+06</td>\n",
       "      <td>2.306435e+06</td>\n",
       "      <td>2.306871e+06</td>\n",
       "      <td>2.306871e+06</td>\n",
       "    </tr>\n",
       "    <tr>\n",
       "      <th>mean</th>\n",
       "      <td>1.933233e+06</td>\n",
       "      <td>1.558213e+03</td>\n",
       "      <td>1.558213e+03</td>\n",
       "      <td>5.219550e+01</td>\n",
       "      <td>1.091712e+00</td>\n",
       "      <td>8.613616e-02</td>\n",
       "    </tr>\n",
       "    <tr>\n",
       "      <th>std</th>\n",
       "      <td>5.538885e+05</td>\n",
       "      <td>7.803288e+02</td>\n",
       "      <td>7.803288e+02</td>\n",
       "      <td>6.325725e+00</td>\n",
       "      <td>3.937307e-01</td>\n",
       "      <td>2.805651e-01</td>\n",
       "    </tr>\n",
       "    <tr>\n",
       "      <th>min</th>\n",
       "      <td>1.000000e+06</td>\n",
       "      <td>9.980000e+02</td>\n",
       "      <td>9.980000e+02</td>\n",
       "      <td>-7.997479e+01</td>\n",
       "      <td>0.000000e+00</td>\n",
       "      <td>0.000000e+00</td>\n",
       "    </tr>\n",
       "    <tr>\n",
       "      <th>25%</th>\n",
       "      <td>1.436434e+06</td>\n",
       "      <td>1.038000e+03</td>\n",
       "      <td>1.038000e+03</td>\n",
       "      <td>4.960044e+01</td>\n",
       "      <td>1.000000e+00</td>\n",
       "      <td>0.000000e+00</td>\n",
       "    </tr>\n",
       "    <tr>\n",
       "      <th>50%</th>\n",
       "      <td>1.929569e+06</td>\n",
       "      <td>1.233000e+03</td>\n",
       "      <td>1.233000e+03</td>\n",
       "      <td>5.390926e+01</td>\n",
       "      <td>1.000000e+00</td>\n",
       "      <td>0.000000e+00</td>\n",
       "    </tr>\n",
       "    <tr>\n",
       "      <th>75%</th>\n",
       "      <td>2.457816e+06</td>\n",
       "      <td>1.643000e+03</td>\n",
       "      <td>1.643000e+03</td>\n",
       "      <td>5.485061e+01</td>\n",
       "      <td>1.000000e+00</td>\n",
       "      <td>0.000000e+00</td>\n",
       "    </tr>\n",
       "    <tr>\n",
       "      <th>max</th>\n",
       "      <td>2.826574e+06</td>\n",
       "      <td>6.673000e+03</td>\n",
       "      <td>6.673000e+03</td>\n",
       "      <td>9.235260e+01</td>\n",
       "      <td>2.000000e+00</td>\n",
       "      <td>1.000000e+00</td>\n",
       "    </tr>\n",
       "  </tbody>\n",
       "</table>\n",
       "</div>"
      ],
      "text/plain": [
       "        customer_id      goods_id  goods_class_id   goods_price  goods_status  \\\n",
       "count  2.306871e+06  2.306871e+06    2.306871e+06  2.306435e+06  2.306871e+06   \n",
       "mean   1.933233e+06  1.558213e+03    1.558213e+03  5.219550e+01  1.091712e+00   \n",
       "std    5.538885e+05  7.803288e+02    7.803288e+02  6.325725e+00  3.937307e-01   \n",
       "min    1.000000e+06  9.980000e+02    9.980000e+02 -7.997479e+01  0.000000e+00   \n",
       "25%    1.436434e+06  1.038000e+03    1.038000e+03  4.960044e+01  1.000000e+00   \n",
       "50%    1.929569e+06  1.233000e+03    1.233000e+03  5.390926e+01  1.000000e+00   \n",
       "75%    2.457816e+06  1.643000e+03    1.643000e+03  5.485061e+01  1.000000e+00   \n",
       "max    2.826574e+06  6.673000e+03    6.673000e+03  9.235260e+01  2.000000e+00   \n",
       "\n",
       "       goods_has_discount  \n",
       "count        2.306871e+06  \n",
       "mean         8.613616e-02  \n",
       "std          2.805651e-01  \n",
       "min          0.000000e+00  \n",
       "25%          0.000000e+00  \n",
       "50%          0.000000e+00  \n",
       "75%          0.000000e+00  \n",
       "max          1.000000e+00  "
      ]
     },
     "execution_count": 16,
     "metadata": {},
     "output_type": "execute_result"
    }
   ],
   "source": [
    "df.describe()"
   ]
  },
  {
   "cell_type": "code",
   "execution_count": 24,
   "metadata": {
    "execution_event_id": "d4a41f5f-e7d1-468e-bfc7-81bf59415f08",
    "last_executed_text": "groupby_id = pd.DataFrame(df.groupby('goods_id').count().fillna(0))\ngroupby_id",
    "persistent_id": "1d884ec7-5a1e-4136-8f60-787afccdffde"
   },
   "outputs": [
    {
     "data": {
      "text/html": [
       "<div>\n",
       "<style scoped>\n",
       "    .dataframe tbody tr th:only-of-type {\n",
       "        vertical-align: middle;\n",
       "    }\n",
       "\n",
       "    .dataframe tbody tr th {\n",
       "        vertical-align: top;\n",
       "    }\n",
       "\n",
       "    .dataframe thead th {\n",
       "        text-align: right;\n",
       "    }\n",
       "</style>\n",
       "<table border=\"1\" class=\"dataframe\">\n",
       "  <thead>\n",
       "    <tr style=\"text-align: right;\">\n",
       "      <th></th>\n",
       "      <th>customer_id</th>\n",
       "      <th>goods_class_id</th>\n",
       "      <th>goods_price</th>\n",
       "      <th>goods_status</th>\n",
       "      <th>goods_has_discount</th>\n",
       "      <th>goods_list_time</th>\n",
       "      <th>goods_delist_time</th>\n",
       "    </tr>\n",
       "    <tr>\n",
       "      <th>goods_id</th>\n",
       "      <th></th>\n",
       "      <th></th>\n",
       "      <th></th>\n",
       "      <th></th>\n",
       "      <th></th>\n",
       "      <th></th>\n",
       "      <th></th>\n",
       "    </tr>\n",
       "  </thead>\n",
       "  <tbody>\n",
       "    <tr>\n",
       "      <th>998</th>\n",
       "      <td>472943</td>\n",
       "      <td>472943</td>\n",
       "      <td>472943</td>\n",
       "      <td>472943</td>\n",
       "      <td>472943</td>\n",
       "      <td>472943</td>\n",
       "      <td>472943</td>\n",
       "    </tr>\n",
       "    <tr>\n",
       "      <th>1008</th>\n",
       "      <td>1972</td>\n",
       "      <td>1972</td>\n",
       "      <td>1972</td>\n",
       "      <td>1972</td>\n",
       "      <td>1972</td>\n",
       "      <td>1972</td>\n",
       "      <td>1972</td>\n",
       "    </tr>\n",
       "    <tr>\n",
       "      <th>1013</th>\n",
       "      <td>7624</td>\n",
       "      <td>7624</td>\n",
       "      <td>7624</td>\n",
       "      <td>7624</td>\n",
       "      <td>7624</td>\n",
       "      <td>7624</td>\n",
       "      <td>7624</td>\n",
       "    </tr>\n",
       "    <tr>\n",
       "      <th>1018</th>\n",
       "      <td>19172</td>\n",
       "      <td>19172</td>\n",
       "      <td>19172</td>\n",
       "      <td>19172</td>\n",
       "      <td>19172</td>\n",
       "      <td>19172</td>\n",
       "      <td>19172</td>\n",
       "    </tr>\n",
       "    <tr>\n",
       "      <th>1023</th>\n",
       "      <td>821</td>\n",
       "      <td>821</td>\n",
       "      <td>821</td>\n",
       "      <td>821</td>\n",
       "      <td>821</td>\n",
       "      <td>821</td>\n",
       "      <td>821</td>\n",
       "    </tr>\n",
       "    <tr>\n",
       "      <th>...</th>\n",
       "      <td>...</td>\n",
       "      <td>...</td>\n",
       "      <td>...</td>\n",
       "      <td>...</td>\n",
       "      <td>...</td>\n",
       "      <td>...</td>\n",
       "      <td>...</td>\n",
       "    </tr>\n",
       "    <tr>\n",
       "      <th>6653</th>\n",
       "      <td>1</td>\n",
       "      <td>1</td>\n",
       "      <td>1</td>\n",
       "      <td>1</td>\n",
       "      <td>1</td>\n",
       "      <td>1</td>\n",
       "      <td>1</td>\n",
       "    </tr>\n",
       "    <tr>\n",
       "      <th>6658</th>\n",
       "      <td>1</td>\n",
       "      <td>1</td>\n",
       "      <td>1</td>\n",
       "      <td>1</td>\n",
       "      <td>1</td>\n",
       "      <td>1</td>\n",
       "      <td>1</td>\n",
       "    </tr>\n",
       "    <tr>\n",
       "      <th>6663</th>\n",
       "      <td>6</td>\n",
       "      <td>6</td>\n",
       "      <td>6</td>\n",
       "      <td>6</td>\n",
       "      <td>6</td>\n",
       "      <td>6</td>\n",
       "      <td>6</td>\n",
       "    </tr>\n",
       "    <tr>\n",
       "      <th>6668</th>\n",
       "      <td>1</td>\n",
       "      <td>1</td>\n",
       "      <td>1</td>\n",
       "      <td>1</td>\n",
       "      <td>1</td>\n",
       "      <td>1</td>\n",
       "      <td>1</td>\n",
       "    </tr>\n",
       "    <tr>\n",
       "      <th>6673</th>\n",
       "      <td>1</td>\n",
       "      <td>1</td>\n",
       "      <td>1</td>\n",
       "      <td>1</td>\n",
       "      <td>1</td>\n",
       "      <td>1</td>\n",
       "      <td>1</td>\n",
       "    </tr>\n",
       "  </tbody>\n",
       "</table>\n",
       "<p>1037 rows × 7 columns</p>\n",
       "</div>"
      ],
      "text/plain": [
       "          customer_id  goods_class_id  goods_price  goods_status  \\\n",
       "goods_id                                                           \n",
       "998            472943          472943       472943        472943   \n",
       "1008             1972            1972         1972          1972   \n",
       "1013             7624            7624         7624          7624   \n",
       "1018            19172           19172        19172         19172   \n",
       "1023              821             821          821           821   \n",
       "...               ...             ...          ...           ...   \n",
       "6653                1               1            1             1   \n",
       "6658                1               1            1             1   \n",
       "6663                6               6            6             6   \n",
       "6668                1               1            1             1   \n",
       "6673                1               1            1             1   \n",
       "\n",
       "          goods_has_discount  goods_list_time  goods_delist_time  \n",
       "goods_id                                                          \n",
       "998                   472943           472943             472943  \n",
       "1008                    1972             1972               1972  \n",
       "1013                    7624             7624               7624  \n",
       "1018                   19172            19172              19172  \n",
       "1023                     821              821                821  \n",
       "...                      ...              ...                ...  \n",
       "6653                       1                1                  1  \n",
       "6658                       1                1                  1  \n",
       "6663                       6                6                  6  \n",
       "6668                       1                1                  1  \n",
       "6673                       1                1                  1  \n",
       "\n",
       "[1037 rows x 7 columns]"
      ]
     },
     "execution_count": 24,
     "metadata": {},
     "output_type": "execute_result"
    }
   ],
   "source": [
    "groupby_id = pd.DataFrame(df.groupby('goods_id').count().fillna(0))\n",
    "groupby_id"
   ]
  },
  {
   "cell_type": "code",
   "execution_count": 21,
   "metadata": {
    "execution_event_id": "909bb88a-59b9-47c2-b9bb-27a24d65aa7d",
    "last_executed_text": "plt.hist(df ['goods_price'],10,normed = 1,facecolor ='blue',alpha = 0.5)\n\nplt.show()",
    "persistent_id": "0af81188-7c2a-40db-9e14-b54bdd2d89f5"
   },
   "outputs": [
    {
     "name": "stderr",
     "output_type": "stream",
     "text": [
      "/opt/conda/lib/python3.7/site-packages/ipykernel_launcher.py:1: MatplotlibDeprecationWarning: \n",
      "The 'normed' kwarg was deprecated in Matplotlib 2.1 and will be removed in 3.1. Use 'density' instead.\n",
      "  \"\"\"Entry point for launching an IPython kernel.\n",
      "/opt/conda/lib/python3.7/site-packages/numpy/lib/histograms.py:839: RuntimeWarning: invalid value encountered in greater_equal\n",
      "  keep = (tmp_a >= first_edge)\n",
      "/opt/conda/lib/python3.7/site-packages/numpy/lib/histograms.py:840: RuntimeWarning: invalid value encountered in less_equal\n",
      "  keep &= (tmp_a <= last_edge)\n"
     ]
    },
    {
     "data": {
      "image/png": "[encoded data removed]",
      "text/plain": [
       "<Figure size 432x288 with 1 Axes>"
      ]
     },
     "metadata": {
      "needs_background": "light"
     },
     "output_type": "display_data"
    }
   ],
   "source": [
    "plt.hist(df ['goods_price'],10,normed = 1,facecolor ='blue',alpha = 0.5)\n",
    "\n",
    "plt.show()"
   ]
  },
  {
   "cell_type": "code",
   "execution_count": 29,
   "metadata": {
    "execution_event_id": "6e4b2d23-33e9-420e-8b19-65fff70e694a",
    "last_executed_text": "sales_by_good_id = df.groupby('goods_id').size()\n\nprint(sales_by_month)\n\nplot_by_good_id = sales_by_good_id.plot(title='goods Sales')",
    "persistent_id": "77950dce-7827-427f-bf66-a64f2b9180d6"
   },
   "outputs": [
    {
     "name": "stdout",
     "output_type": "stream",
     "text": [
      "goods_id\n",
      "998     472943\n",
      "1008      1972\n",
      "1013      7624\n",
      "1018     19172\n",
      "1023       821\n",
      "         ...  \n",
      "6653         1\n",
      "6658         1\n",
      "6663         6\n",
      "6668         1\n",
      "6673         1\n",
      "Length: 1037, dtype: int64\n"
     ]
    },
    {
     "data": {
      "image/png": "[encoded data removed]",
      "text/plain": [
       "<Figure size 432x288 with 1 Axes>"
      ]
     },
     "metadata": {
      "needs_background": "light"
     },
     "output_type": "display_data"
    }
   ],
   "source": [
    "sales_by_good_id = df.groupby('goods_id').size()\n",
    "\n",
    "print(sales_by_month)\n",
    "\n",
    "plot_by_good_id = sales_by_good_id.plot(title='goods Sales')"
   ]
  },
  {
   "cell_type": "code",
   "execution_count": null,
   "metadata": {
    "persistent_id": "5e33182c-b8c9-43df-bcad-4f136fbb44eb"
   },
   "outputs": [],
   "source": []
  }
 ],
 "metadata": {
  "history": [
   {
    "cell": {
     "executionCount": 1,
     "executionEventId": "2c8881fd-8c9b-49dd-9861-47812508a2a1",
     "hasError": false,
     "id": "5aff3a06-468d-4273-bf33-956a2891d792",
     "outputs": [],
     "persistentId": "b81e5ba4-5ba4-4e23-8e2c-e4a9c2728a89",
     "text": "import pandas as pd\n\nimport numpy as np\n\nimport matplotlib.pyplot as plt\n\n%matplotlib inline"
    },
    "executionTime": "2020-02-26T06:32:22.318Z"
   },
   {
    "cell": {
     "executionCount": 2,
     "executionEventId": "4a8ca0dd-7c3c-4f19-9745-1c9ff7b16f6b",
     "hasError": true,
     "id": "d59ad4fb-7695-4999-b219-33f74b24bb34",
     "outputs": [
      {
       "ename": "SyntaxError",
       "evalue": "invalid character in identifier (<ipython-input-2-14cd6ad3e31d>, line 1)",
       "output_type": "error",
       "traceback": [
        "\u001b[0;36m  File \u001b[0;32m\"<ipython-input-2-14cd6ad3e31d>\"\u001b[0;36m, line \u001b[0;32m1\u001b[0m\n\u001b[0;31m    df = pd.read_csv（'train.csv'）\u001b[0m\n\u001b[0m                    ^\u001b[0m\n\u001b[0;31mSyntaxError\u001b[0m\u001b[0;31m:\u001b[0m invalid character in identifier\n"
       ]
      }
     ],
     "persistentId": "dbd02643-4e4e-4112-a4f1-b90aef4596c9",
     "text": "df = pd.read_csv（'train.csv'）"
    },
    "executionTime": "2020-02-26T06:32:31.495Z"
   },
   {
    "cell": {
     "executionCount": 3,
     "executionEventId": "d93bd968-bfdf-4bb1-922f-f1090191d054",
     "hasError": false,
     "id": "d59ad4fb-7695-4999-b219-33f74b24bb34",
     "outputs": [],
     "persistentId": "dbd02643-4e4e-4112-a4f1-b90aef4596c9",
     "text": "df = pd.read_csv('train.csv')"
    },
    "executionTime": "2020-02-26T06:33:10.309Z"
   },
   {
    "cell": {
     "executionCount": 4,
     "executionEventId": "72899974-bdcc-4816-a125-135067adb40d",
     "hasError": true,
     "id": "f6b1da76-87e2-49c4-85fb-4e59abc8f7e3",
     "outputs": [
      {
       "ename": "AttributeError",
       "evalue": "'DataFrame' object has no attribute 'cloums'",
       "output_type": "error",
       "traceback": [
        "\u001b[0;31m---------------------------------------------------------------------------\u001b[0m",
        "\u001b[0;31mAttributeError\u001b[0m                            Traceback (most recent call last)",
        "\u001b[0;32m<ipython-input-4-c216a21a61a8>\u001b[0m in \u001b[0;36m<module>\u001b[0;34m\u001b[0m\n\u001b[0;32m----> 1\u001b[0;31m \u001b[0mdf\u001b[0m\u001b[0;34m.\u001b[0m\u001b[0mcloums\u001b[0m\u001b[0;34m\u001b[0m\u001b[0;34m\u001b[0m\u001b[0m\n\u001b[0m",
        "\u001b[0;32m/opt/conda/lib/python3.7/site-packages/pandas/core/generic.py\u001b[0m in \u001b[0;36m__getattr__\u001b[0;34m(self, name)\u001b[0m\n\u001b[1;32m   5177\u001b[0m             \u001b[0;32mif\u001b[0m \u001b[0mself\u001b[0m\u001b[0;34m.\u001b[0m\u001b[0m_info_axis\u001b[0m\u001b[0;34m.\u001b[0m\u001b[0m_can_hold_identifiers_and_holds_name\u001b[0m\u001b[0;34m(\u001b[0m\u001b[0mname\u001b[0m\u001b[0;34m)\u001b[0m\u001b[0;34m:\u001b[0m\u001b[0;34m\u001b[0m\u001b[0;34m\u001b[0m\u001b[0m\n\u001b[1;32m   5178\u001b[0m                 \u001b[0;32mreturn\u001b[0m \u001b[0mself\u001b[0m\u001b[0;34m[\u001b[0m\u001b[0mname\u001b[0m\u001b[0;34m]\u001b[0m\u001b[0;34m\u001b[0m\u001b[0;34m\u001b[0m\u001b[0m\n\u001b[0;32m-> 5179\u001b[0;31m             \u001b[0;32mreturn\u001b[0m \u001b[0mobject\u001b[0m\u001b[0;34m.\u001b[0m\u001b[0m__getattribute__\u001b[0m\u001b[0;34m(\u001b[0m\u001b[0mself\u001b[0m\u001b[0;34m,\u001b[0m \u001b[0mname\u001b[0m\u001b[0;34m)\u001b[0m\u001b[0;34m\u001b[0m\u001b[0;34m\u001b[0m\u001b[0m\n\u001b[0m\u001b[1;32m   5180\u001b[0m \u001b[0;34m\u001b[0m\u001b[0m\n\u001b[1;32m   5181\u001b[0m     \u001b[0;32mdef\u001b[0m \u001b[0m__setattr__\u001b[0m\u001b[0;34m(\u001b[0m\u001b[0mself\u001b[0m\u001b[0;34m,\u001b[0m \u001b[0mname\u001b[0m\u001b[0;34m,\u001b[0m \u001b[0mvalue\u001b[0m\u001b[0;34m)\u001b[0m\u001b[0;34m:\u001b[0m\u001b[0;34m\u001b[0m\u001b[0;34m\u001b[0m\u001b[0m\n",
        "\u001b[0;31mAttributeError\u001b[0m: 'DataFrame' object has no attribute 'cloums'"
       ]
      }
     ],
     "persistentId": "1f53f083-23ff-4d4f-9421-ca3464a83481",
     "text": "df.cloums"
    },
    "executionTime": "2020-02-26T06:33:35.056Z"
   },
   {
    "cell": {
     "executionCount": 5,
     "executionEventId": "75a5a342-fc0e-41f2-b8f7-1b5d99fa1846",
     "hasError": false,
     "id": "f6b1da76-87e2-49c4-85fb-4e59abc8f7e3",
     "outputs": [
      {
       "data": {
        "text/plain": "Index(['order_detail_id', 'order_id', 'order_total_num', 'order_amount',\n       'order_total_payment', 'order_total_discount', 'order_pay_time',\n       'order_status', 'order_count', 'is_customer_rate',\n       'order_detail_status', 'order_detail_goods_num', 'order_detail_amount',\n       'order_detail_payment', 'order_detail_discount', 'customer_province',\n       'customer_city', 'member_id', 'customer_id', 'customer_gender',\n       'member_status', 'is_member_actived', 'goods_id', 'goods_class_id',\n       'goods_price', 'goods_status', 'goods_has_discount', 'goods_list_time',\n       'goods_delist_time'],\n      dtype='object')"
       },
       "execution_count": 5,
       "metadata": {},
       "output_type": "execute_result"
      }
     ],
     "persistentId": "1f53f083-23ff-4d4f-9421-ca3464a83481",
     "text": "df.columns"
    },
    "executionTime": "2020-02-26T06:33:41.338Z"
   },
   {
    "cell": {
     "executionCount": 6,
     "executionEventId": "3fb048f0-455d-430e-9942-1f977eb807c6",
     "hasError": true,
     "id": "f9533daf-dea0-4591-b1df-002759177bca",
     "outputs": [
      {
       "ename": "TypeError",
       "evalue": "drop() got multiple values for argument 'axis'",
       "output_type": "error",
       "traceback": [
        "\u001b[0;31m---------------------------------------------------------------------------\u001b[0m",
        "\u001b[0;31mTypeError\u001b[0m                                 Traceback (most recent call last)",
        "\u001b[0;32m<ipython-input-6-c1e8e8c7887c>\u001b[0m in \u001b[0;36m<module>\u001b[0;34m\u001b[0m\n\u001b[1;32m      5\u001b[0m        \u001b[0;34m'order_detail_payment'\u001b[0m\u001b[0;34m,\u001b[0m \u001b[0;34m'order_detail_discount'\u001b[0m\u001b[0;34m,\u001b[0m \u001b[0;34m'customer_province'\u001b[0m\u001b[0;34m,\u001b[0m\u001b[0;34m\u001b[0m\u001b[0;34m\u001b[0m\u001b[0m\n\u001b[1;32m      6\u001b[0m        \u001b[0;34m'customer_city'\u001b[0m\u001b[0;34m,\u001b[0m \u001b[0;34m'member_id'\u001b[0m\u001b[0;34m,\u001b[0m \u001b[0;34m'customer_gender'\u001b[0m\u001b[0;34m,\u001b[0m\u001b[0;34m\u001b[0m\u001b[0;34m\u001b[0m\u001b[0m\n\u001b[0;32m----> 7\u001b[0;31m        'member_status', 'is_member_actived',axis=1, inplace=True)\n\u001b[0m",
        "\u001b[0;31mTypeError\u001b[0m: drop() got multiple values for argument 'axis'"
       ]
      }
     ],
     "persistentId": "d0d98175-16b0-4899-bad0-4ffcbee913ec",
     "text": "df.drop('order_detail_id', 'order_id', 'order_total_num', 'order_amount',\n       'order_total_payment', 'order_total_discount', 'order_pay_time',\n       'order_status', 'order_count', 'is_customer_rate',\n       'order_detail_status', 'order_detail_goods_num', 'order_detail_amount',\n       'order_detail_payment', 'order_detail_discount', 'customer_province',\n       'customer_city', 'member_id', 'customer_gender',\n       'member_status', 'is_member_actived',axis=1, inplace=True)"
    },
    "executionTime": "2020-02-26T06:47:48.329Z"
   },
   {
    "cell": {
     "executionCount": 7,
     "executionEventId": "689e2c08-2b6c-4eb2-8fcd-098782e12793",
     "hasError": true,
     "id": "f9533daf-dea0-4591-b1df-002759177bca",
     "outputs": [
      {
       "ename": "TypeError",
       "evalue": "drop() got multiple values for argument 'inplace'",
       "output_type": "error",
       "traceback": [
        "\u001b[0;31m---------------------------------------------------------------------------\u001b[0m",
        "\u001b[0;31mTypeError\u001b[0m                                 Traceback (most recent call last)",
        "\u001b[0;32m<ipython-input-7-e742dd942048>\u001b[0m in \u001b[0;36m<module>\u001b[0;34m\u001b[0m\n\u001b[1;32m      5\u001b[0m        \u001b[0;34m'order_detail_payment'\u001b[0m\u001b[0;34m,\u001b[0m \u001b[0;34m'order_detail_discount'\u001b[0m\u001b[0;34m,\u001b[0m \u001b[0;34m'customer_province'\u001b[0m\u001b[0;34m,\u001b[0m\u001b[0;34m\u001b[0m\u001b[0;34m\u001b[0m\u001b[0m\n\u001b[1;32m      6\u001b[0m        \u001b[0;34m'customer_city'\u001b[0m\u001b[0;34m,\u001b[0m \u001b[0;34m'member_id'\u001b[0m\u001b[0;34m,\u001b[0m \u001b[0;34m'customer_gender'\u001b[0m\u001b[0;34m,\u001b[0m\u001b[0;34m\u001b[0m\u001b[0;34m\u001b[0m\u001b[0m\n\u001b[0;32m----> 7\u001b[0;31m        'member_status', 'is_member_actived', inplace=True)\n\u001b[0m",
        "\u001b[0;31mTypeError\u001b[0m: drop() got multiple values for argument 'inplace'"
       ]
      }
     ],
     "persistentId": "d0d98175-16b0-4899-bad0-4ffcbee913ec",
     "text": "df.drop('order_detail_id', 'order_id', 'order_total_num', 'order_amount',\n       'order_total_payment', 'order_total_discount', 'order_pay_time',\n       'order_status', 'order_count', 'is_customer_rate',\n       'order_detail_status', 'order_detail_goods_num', 'order_detail_amount',\n       'order_detail_payment', 'order_detail_discount', 'customer_province',\n       'customer_city', 'member_id', 'customer_gender',\n       'member_status', 'is_member_actived', inplace=True)"
    },
    "executionTime": "2020-02-26T06:48:05.308Z"
   },
   {
    "cell": {
     "executionCount": 8,
     "executionEventId": "d8f7020e-23e0-4c17-8f1e-e9a2910b9e8d",
     "hasError": true,
     "id": "f9533daf-dea0-4591-b1df-002759177bca",
     "outputs": [
      {
       "ename": "KeyError",
       "evalue": "\"[('order_detail_id', 'order_id', 'order_total_num', 'order_amount', 'order_total_payment', 'order_total_discount', 'order_pay_time', 'order_status', 'order_count', 'is_customer_rate', 'order_detail_status', 'order_detail_goods_num', 'order_detail_amount', 'order_detail_payment', 'order_detail_discount', 'customer_province', 'customer_city', 'member_id', 'customer_gender', 'member_status', 'is_member_actived')] not found in axis\"",
       "output_type": "error",
       "traceback": [
        "\u001b[0;31m---------------------------------------------------------------------------\u001b[0m",
        "\u001b[0;31mKeyError\u001b[0m                                  Traceback (most recent call last)",
        "\u001b[0;32m<ipython-input-8-fbb3241badce>\u001b[0m in \u001b[0;36m<module>\u001b[0;34m\u001b[0m\n\u001b[1;32m      5\u001b[0m        \u001b[0;34m'order_detail_payment'\u001b[0m\u001b[0;34m,\u001b[0m \u001b[0;34m'order_detail_discount'\u001b[0m\u001b[0;34m,\u001b[0m \u001b[0;34m'customer_province'\u001b[0m\u001b[0;34m,\u001b[0m\u001b[0;34m\u001b[0m\u001b[0;34m\u001b[0m\u001b[0m\n\u001b[1;32m      6\u001b[0m        \u001b[0;34m'customer_city'\u001b[0m\u001b[0;34m,\u001b[0m \u001b[0;34m'member_id'\u001b[0m\u001b[0;34m,\u001b[0m \u001b[0;34m'customer_gender'\u001b[0m\u001b[0;34m,\u001b[0m\u001b[0;34m\u001b[0m\u001b[0;34m\u001b[0m\u001b[0m\n\u001b[0;32m----> 7\u001b[0;31m        'member_status', 'is_member_actived']], axis=1, inplace=True)\n\u001b[0m",
        "\u001b[0;32m/opt/conda/lib/python3.7/site-packages/pandas/core/frame.py\u001b[0m in \u001b[0;36mdrop\u001b[0;34m(self, labels, axis, index, columns, level, inplace, errors)\u001b[0m\n\u001b[1;32m   4115\u001b[0m             \u001b[0mlevel\u001b[0m\u001b[0;34m=\u001b[0m\u001b[0mlevel\u001b[0m\u001b[0;34m,\u001b[0m\u001b[0;34m\u001b[0m\u001b[0;34m\u001b[0m\u001b[0m\n\u001b[1;32m   4116\u001b[0m             \u001b[0minplace\u001b[0m\u001b[0;34m=\u001b[0m\u001b[0minplace\u001b[0m\u001b[0;34m,\u001b[0m\u001b[0;34m\u001b[0m\u001b[0;34m\u001b[0m\u001b[0m\n\u001b[0;32m-> 4117\u001b[0;31m             \u001b[0merrors\u001b[0m\u001b[0;34m=\u001b[0m\u001b[0merrors\u001b[0m\u001b[0;34m,\u001b[0m\u001b[0;34m\u001b[0m\u001b[0;34m\u001b[0m\u001b[0m\n\u001b[0m\u001b[1;32m   4118\u001b[0m         )\n\u001b[1;32m   4119\u001b[0m \u001b[0;34m\u001b[0m\u001b[0m\n",
        "\u001b[0;32m/opt/conda/lib/python3.7/site-packages/pandas/core/generic.py\u001b[0m in \u001b[0;36mdrop\u001b[0;34m(self, labels, axis, index, columns, level, inplace, errors)\u001b[0m\n\u001b[1;32m   3912\u001b[0m         \u001b[0;32mfor\u001b[0m \u001b[0maxis\u001b[0m\u001b[0;34m,\u001b[0m \u001b[0mlabels\u001b[0m \u001b[0;32min\u001b[0m \u001b[0maxes\u001b[0m\u001b[0;34m.\u001b[0m\u001b[0mitems\u001b[0m\u001b[0;34m(\u001b[0m\u001b[0;34m)\u001b[0m\u001b[0;34m:\u001b[0m\u001b[0;34m\u001b[0m\u001b[0;34m\u001b[0m\u001b[0m\n\u001b[1;32m   3913\u001b[0m             \u001b[0;32mif\u001b[0m \u001b[0mlabels\u001b[0m \u001b[0;32mis\u001b[0m \u001b[0;32mnot\u001b[0m \u001b[0;32mNone\u001b[0m\u001b[0;34m:\u001b[0m\u001b[0;34m\u001b[0m\u001b[0;34m\u001b[0m\u001b[0m\n\u001b[0;32m-> 3914\u001b[0;31m                 \u001b[0mobj\u001b[0m \u001b[0;34m=\u001b[0m \u001b[0mobj\u001b[0m\u001b[0;34m.\u001b[0m\u001b[0m_drop_axis\u001b[0m\u001b[0;34m(\u001b[0m\u001b[0mlabels\u001b[0m\u001b[0;34m,\u001b[0m \u001b[0maxis\u001b[0m\u001b[0;34m,\u001b[0m \u001b[0mlevel\u001b[0m\u001b[0;34m=\u001b[0m\u001b[0mlevel\u001b[0m\u001b[0;34m,\u001b[0m \u001b[0merrors\u001b[0m\u001b[0;34m=\u001b[0m\u001b[0merrors\u001b[0m\u001b[0;34m)\u001b[0m\u001b[0;34m\u001b[0m\u001b[0;34m\u001b[0m\u001b[0m\n\u001b[0m\u001b[1;32m   3915\u001b[0m \u001b[0;34m\u001b[0m\u001b[0m\n\u001b[1;32m   3916\u001b[0m         \u001b[0;32mif\u001b[0m \u001b[0minplace\u001b[0m\u001b[0;34m:\u001b[0m\u001b[0;34m\u001b[0m\u001b[0;34m\u001b[0m\u001b[0m\n",
        "\u001b[0;32m/opt/conda/lib/python3.7/site-packages/pandas/core/generic.py\u001b[0m in \u001b[0;36m_drop_axis\u001b[0;34m(self, labels, axis, level, errors)\u001b[0m\n\u001b[1;32m   3944\u001b[0m                 \u001b[0mnew_axis\u001b[0m \u001b[0;34m=\u001b[0m \u001b[0maxis\u001b[0m\u001b[0;34m.\u001b[0m\u001b[0mdrop\u001b[0m\u001b[0;34m(\u001b[0m\u001b[0mlabels\u001b[0m\u001b[0;34m,\u001b[0m \u001b[0mlevel\u001b[0m\u001b[0;34m=\u001b[0m\u001b[0mlevel\u001b[0m\u001b[0;34m,\u001b[0m \u001b[0merrors\u001b[0m\u001b[0;34m=\u001b[0m\u001b[0merrors\u001b[0m\u001b[0;34m)\u001b[0m\u001b[0;34m\u001b[0m\u001b[0;34m\u001b[0m\u001b[0m\n\u001b[1;32m   3945\u001b[0m             \u001b[0;32melse\u001b[0m\u001b[0;34m:\u001b[0m\u001b[0;34m\u001b[0m\u001b[0;34m\u001b[0m\u001b[0m\n\u001b[0;32m-> 3946\u001b[0;31m                 \u001b[0mnew_axis\u001b[0m \u001b[0;34m=\u001b[0m \u001b[0maxis\u001b[0m\u001b[0;34m.\u001b[0m\u001b[0mdrop\u001b[0m\u001b[0;34m(\u001b[0m\u001b[0mlabels\u001b[0m\u001b[0;34m,\u001b[0m \u001b[0merrors\u001b[0m\u001b[0;34m=\u001b[0m\u001b[0merrors\u001b[0m\u001b[0;34m)\u001b[0m\u001b[0;34m\u001b[0m\u001b[0;34m\u001b[0m\u001b[0m\n\u001b[0m\u001b[1;32m   3947\u001b[0m             \u001b[0mresult\u001b[0m \u001b[0;34m=\u001b[0m \u001b[0mself\u001b[0m\u001b[0;34m.\u001b[0m\u001b[0mreindex\u001b[0m\u001b[0;34m(\u001b[0m\u001b[0;34m**\u001b[0m\u001b[0;34m{\u001b[0m\u001b[0maxis_name\u001b[0m\u001b[0;34m:\u001b[0m \u001b[0mnew_axis\u001b[0m\u001b[0;34m}\u001b[0m\u001b[0;34m)\u001b[0m\u001b[0;34m\u001b[0m\u001b[0;34m\u001b[0m\u001b[0m\n\u001b[1;32m   3948\u001b[0m \u001b[0;34m\u001b[0m\u001b[0m\n",
        "\u001b[0;32m/opt/conda/lib/python3.7/site-packages/pandas/core/indexes/base.py\u001b[0m in \u001b[0;36mdrop\u001b[0;34m(self, labels, errors)\u001b[0m\n\u001b[1;32m   5338\u001b[0m         \u001b[0;32mif\u001b[0m \u001b[0mmask\u001b[0m\u001b[0;34m.\u001b[0m\u001b[0many\u001b[0m\u001b[0;34m(\u001b[0m\u001b[0;34m)\u001b[0m\u001b[0;34m:\u001b[0m\u001b[0;34m\u001b[0m\u001b[0;34m\u001b[0m\u001b[0m\n\u001b[1;32m   5339\u001b[0m             \u001b[0;32mif\u001b[0m \u001b[0merrors\u001b[0m \u001b[0;34m!=\u001b[0m \u001b[0;34m\"ignore\"\u001b[0m\u001b[0;34m:\u001b[0m\u001b[0;34m\u001b[0m\u001b[0;34m\u001b[0m\u001b[0m\n\u001b[0;32m-> 5340\u001b[0;31m                 \u001b[0;32mraise\u001b[0m \u001b[0mKeyError\u001b[0m\u001b[0;34m(\u001b[0m\u001b[0;34m\"{} not found in axis\"\u001b[0m\u001b[0;34m.\u001b[0m\u001b[0mformat\u001b[0m\u001b[0;34m(\u001b[0m\u001b[0mlabels\u001b[0m\u001b[0;34m[\u001b[0m\u001b[0mmask\u001b[0m\u001b[0;34m]\u001b[0m\u001b[0;34m)\u001b[0m\u001b[0;34m)\u001b[0m\u001b[0;34m\u001b[0m\u001b[0;34m\u001b[0m\u001b[0m\n\u001b[0m\u001b[1;32m   5341\u001b[0m             \u001b[0mindexer\u001b[0m \u001b[0;34m=\u001b[0m \u001b[0mindexer\u001b[0m\u001b[0;34m[\u001b[0m\u001b[0;34m~\u001b[0m\u001b[0mmask\u001b[0m\u001b[0;34m]\u001b[0m\u001b[0;34m\u001b[0m\u001b[0;34m\u001b[0m\u001b[0m\n\u001b[1;32m   5342\u001b[0m         \u001b[0;32mreturn\u001b[0m \u001b[0mself\u001b[0m\u001b[0;34m.\u001b[0m\u001b[0mdelete\u001b[0m\u001b[0;34m(\u001b[0m\u001b[0mindexer\u001b[0m\u001b[0;34m)\u001b[0m\u001b[0;34m\u001b[0m\u001b[0;34m\u001b[0m\u001b[0m\n",
        "\u001b[0;31mKeyError\u001b[0m: \"[('order_detail_id', 'order_id', 'order_total_num', 'order_amount', 'order_total_payment', 'order_total_discount', 'order_pay_time', 'order_status', 'order_count', 'is_customer_rate', 'order_detail_status', 'order_detail_goods_num', 'order_detail_amount', 'order_detail_payment', 'order_detail_discount', 'customer_province', 'customer_city', 'member_id', 'customer_gender', 'member_status', 'is_member_actived')] not found in axis\""
       ]
      }
     ],
     "persistentId": "d0d98175-16b0-4899-bad0-4ffcbee913ec",
     "text": "df.drop([['order_detail_id', 'order_id', 'order_total_num', 'order_amount',\n       'order_total_payment', 'order_total_discount', 'order_pay_time',\n       'order_status', 'order_count', 'is_customer_rate',\n       'order_detail_status', 'order_detail_goods_num', 'order_detail_amount',\n       'order_detail_payment', 'order_detail_discount', 'customer_province',\n       'customer_city', 'member_id', 'customer_gender',\n       'member_status', 'is_member_actived']], axis=1, inplace=True)"
    },
    "executionTime": "2020-02-26T06:48:24.843Z"
   },
   {
    "cell": {
     "executionCount": 9,
     "executionEventId": "d415e649-83f4-4356-81e3-c2f43ed23fff",
     "hasError": false,
     "id": "f9533daf-dea0-4591-b1df-002759177bca",
     "outputs": [],
     "persistentId": "d0d98175-16b0-4899-bad0-4ffcbee913ec",
     "text": "df.drop(['order_detail_id', 'order_id', 'order_total_num', 'order_amount',\n       'order_total_payment', 'order_total_discount', 'order_pay_time',\n       'order_status', 'order_count', 'is_customer_rate',\n       'order_detail_status', 'order_detail_goods_num', 'order_detail_amount',\n       'order_detail_payment', 'order_detail_discount', 'customer_province',\n       'customer_city', 'member_id', 'customer_gender',\n       'member_status', 'is_member_actived'], axis=1, inplace=True)"
    },
    "executionTime": "2020-02-26T06:48:37.267Z"
   },
   {
    "cell": {
     "executionCount": 10,
     "executionEventId": "61ca87fe-a917-4229-bcb2-52b8f2e7a5ff",
     "hasError": false,
     "id": "68a42365-9386-4687-97f7-a0eea9767350",
     "outputs": [
      {
       "data": {
        "text/plain": "Index(['customer_id', 'goods_id', 'goods_class_id', 'goods_price',\n       'goods_status', 'goods_has_discount', 'goods_list_time',\n       'goods_delist_time'],\n      dtype='object')"
       },
       "execution_count": 10,
       "metadata": {},
       "output_type": "execute_result"
      }
     ],
     "persistentId": "a7020c23-831a-47cd-b363-90727d687037",
     "text": "df.columns"
    },
    "executionTime": "2020-02-26T06:48:47.054Z"
   },
   {
    "cell": {
     "executionCount": 11,
     "executionEventId": "1d14e03a-c48b-4459-9916-130b60091a44",
     "hasError": false,
     "id": "68a42365-9386-4687-97f7-a0eea9767350",
     "outputs": [
      {
       "data": {
        "text/plain": "Index(['customer_id', 'goods_id', 'goods_class_id', 'goods_price',\n       'goods_status', 'goods_has_discount', 'goods_list_time',\n       'goods_delist_time'],\n      dtype='object')"
       },
       "execution_count": 11,
       "metadata": {},
       "output_type": "execute_result"
      }
     ],
     "persistentId": "a7020c23-831a-47cd-b363-90727d687037",
     "text": "df.columns"
    },
    "executionTime": "2020-02-26T06:48:49.172Z"
   },
   {
    "cell": {
     "executionCount": 12,
     "executionEventId": "0cfe2dff-e97d-4720-956d-77b006c5515f",
     "hasError": false,
     "id": "68a42365-9386-4687-97f7-a0eea9767350",
     "outputs": [
      {
       "data": {
        "text/plain": "\u001b[0;31mType:\u001b[0m        DataFrame\n\u001b[0;31mString form:\u001b[0m\ncustomer_id  goods_id  goods_class_id  goods_price  goods_status  \\\n           0            1000000 <...> 06870                 1.0  2014-10-28 00:03:12  2014-11-04 00:03:12\n           \n           [2306871 rows x 8 columns]\n\u001b[0;31mLength:\u001b[0m      2306871\n\u001b[0;31mFile:\u001b[0m        /opt/conda/lib/python3.7/site-packages/pandas/core/frame.py\n\u001b[0;31mDocstring:\u001b[0m  \nTwo-dimensional size-mutable, potentially heterogeneous tabular data\nstructure with labeled axes (rows and columns). Arithmetic operations\nalign on both row and column labels. Can be thought of as a dict-like\ncontainer for Series objects. The primary pandas data structure.\n\nParameters\n----------\ndata : ndarray (structured or homogeneous), Iterable, dict, or DataFrame\n    Dict can contain Series, arrays, constants, or list-like objects\n\n    .. versionchanged :: 0.23.0\n       If data is a dict, column order follows insertion-order for\n       Python 3.6 and later.\n\n    .. versionchanged :: 0.25.0\n       If data is a list of dicts, column order follows insertion-order\n       for Python 3.6 and later.\n\nindex : Index or array-like\n    Index to use for resulting frame. Will default to RangeIndex if\n    no indexing information part of input data and no index provided\ncolumns : Index or array-like\n    Column labels to use for resulting frame. Will default to\n    RangeIndex (0, 1, 2, ..., n) if no column labels are provided\ndtype : dtype, default None\n    Data type to force. Only a single dtype is allowed. If None, infer\ncopy : boolean, default False\n    Copy data from inputs. Only affects DataFrame / 2d ndarray input\n\nSee Also\n--------\nDataFrame.from_records : Constructor from tuples, also record arrays.\nDataFrame.from_dict : From dicts of Series, arrays, or dicts.\nDataFrame.from_items : From sequence of (key, value) pairs\n    read_csv, pandas.read_table, pandas.read_clipboard.\n\nExamples\n--------\nConstructing DataFrame from a dictionary.\n\n>>> d = {'col1': [1, 2], 'col2': [3, 4]}\n>>> df = pd.DataFrame(data=d)\n>>> df\n   col1  col2\n0     1     3\n1     2     4\n\nNotice that the inferred dtype is int64.\n\n>>> df.dtypes\ncol1    int64\ncol2    int64\ndtype: object\n\nTo enforce a single dtype:\n\n>>> df = pd.DataFrame(data=d, dtype=np.int8)\n>>> df.dtypes\ncol1    int8\ncol2    int8\ndtype: object\n\nConstructing DataFrame from numpy ndarray:\n\n>>> df2 = pd.DataFrame(np.array([[1, 2, 3], [4, 5, 6], [7, 8, 9]]),\n...                    columns=['a', 'b', 'c'])\n>>> df2\n   a  b  c\n0  1  2  3\n1  4  5  6\n2  7  8  9\n"
       },
       "metadata": {},
       "output_type": "display_data"
      }
     ],
     "persistentId": "a7020c23-831a-47cd-b363-90727d687037",
     "text": "df?"
    },
    "executionTime": "2020-02-26T06:48:55.295Z"
   },
   {
    "cell": {
     "executionCount": 13,
     "executionEventId": "44513b9e-97a2-4537-92b3-ef99e70fb009",
     "hasError": false,
     "id": "68a42365-9386-4687-97f7-a0eea9767350",
     "outputs": [
      {
       "data": {
        "text/plain": "Index(['customer_id', 'goods_id', 'goods_class_id', 'goods_price',\n       'goods_status', 'goods_has_discount', 'goods_list_time',\n       'goods_delist_time'],\n      dtype='object')"
       },
       "execution_count": 13,
       "metadata": {},
       "output_type": "execute_result"
      }
     ],
     "persistentId": "a7020c23-831a-47cd-b363-90727d687037",
     "text": "df.columns"
    },
    "executionTime": "2020-02-26T06:49:15.056Z"
   },
   {
    "cell": {
     "executionCount": 14,
     "executionEventId": "7aabe786-5893-4d4c-893c-be0c5d6b9b8a",
     "hasError": false,
     "id": "68a42365-9386-4687-97f7-a0eea9767350",
     "outputs": [
      {
       "data": {
        "text/html": "<div>\n<style scoped>\n    .dataframe tbody tr th:only-of-type {\n        vertical-align: middle;\n    }\n\n    .dataframe tbody tr th {\n        vertical-align: top;\n    }\n\n    .dataframe thead th {\n        text-align: right;\n    }\n</style>\n<table border=\"1\" class=\"dataframe\">\n  <thead>\n    <tr style=\"text-align: right;\">\n      <th></th>\n      <th>customer_id</th>\n      <th>goods_id</th>\n      <th>goods_class_id</th>\n      <th>goods_price</th>\n      <th>goods_status</th>\n      <th>goods_has_discount</th>\n      <th>goods_list_time</th>\n      <th>goods_delist_time</th>\n    </tr>\n  </thead>\n  <tbody>\n    <tr>\n      <th>0</th>\n      <td>1000000</td>\n      <td>998</td>\n      <td>998</td>\n      <td>54.909289</td>\n      <td>1.0</td>\n      <td>0.0</td>\n      <td>2014-10-25 11:08:07</td>\n      <td>2014-11-01 11:08:07</td>\n    </tr>\n    <tr>\n      <th>1</th>\n      <td>1001324</td>\n      <td>1953</td>\n      <td>1953</td>\n      <td>45.961352</td>\n      <td>0.0</td>\n      <td>1.0</td>\n      <td>2013-08-28 17:27:50</td>\n      <td>2013-09-01 00:38:17</td>\n    </tr>\n    <tr>\n      <th>2</th>\n      <td>1001324</td>\n      <td>1083</td>\n      <td>1083</td>\n      <td>53.035439</td>\n      <td>1.0</td>\n      <td>0.0</td>\n      <td>2014-10-29 18:21:05</td>\n      <td>2014-11-05 18:21:05</td>\n    </tr>\n    <tr>\n      <th>3</th>\n      <td>1001325</td>\n      <td>1013</td>\n      <td>1013</td>\n      <td>46.046917</td>\n      <td>1.0</td>\n      <td>1.0</td>\n      <td>2014-10-25 11:00:00</td>\n      <td>2014-11-01 11:00:00</td>\n    </tr>\n    <tr>\n      <th>4</th>\n      <td>1001326</td>\n      <td>1628</td>\n      <td>1628</td>\n      <td>50.722161</td>\n      <td>1.0</td>\n      <td>0.0</td>\n      <td>2014-10-23 15:35:33</td>\n      <td>2014-10-30 15:35:33</td>\n    </tr>\n    <tr>\n      <th>...</th>\n      <td>...</td>\n      <td>...</td>\n      <td>...</td>\n      <td>...</td>\n      <td>...</td>\n      <td>...</td>\n      <td>...</td>\n      <td>...</td>\n    </tr>\n    <tr>\n      <th>2306866</th>\n      <td>2826573</td>\n      <td>1173</td>\n      <td>1173</td>\n      <td>53.012016</td>\n      <td>1.0</td>\n      <td>0.0</td>\n      <td>2014-10-25 10:14:59</td>\n      <td>2014-11-01 10:14:59</td>\n    </tr>\n    <tr>\n      <th>2306867</th>\n      <td>2826574</td>\n      <td>2513</td>\n      <td>2513</td>\n      <td>42.693822</td>\n      <td>2.0</td>\n      <td>0.0</td>\n      <td>2014-01-10 15:56:40</td>\n      <td>2014-01-11 12:46:19</td>\n    </tr>\n    <tr>\n      <th>2306868</th>\n      <td>2826574</td>\n      <td>998</td>\n      <td>998</td>\n      <td>54.889036</td>\n      <td>1.0</td>\n      <td>0.0</td>\n      <td>2014-10-25 11:08:07</td>\n      <td>2014-11-01 11:08:07</td>\n    </tr>\n    <tr>\n      <th>2306869</th>\n      <td>2826574</td>\n      <td>1423</td>\n      <td>1423</td>\n      <td>52.078004</td>\n      <td>1.0</td>\n      <td>0.0</td>\n      <td>2014-10-30 09:31:53</td>\n      <td>2014-11-06 09:31:53</td>\n    </tr>\n    <tr>\n      <th>2306870</th>\n      <td>2826574</td>\n      <td>1043</td>\n      <td>1043</td>\n      <td>46.114765</td>\n      <td>1.0</td>\n      <td>1.0</td>\n      <td>2014-10-28 00:03:12</td>\n      <td>2014-11-04 00:03:12</td>\n    </tr>\n  </tbody>\n</table>\n<p>2306871 rows × 8 columns</p>\n</div>",
        "text/plain": "         customer_id  goods_id  goods_class_id  goods_price  goods_status  \\\n0            1000000       998             998    54.909289           1.0   \n1            1001324      1953            1953    45.961352           0.0   \n2            1001324      1083            1083    53.035439           1.0   \n3            1001325      1013            1013    46.046917           1.0   \n4            1001326      1628            1628    50.722161           1.0   \n...              ...       ...             ...          ...           ...   \n2306866      2826573      1173            1173    53.012016           1.0   \n2306867      2826574      2513            2513    42.693822           2.0   \n2306868      2826574       998             998    54.889036           1.0   \n2306869      2826574      1423            1423    52.078004           1.0   \n2306870      2826574      1043            1043    46.114765           1.0   \n\n         goods_has_discount      goods_list_time    goods_delist_time  \n0                       0.0  2014-10-25 11:08:07  2014-11-01 11:08:07  \n1                       1.0  2013-08-28 17:27:50  2013-09-01 00:38:17  \n2                       0.0  2014-10-29 18:21:05  2014-11-05 18:21:05  \n3                       1.0  2014-10-25 11:00:00  2014-11-01 11:00:00  \n4                       0.0  2014-10-23 15:35:33  2014-10-30 15:35:33  \n...                     ...                  ...                  ...  \n2306866                 0.0  2014-10-25 10:14:59  2014-11-01 10:14:59  \n2306867                 0.0  2014-01-10 15:56:40  2014-01-11 12:46:19  \n2306868                 0.0  2014-10-25 11:08:07  2014-11-01 11:08:07  \n2306869                 0.0  2014-10-30 09:31:53  2014-11-06 09:31:53  \n2306870                 1.0  2014-10-28 00:03:12  2014-11-04 00:03:12  \n\n[2306871 rows x 8 columns]"
       },
       "execution_count": 14,
       "metadata": {},
       "output_type": "execute_result"
      }
     ],
     "persistentId": "a7020c23-831a-47cd-b363-90727d687037",
     "text": "df.columns\ndf"
    },
    "executionTime": "2020-02-26T06:49:22.487Z"
   },
   {
    "cell": {
     "executionCount": 15,
     "executionEventId": "98b8d989-a28f-4953-bc6b-95d871a549a8",
     "hasError": false,
     "id": "68a42365-9386-4687-97f7-a0eea9767350",
     "outputs": [
      {
       "data": {
        "text/plain": "(2306871, 8)"
       },
       "execution_count": 15,
       "metadata": {},
       "output_type": "execute_result"
      }
     ],
     "persistentId": "a7020c23-831a-47cd-b363-90727d687037",
     "text": "df.shape"
    },
    "executionTime": "2020-02-26T06:53:22.943Z"
   },
   {
    "cell": {
     "executionCount": 16,
     "executionEventId": "b9f6db54-06f8-4fdd-b535-437f929f6bad",
     "hasError": false,
     "id": "d349b89f-6ed3-4718-9021-1ab428cbb2fd",
     "outputs": [
      {
       "data": {
        "text/html": "<div>\n<style scoped>\n    .dataframe tbody tr th:only-of-type {\n        vertical-align: middle;\n    }\n\n    .dataframe tbody tr th {\n        vertical-align: top;\n    }\n\n    .dataframe thead th {\n        text-align: right;\n    }\n</style>\n<table border=\"1\" class=\"dataframe\">\n  <thead>\n    <tr style=\"text-align: right;\">\n      <th></th>\n      <th>customer_id</th>\n      <th>goods_id</th>\n      <th>goods_class_id</th>\n      <th>goods_price</th>\n      <th>goods_status</th>\n      <th>goods_has_discount</th>\n    </tr>\n  </thead>\n  <tbody>\n    <tr>\n      <th>count</th>\n      <td>2.306871e+06</td>\n      <td>2.306871e+06</td>\n      <td>2.306871e+06</td>\n      <td>2.306435e+06</td>\n      <td>2.306871e+06</td>\n      <td>2.306871e+06</td>\n    </tr>\n    <tr>\n      <th>mean</th>\n      <td>1.933233e+06</td>\n      <td>1.558213e+03</td>\n      <td>1.558213e+03</td>\n      <td>5.219550e+01</td>\n      <td>1.091712e+00</td>\n      <td>8.613616e-02</td>\n    </tr>\n    <tr>\n      <th>std</th>\n      <td>5.538885e+05</td>\n      <td>7.803288e+02</td>\n      <td>7.803288e+02</td>\n      <td>6.325725e+00</td>\n      <td>3.937307e-01</td>\n      <td>2.805651e-01</td>\n    </tr>\n    <tr>\n      <th>min</th>\n      <td>1.000000e+06</td>\n      <td>9.980000e+02</td>\n      <td>9.980000e+02</td>\n      <td>-7.997479e+01</td>\n      <td>0.000000e+00</td>\n      <td>0.000000e+00</td>\n    </tr>\n    <tr>\n      <th>25%</th>\n      <td>1.436434e+06</td>\n      <td>1.038000e+03</td>\n      <td>1.038000e+03</td>\n      <td>4.960044e+01</td>\n      <td>1.000000e+00</td>\n      <td>0.000000e+00</td>\n    </tr>\n    <tr>\n      <th>50%</th>\n      <td>1.929569e+06</td>\n      <td>1.233000e+03</td>\n      <td>1.233000e+03</td>\n      <td>5.390926e+01</td>\n      <td>1.000000e+00</td>\n      <td>0.000000e+00</td>\n    </tr>\n    <tr>\n      <th>75%</th>\n      <td>2.457816e+06</td>\n      <td>1.643000e+03</td>\n      <td>1.643000e+03</td>\n      <td>5.485061e+01</td>\n      <td>1.000000e+00</td>\n      <td>0.000000e+00</td>\n    </tr>\n    <tr>\n      <th>max</th>\n      <td>2.826574e+06</td>\n      <td>6.673000e+03</td>\n      <td>6.673000e+03</td>\n      <td>9.235260e+01</td>\n      <td>2.000000e+00</td>\n      <td>1.000000e+00</td>\n    </tr>\n  </tbody>\n</table>\n</div>",
        "text/plain": "        customer_id      goods_id  goods_class_id   goods_price  goods_status  \\\ncount  2.306871e+06  2.306871e+06    2.306871e+06  2.306435e+06  2.306871e+06   \nmean   1.933233e+06  1.558213e+03    1.558213e+03  5.219550e+01  1.091712e+00   \nstd    5.538885e+05  7.803288e+02    7.803288e+02  6.325725e+00  3.937307e-01   \nmin    1.000000e+06  9.980000e+02    9.980000e+02 -7.997479e+01  0.000000e+00   \n25%    1.436434e+06  1.038000e+03    1.038000e+03  4.960044e+01  1.000000e+00   \n50%    1.929569e+06  1.233000e+03    1.233000e+03  5.390926e+01  1.000000e+00   \n75%    2.457816e+06  1.643000e+03    1.643000e+03  5.485061e+01  1.000000e+00   \nmax    2.826574e+06  6.673000e+03    6.673000e+03  9.235260e+01  2.000000e+00   \n\n       goods_has_discount  \ncount        2.306871e+06  \nmean         8.613616e-02  \nstd          2.805651e-01  \nmin          0.000000e+00  \n25%          0.000000e+00  \n50%          0.000000e+00  \n75%          0.000000e+00  \nmax          1.000000e+00  "
       },
       "execution_count": 16,
       "metadata": {},
       "output_type": "execute_result"
      }
     ],
     "persistentId": "0164008a-52ae-4417-b434-0f916f69801d",
     "text": "df.describe()"
    },
    "executionTime": "2020-02-26T06:53:59.496Z"
   },
   {
    "cell": {
     "executionCount": 17,
     "executionEventId": "2b1d58f1-6a51-462f-bf13-8e6cfafde6e1",
     "hasError": true,
     "id": "4f2da151-0c67-4c0a-996f-f3e6414fce97",
     "outputs": [
      {
       "ename": "SyntaxError",
       "evalue": "invalid character in identifier (<ipython-input-17-743ff787f204>, line 1)",
       "output_type": "error",
       "traceback": [
        "\u001b[0;36m  File \u001b[0;32m\"<ipython-input-17-743ff787f204>\"\u001b[0;36m, line \u001b[0;32m1\u001b[0m\n\u001b[0;31m    plt.hist（df ['goods_price']，num_bins，normed = 1，facecolor ='blue'，alpha = 0.5）\u001b[0m\n\u001b[0m              ^\u001b[0m\n\u001b[0;31mSyntaxError\u001b[0m\u001b[0;31m:\u001b[0m invalid character in identifier\n"
       ]
      }
     ],
     "persistentId": "0af81188-7c2a-40db-9e14-b54bdd2d89f5",
     "text": "plt.hist（df ['goods_price']，num_bins，normed = 1，facecolor ='blue'，alpha = 0.5）\n\nplt.show（）"
    },
    "executionTime": "2020-02-26T07:14:13.119Z"
   },
   {
    "cell": {
     "executionCount": 18,
     "executionEventId": "437b90dc-995f-4702-8500-85626cd72bad",
     "hasError": true,
     "id": "4f2da151-0c67-4c0a-996f-f3e6414fce97",
     "outputs": [
      {
       "ename": "SyntaxError",
       "evalue": "invalid character in identifier (<ipython-input-18-657017ced4da>, line 1)",
       "output_type": "error",
       "traceback": [
        "\u001b[0;36m  File \u001b[0;32m\"<ipython-input-18-657017ced4da>\"\u001b[0;36m, line \u001b[0;32m1\u001b[0m\n\u001b[0;31m    plt.hist（df ['goods_price'],num_bins，normed = 1,facecolor ='blue',alpha = 0.5）\u001b[0m\n\u001b[0m              ^\u001b[0m\n\u001b[0;31mSyntaxError\u001b[0m\u001b[0;31m:\u001b[0m invalid character in identifier\n"
       ]
      }
     ],
     "persistentId": "0af81188-7c2a-40db-9e14-b54bdd2d89f5",
     "text": "plt.hist（df ['goods_price'],num_bins，normed = 1,facecolor ='blue',alpha = 0.5）\n\nplt.show（）"
    },
    "executionTime": "2020-02-26T07:14:33.484Z"
   },
   {
    "cell": {
     "executionCount": 19,
     "executionEventId": "6e80013a-81e4-43aa-b6bb-88d0148b592a",
     "hasError": true,
     "id": "4f2da151-0c67-4c0a-996f-f3e6414fce97",
     "outputs": [
      {
       "ename": "SyntaxError",
       "evalue": "invalid character in identifier (<ipython-input-19-c3b34191726e>, line 1)",
       "output_type": "error",
       "traceback": [
        "\u001b[0;36m  File \u001b[0;32m\"<ipython-input-19-c3b34191726e>\"\u001b[0;36m, line \u001b[0;32m1\u001b[0m\n\u001b[0;31m    plt.hist（df ['goods_price'],num_bins,normed = 1,facecolor ='blue',alpha = 0.5）\u001b[0m\n\u001b[0m              ^\u001b[0m\n\u001b[0;31mSyntaxError\u001b[0m\u001b[0;31m:\u001b[0m invalid character in identifier\n"
       ]
      }
     ],
     "persistentId": "0af81188-7c2a-40db-9e14-b54bdd2d89f5",
     "text": "plt.hist（df ['goods_price'],num_bins,normed = 1,facecolor ='blue',alpha = 0.5）\n\nplt.show（）"
    },
    "executionTime": "2020-02-26T07:14:41.460Z"
   },
   {
    "cell": {
     "executionCount": 20,
     "executionEventId": "1a7133be-bb85-4f85-8db7-786fd51a1bc1",
     "hasError": true,
     "id": "4f2da151-0c67-4c0a-996f-f3e6414fce97",
     "outputs": [
      {
       "ename": "NameError",
       "evalue": "name 'num_bins' is not defined",
       "output_type": "error",
       "traceback": [
        "\u001b[0;31m---------------------------------------------------------------------------\u001b[0m",
        "\u001b[0;31mNameError\u001b[0m                                 Traceback (most recent call last)",
        "\u001b[0;32m<ipython-input-20-68ed650da8c4>\u001b[0m in \u001b[0;36m<module>\u001b[0;34m\u001b[0m\n\u001b[0;32m----> 1\u001b[0;31m \u001b[0mplt\u001b[0m\u001b[0;34m.\u001b[0m\u001b[0mhist\u001b[0m\u001b[0;34m(\u001b[0m\u001b[0mdf\u001b[0m \u001b[0;34m[\u001b[0m\u001b[0;34m'goods_price'\u001b[0m\u001b[0;34m]\u001b[0m\u001b[0;34m,\u001b[0m\u001b[0mnum_bins\u001b[0m\u001b[0;34m,\u001b[0m\u001b[0mnormed\u001b[0m \u001b[0;34m=\u001b[0m \u001b[0;36m1\u001b[0m\u001b[0;34m,\u001b[0m\u001b[0mfacecolor\u001b[0m \u001b[0;34m=\u001b[0m\u001b[0;34m'blue'\u001b[0m\u001b[0;34m,\u001b[0m\u001b[0malpha\u001b[0m \u001b[0;34m=\u001b[0m \u001b[0;36m0.5\u001b[0m\u001b[0;34m)\u001b[0m\u001b[0;34m\u001b[0m\u001b[0;34m\u001b[0m\u001b[0m\n\u001b[0m\u001b[1;32m      2\u001b[0m \u001b[0;34m\u001b[0m\u001b[0m\n\u001b[1;32m      3\u001b[0m \u001b[0mplt\u001b[0m\u001b[0;34m.\u001b[0m\u001b[0mshow\u001b[0m\u001b[0;34m(\u001b[0m\u001b[0;34m)\u001b[0m\u001b[0;34m\u001b[0m\u001b[0;34m\u001b[0m\u001b[0m\n",
        "\u001b[0;31mNameError\u001b[0m: name 'num_bins' is not defined"
       ]
      }
     ],
     "persistentId": "0af81188-7c2a-40db-9e14-b54bdd2d89f5",
     "text": "plt.hist(df ['goods_price'],num_bins,normed = 1,facecolor ='blue',alpha = 0.5)\n\nplt.show()"
    },
    "executionTime": "2020-02-26T07:15:08.420Z"
   },
   {
    "cell": {
     "executionCount": 21,
     "executionEventId": "909bb88a-59b9-47c2-b9bb-27a24d65aa7d",
     "hasError": false,
     "id": "4f2da151-0c67-4c0a-996f-f3e6414fce97",
     "outputs": [
      {
       "name": "stderr",
       "output_type": "stream",
       "text": "/opt/conda/lib/python3.7/site-packages/ipykernel_launcher.py:1: MatplotlibDeprecationWarning: \nThe 'normed' kwarg was deprecated in Matplotlib 2.1 and will be removed in 3.1. Use 'density' instead.\n  \"\"\"Entry point for launching an IPython kernel.\n/opt/conda/lib/python3.7/site-packages/numpy/lib/histograms.py:839: RuntimeWarning: invalid value encountered in greater_equal\n  keep = (tmp_a >= first_edge)\n/opt/conda/lib/python3.7/site-packages/numpy/lib/histograms.py:840: RuntimeWarning: invalid value encountered in less_equal\n  keep &= (tmp_a <= last_edge)\n"
      },
      {
       "data": {
        "image/png": "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\n",
        "text/plain": "<Figure size 432x288 with 1 Axes>"
       },
       "metadata": {
        "needs_background": "light"
       },
       "output_type": "display_data"
      }
     ],
     "persistentId": "0af81188-7c2a-40db-9e14-b54bdd2d89f5",
     "text": "plt.hist(df ['goods_price'],10,normed = 1,facecolor ='blue',alpha = 0.5)\n\nplt.show()"
    },
    "executionTime": "2020-02-26T07:15:14.956Z"
   },
   {
    "cell": {
     "executionCount": 22,
     "executionEventId": "7480dc15-6d40-4974-9a27-3d51c8117e97",
     "hasError": true,
     "id": "4d703a94-0b27-4ab3-8617-f47d8015f6ad",
     "outputs": [
      {
       "ename": "NameError",
       "evalue": "name 'raw' is not defined",
       "output_type": "error",
       "traceback": [
        "\u001b[0;31m---------------------------------------------------------------------------\u001b[0m",
        "\u001b[0;31mNameError\u001b[0m                                 Traceback (most recent call last)",
        "\u001b[0;32m<ipython-input-22-dbe6e369fede>\u001b[0m in \u001b[0;36m<module>\u001b[0;34m\u001b[0m\n\u001b[0;32m----> 1\u001b[0;31m \u001b[0mgroupby_id\u001b[0m \u001b[0;34m=\u001b[0m \u001b[0mpd\u001b[0m\u001b[0;34m.\u001b[0m\u001b[0mDataFrame\u001b[0m\u001b[0;34m(\u001b[0m\u001b[0mraw\u001b[0m\u001b[0;34m.\u001b[0m\u001b[0mgroupby\u001b[0m\u001b[0;34m(\u001b[0m\u001b[0;34m'goods_id'\u001b[0m\u001b[0;34m)\u001b[0m\u001b[0;34m.\u001b[0m\u001b[0mcount\u001b[0m\u001b[0;34m(\u001b[0m\u001b[0;34m)\u001b[0m\u001b[0;34m.\u001b[0m\u001b[0mfillna\u001b[0m\u001b[0;34m(\u001b[0m\u001b[0;36m0\u001b[0m\u001b[0;34m)\u001b[0m\u001b[0;34m)\u001b[0m\u001b[0;34m\u001b[0m\u001b[0;34m\u001b[0m\u001b[0m\n\u001b[0m",
        "\u001b[0;31mNameError\u001b[0m: name 'raw' is not defined"
       ]
      }
     ],
     "persistentId": "1d884ec7-5a1e-4136-8f60-787afccdffde",
     "text": "groupby_id = pd.DataFrame(raw.groupby('goods_id').count().fillna(0))"
    },
    "executionTime": "2020-02-26T07:17:57.977Z"
   },
   {
    "cell": {
     "executionCount": 23,
     "executionEventId": "8cf4ed0c-2111-41b3-a680-85bba36582a9",
     "hasError": false,
     "id": "4d703a94-0b27-4ab3-8617-f47d8015f6ad",
     "outputs": [],
     "persistentId": "1d884ec7-5a1e-4136-8f60-787afccdffde",
     "text": "groupby_id = pd.DataFrame(df.groupby('goods_id').count().fillna(0))"
    },
    "executionTime": "2020-02-26T07:18:10.281Z"
   },
   {
    "cell": {
     "executionCount": 24,
     "executionEventId": "d4a41f5f-e7d1-468e-bfc7-81bf59415f08",
     "hasError": false,
     "id": "4d703a94-0b27-4ab3-8617-f47d8015f6ad",
     "outputs": [
      {
       "data": {
        "text/html": "<div>\n<style scoped>\n    .dataframe tbody tr th:only-of-type {\n        vertical-align: middle;\n    }\n\n    .dataframe tbody tr th {\n        vertical-align: top;\n    }\n\n    .dataframe thead th {\n        text-align: right;\n    }\n</style>\n<table border=\"1\" class=\"dataframe\">\n  <thead>\n    <tr style=\"text-align: right;\">\n      <th></th>\n      <th>customer_id</th>\n      <th>goods_class_id</th>\n      <th>goods_price</th>\n      <th>goods_status</th>\n      <th>goods_has_discount</th>\n      <th>goods_list_time</th>\n      <th>goods_delist_time</th>\n    </tr>\n    <tr>\n      <th>goods_id</th>\n      <th></th>\n      <th></th>\n      <th></th>\n      <th></th>\n      <th></th>\n      <th></th>\n      <th></th>\n    </tr>\n  </thead>\n  <tbody>\n    <tr>\n      <th>998</th>\n      <td>472943</td>\n      <td>472943</td>\n      <td>472943</td>\n      <td>472943</td>\n      <td>472943</td>\n      <td>472943</td>\n      <td>472943</td>\n    </tr>\n    <tr>\n      <th>1008</th>\n      <td>1972</td>\n      <td>1972</td>\n      <td>1972</td>\n      <td>1972</td>\n      <td>1972</td>\n      <td>1972</td>\n      <td>1972</td>\n    </tr>\n    <tr>\n      <th>1013</th>\n      <td>7624</td>\n      <td>7624</td>\n      <td>7624</td>\n      <td>7624</td>\n      <td>7624</td>\n      <td>7624</td>\n      <td>7624</td>\n    </tr>\n    <tr>\n      <th>1018</th>\n      <td>19172</td>\n      <td>19172</td>\n      <td>19172</td>\n      <td>19172</td>\n      <td>19172</td>\n      <td>19172</td>\n      <td>19172</td>\n    </tr>\n    <tr>\n      <th>1023</th>\n      <td>821</td>\n      <td>821</td>\n      <td>821</td>\n      <td>821</td>\n      <td>821</td>\n      <td>821</td>\n      <td>821</td>\n    </tr>\n    <tr>\n      <th>...</th>\n      <td>...</td>\n      <td>...</td>\n      <td>...</td>\n      <td>...</td>\n      <td>...</td>\n      <td>...</td>\n      <td>...</td>\n    </tr>\n    <tr>\n      <th>6653</th>\n      <td>1</td>\n      <td>1</td>\n      <td>1</td>\n      <td>1</td>\n      <td>1</td>\n      <td>1</td>\n      <td>1</td>\n    </tr>\n    <tr>\n      <th>6658</th>\n      <td>1</td>\n      <td>1</td>\n      <td>1</td>\n      <td>1</td>\n      <td>1</td>\n      <td>1</td>\n      <td>1</td>\n    </tr>\n    <tr>\n      <th>6663</th>\n      <td>6</td>\n      <td>6</td>\n      <td>6</td>\n      <td>6</td>\n      <td>6</td>\n      <td>6</td>\n      <td>6</td>\n    </tr>\n    <tr>\n      <th>6668</th>\n      <td>1</td>\n      <td>1</td>\n      <td>1</td>\n      <td>1</td>\n      <td>1</td>\n      <td>1</td>\n      <td>1</td>\n    </tr>\n    <tr>\n      <th>6673</th>\n      <td>1</td>\n      <td>1</td>\n      <td>1</td>\n      <td>1</td>\n      <td>1</td>\n      <td>1</td>\n      <td>1</td>\n    </tr>\n  </tbody>\n</table>\n<p>1037 rows × 7 columns</p>\n</div>",
        "text/plain": "          customer_id  goods_class_id  goods_price  goods_status  \\\ngoods_id                                                           \n998            472943          472943       472943        472943   \n1008             1972            1972         1972          1972   \n1013             7624            7624         7624          7624   \n1018            19172           19172        19172         19172   \n1023              821             821          821           821   \n...               ...             ...          ...           ...   \n6653                1               1            1             1   \n6658                1               1            1             1   \n6663                6               6            6             6   \n6668                1               1            1             1   \n6673                1               1            1             1   \n\n          goods_has_discount  goods_list_time  goods_delist_time  \ngoods_id                                                          \n998                   472943           472943             472943  \n1008                    1972             1972               1972  \n1013                    7624             7624               7624  \n1018                   19172            19172              19172  \n1023                     821              821                821  \n...                      ...              ...                ...  \n6653                       1                1                  1  \n6658                       1                1                  1  \n6663                       6                6                  6  \n6668                       1                1                  1  \n6673                       1                1                  1  \n\n[1037 rows x 7 columns]"
       },
       "execution_count": 24,
       "metadata": {},
       "output_type": "execute_result"
      }
     ],
     "persistentId": "1d884ec7-5a1e-4136-8f60-787afccdffde",
     "text": "groupby_id = pd.DataFrame(df.groupby('goods_id').count().fillna(0))\ngroupby_id"
    },
    "executionTime": "2020-02-26T07:18:15.087Z"
   },
   {
    "cell": {
     "executionCount": 25,
     "executionEventId": "80993f22-2d24-4f71-88d0-037aea57bd63",
     "hasError": false,
     "id": "e3892b5a-f7ff-49fb-8fd7-46cd992318ee",
     "outputs": [
      {
       "name": "stdout",
       "output_type": "stream",
       "text": "goods_id\n998     472943\n1008      1972\n1013      7624\n1018     19172\n1023       821\n         ...  \n6653         1\n6658         1\n6663         6\n6668         1\n6673         1\nLength: 1037, dtype: int64\n"
      },
      {
       "data": {
        "image/png": "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\n",
        "text/plain": "<Figure size 432x288 with 1 Axes>"
       },
       "metadata": {
        "needs_background": "light"
       },
       "output_type": "display_data"
      }
     ],
     "persistentId": "77950dce-7827-427f-bf66-a64f2b9180d6",
     "text": "sales_by_month = df.groupby('goods_id').size()\n\nprint(sales_by_month)\n\nplot_by_month = sales_by_month.plot(title='Monthly Sales',xticks=(1,2,3,4,5,6,7,8,9,10,11,12))"
    },
    "executionTime": "2020-02-26T07:26:44.660Z"
   },
   {
    "cell": {
     "executionCount": 26,
     "executionEventId": "3185f10c-1217-47f7-94c5-52b94522ea74",
     "hasError": true,
     "id": "e3892b5a-f7ff-49fb-8fd7-46cd992318ee",
     "outputs": [
      {
       "name": "stdout",
       "output_type": "stream",
       "text": "goods_id\n998     472943\n1008      1972\n1013      7624\n1018     19172\n1023       821\n         ...  \n6653         1\n6658         1\n6663         6\n6668         1\n6673         1\nLength: 1037, dtype: int64\n"
      },
      {
       "ename": "ConversionError",
       "evalue": "Failed to convert value(s) to axis units: 'goods_id'",
       "output_type": "error",
       "traceback": [
        "\u001b[0;31m---------------------------------------------------------------------------\u001b[0m",
        "\u001b[0;31mValueError\u001b[0m                                Traceback (most recent call last)",
        "\u001b[0;32m/opt/conda/lib/python3.7/site-packages/matplotlib/axis.py\u001b[0m in \u001b[0;36mconvert_units\u001b[0;34m(self, x)\u001b[0m\n\u001b[1;32m   1549\u001b[0m         \u001b[0;32mtry\u001b[0m\u001b[0;34m:\u001b[0m\u001b[0;34m\u001b[0m\u001b[0;34m\u001b[0m\u001b[0m\n\u001b[0;32m-> 1550\u001b[0;31m             \u001b[0mret\u001b[0m \u001b[0;34m=\u001b[0m \u001b[0mself\u001b[0m\u001b[0;34m.\u001b[0m\u001b[0mconverter\u001b[0m\u001b[0;34m.\u001b[0m\u001b[0mconvert\u001b[0m\u001b[0;34m(\u001b[0m\u001b[0mx\u001b[0m\u001b[0;34m,\u001b[0m \u001b[0mself\u001b[0m\u001b[0;34m.\u001b[0m\u001b[0munits\u001b[0m\u001b[0;34m,\u001b[0m \u001b[0mself\u001b[0m\u001b[0;34m)\u001b[0m\u001b[0;34m\u001b[0m\u001b[0;34m\u001b[0m\u001b[0m\n\u001b[0m\u001b[1;32m   1551\u001b[0m         \u001b[0;32mexcept\u001b[0m \u001b[0mException\u001b[0m \u001b[0;32mas\u001b[0m \u001b[0me\u001b[0m\u001b[0;34m:\u001b[0m\u001b[0;34m\u001b[0m\u001b[0;34m\u001b[0m\u001b[0m\n",
        "\u001b[0;32m/opt/conda/lib/python3.7/site-packages/matplotlib/category.py\u001b[0m in \u001b[0;36mconvert\u001b[0;34m(value, unit, axis)\u001b[0m\n\u001b[1;32m     51\u001b[0m             raise ValueError(\n\u001b[0;32m---> 52\u001b[0;31m                 \u001b[0;34m'Missing category information for StrCategoryConverter; '\u001b[0m\u001b[0;34m\u001b[0m\u001b[0;34m\u001b[0m\u001b[0m\n\u001b[0m\u001b[1;32m     53\u001b[0m                 \u001b[0;34m'this might be caused by unintendedly mixing categorical and '\u001b[0m\u001b[0;34m\u001b[0m\u001b[0;34m\u001b[0m\u001b[0m\n",
        "\u001b[0;31mValueError\u001b[0m: Missing category information for StrCategoryConverter; this might be caused by unintendedly mixing categorical and numeric data",
        "\nThe above exception was the direct cause of the following exception:\n",
        "\u001b[0;31mConversionError\u001b[0m                           Traceback (most recent call last)",
        "\u001b[0;32m<ipython-input-26-9a8930b53ff8>\u001b[0m in \u001b[0;36m<module>\u001b[0;34m\u001b[0m\n\u001b[1;32m      3\u001b[0m \u001b[0mprint\u001b[0m\u001b[0;34m(\u001b[0m\u001b[0msales_by_month\u001b[0m\u001b[0;34m)\u001b[0m\u001b[0;34m\u001b[0m\u001b[0;34m\u001b[0m\u001b[0m\n\u001b[1;32m      4\u001b[0m \u001b[0;34m\u001b[0m\u001b[0m\n\u001b[0;32m----> 5\u001b[0;31m \u001b[0mplot_by_month\u001b[0m \u001b[0;34m=\u001b[0m \u001b[0msales_by_month\u001b[0m\u001b[0;34m.\u001b[0m\u001b[0mplot\u001b[0m\u001b[0;34m(\u001b[0m\u001b[0mtitle\u001b[0m\u001b[0;34m=\u001b[0m\u001b[0;34m'Monthly Sales'\u001b[0m\u001b[0;34m,\u001b[0m\u001b[0mxticks\u001b[0m\u001b[0;34m=\u001b[0m\u001b[0;34m'goods_id'\u001b[0m\u001b[0;34m)\u001b[0m\u001b[0;34m\u001b[0m\u001b[0;34m\u001b[0m\u001b[0m\n\u001b[0m",
        "\u001b[0;32m/opt/conda/lib/python3.7/site-packages/pandas/plotting/_core.py\u001b[0m in \u001b[0;36m__call__\u001b[0;34m(self, *args, **kwargs)\u001b[0m\n\u001b[1;32m    792\u001b[0m                     \u001b[0mdata\u001b[0m\u001b[0;34m.\u001b[0m\u001b[0mcolumns\u001b[0m \u001b[0;34m=\u001b[0m \u001b[0mlabel_name\u001b[0m\u001b[0;34m\u001b[0m\u001b[0;34m\u001b[0m\u001b[0m\n\u001b[1;32m    793\u001b[0m \u001b[0;34m\u001b[0m\u001b[0m\n\u001b[0;32m--> 794\u001b[0;31m         \u001b[0;32mreturn\u001b[0m \u001b[0mplot_backend\u001b[0m\u001b[0;34m.\u001b[0m\u001b[0mplot\u001b[0m\u001b[0;34m(\u001b[0m\u001b[0mdata\u001b[0m\u001b[0;34m,\u001b[0m \u001b[0mkind\u001b[0m\u001b[0;34m=\u001b[0m\u001b[0mkind\u001b[0m\u001b[0;34m,\u001b[0m \u001b[0;34m**\u001b[0m\u001b[0mkwargs\u001b[0m\u001b[0;34m)\u001b[0m\u001b[0;34m\u001b[0m\u001b[0;34m\u001b[0m\u001b[0m\n\u001b[0m\u001b[1;32m    795\u001b[0m \u001b[0;34m\u001b[0m\u001b[0m\n\u001b[1;32m    796\u001b[0m     \u001b[0;32mdef\u001b[0m \u001b[0mline\u001b[0m\u001b[0;34m(\u001b[0m\u001b[0mself\u001b[0m\u001b[0;34m,\u001b[0m \u001b[0mx\u001b[0m\u001b[0;34m=\u001b[0m\u001b[0;32mNone\u001b[0m\u001b[0;34m,\u001b[0m \u001b[0my\u001b[0m\u001b[0;34m=\u001b[0m\u001b[0;32mNone\u001b[0m\u001b[0;34m,\u001b[0m \u001b[0;34m**\u001b[0m\u001b[0mkwargs\u001b[0m\u001b[0;34m)\u001b[0m\u001b[0;34m:\u001b[0m\u001b[0;34m\u001b[0m\u001b[0;34m\u001b[0m\u001b[0m\n",
        "\u001b[0;32m/opt/conda/lib/python3.7/site-packages/pandas/plotting/_matplotlib/__init__.py\u001b[0m in \u001b[0;36mplot\u001b[0;34m(data, kind, **kwargs)\u001b[0m\n\u001b[1;32m     60\u001b[0m             \u001b[0mkwargs\u001b[0m\u001b[0;34m[\u001b[0m\u001b[0;34m\"ax\"\u001b[0m\u001b[0;34m]\u001b[0m \u001b[0;34m=\u001b[0m \u001b[0mgetattr\u001b[0m\u001b[0;34m(\u001b[0m\u001b[0max\u001b[0m\u001b[0;34m,\u001b[0m \u001b[0;34m\"left_ax\"\u001b[0m\u001b[0;34m,\u001b[0m \u001b[0max\u001b[0m\u001b[0;34m)\u001b[0m\u001b[0;34m\u001b[0m\u001b[0;34m\u001b[0m\u001b[0m\n\u001b[1;32m     61\u001b[0m     \u001b[0mplot_obj\u001b[0m \u001b[0;34m=\u001b[0m \u001b[0mPLOT_CLASSES\u001b[0m\u001b[0;34m[\u001b[0m\u001b[0mkind\u001b[0m\u001b[0;34m]\u001b[0m\u001b[0;34m(\u001b[0m\u001b[0mdata\u001b[0m\u001b[0;34m,\u001b[0m \u001b[0;34m**\u001b[0m\u001b[0mkwargs\u001b[0m\u001b[0;34m)\u001b[0m\u001b[0;34m\u001b[0m\u001b[0;34m\u001b[0m\u001b[0m\n\u001b[0;32m---> 62\u001b[0;31m     \u001b[0mplot_obj\u001b[0m\u001b[0;34m.\u001b[0m\u001b[0mgenerate\u001b[0m\u001b[0;34m(\u001b[0m\u001b[0;34m)\u001b[0m\u001b[0;34m\u001b[0m\u001b[0;34m\u001b[0m\u001b[0m\n\u001b[0m\u001b[1;32m     63\u001b[0m     \u001b[0mplot_obj\u001b[0m\u001b[0;34m.\u001b[0m\u001b[0mdraw\u001b[0m\u001b[0;34m(\u001b[0m\u001b[0;34m)\u001b[0m\u001b[0;34m\u001b[0m\u001b[0;34m\u001b[0m\u001b[0m\n\u001b[1;32m     64\u001b[0m     \u001b[0;32mreturn\u001b[0m \u001b[0mplot_obj\u001b[0m\u001b[0;34m.\u001b[0m\u001b[0mresult\u001b[0m\u001b[0;34m\u001b[0m\u001b[0;34m\u001b[0m\u001b[0m\n",
        "\u001b[0;32m/opt/conda/lib/python3.7/site-packages/pandas/plotting/_matplotlib/core.py\u001b[0m in \u001b[0;36mgenerate\u001b[0;34m(self)\u001b[0m\n\u001b[1;32m    282\u001b[0m         \u001b[0mself\u001b[0m\u001b[0;34m.\u001b[0m\u001b[0m_add_table\u001b[0m\u001b[0;34m(\u001b[0m\u001b[0;34m)\u001b[0m\u001b[0;34m\u001b[0m\u001b[0;34m\u001b[0m\u001b[0m\n\u001b[1;32m    283\u001b[0m         \u001b[0mself\u001b[0m\u001b[0;34m.\u001b[0m\u001b[0m_make_legend\u001b[0m\u001b[0;34m(\u001b[0m\u001b[0;34m)\u001b[0m\u001b[0;34m\u001b[0m\u001b[0;34m\u001b[0m\u001b[0m\n\u001b[0;32m--> 284\u001b[0;31m         \u001b[0mself\u001b[0m\u001b[0;34m.\u001b[0m\u001b[0m_adorn_subplots\u001b[0m\u001b[0;34m(\u001b[0m\u001b[0;34m)\u001b[0m\u001b[0;34m\u001b[0m\u001b[0;34m\u001b[0m\u001b[0m\n\u001b[0m\u001b[1;32m    285\u001b[0m \u001b[0;34m\u001b[0m\u001b[0m\n\u001b[1;32m    286\u001b[0m         \u001b[0;32mfor\u001b[0m \u001b[0max\u001b[0m \u001b[0;32min\u001b[0m \u001b[0mself\u001b[0m\u001b[0;34m.\u001b[0m\u001b[0maxes\u001b[0m\u001b[0;34m:\u001b[0m\u001b[0;34m\u001b[0m\u001b[0;34m\u001b[0m\u001b[0m\n",
        "\u001b[0;32m/opt/conda/lib/python3.7/site-packages/pandas/plotting/_matplotlib/core.py\u001b[0m in \u001b[0;36m_adorn_subplots\u001b[0;34m(self)\u001b[0m\n\u001b[1;32m    478\u001b[0m \u001b[0;34m\u001b[0m\u001b[0m\n\u001b[1;32m    479\u001b[0m             \u001b[0;32mif\u001b[0m \u001b[0mself\u001b[0m\u001b[0;34m.\u001b[0m\u001b[0mxticks\u001b[0m \u001b[0;32mis\u001b[0m \u001b[0;32mnot\u001b[0m \u001b[0;32mNone\u001b[0m\u001b[0;34m:\u001b[0m\u001b[0;34m\u001b[0m\u001b[0;34m\u001b[0m\u001b[0m\n\u001b[0;32m--> 480\u001b[0;31m                 \u001b[0max\u001b[0m\u001b[0;34m.\u001b[0m\u001b[0mset_xticks\u001b[0m\u001b[0;34m(\u001b[0m\u001b[0mself\u001b[0m\u001b[0;34m.\u001b[0m\u001b[0mxticks\u001b[0m\u001b[0;34m)\u001b[0m\u001b[0;34m\u001b[0m\u001b[0;34m\u001b[0m\u001b[0m\n\u001b[0m\u001b[1;32m    481\u001b[0m \u001b[0;34m\u001b[0m\u001b[0m\n\u001b[1;32m    482\u001b[0m             \u001b[0;32mif\u001b[0m \u001b[0mself\u001b[0m\u001b[0;34m.\u001b[0m\u001b[0mylim\u001b[0m \u001b[0;32mis\u001b[0m \u001b[0;32mnot\u001b[0m \u001b[0;32mNone\u001b[0m\u001b[0;34m:\u001b[0m\u001b[0;34m\u001b[0m\u001b[0;34m\u001b[0m\u001b[0m\n",
        "\u001b[0;32m/opt/conda/lib/python3.7/site-packages/matplotlib/axes/_base.py\u001b[0m in \u001b[0;36mset_xticks\u001b[0;34m(self, ticks, minor)\u001b[0m\n\u001b[1;32m   3348\u001b[0m             \u001b[0mDefault\u001b[0m \u001b[0;32mis\u001b[0m\u001b[0;31m \u001b[0m\u001b[0;31m`\u001b[0m\u001b[0;31m`\u001b[0m\u001b[0;32mFalse\u001b[0m\u001b[0;31m`\u001b[0m\u001b[0;31m`\u001b[0m\u001b[0;34m.\u001b[0m\u001b[0;34m\u001b[0m\u001b[0;34m\u001b[0m\u001b[0m\n\u001b[1;32m   3349\u001b[0m         \"\"\"\n\u001b[0;32m-> 3350\u001b[0;31m         \u001b[0mret\u001b[0m \u001b[0;34m=\u001b[0m \u001b[0mself\u001b[0m\u001b[0;34m.\u001b[0m\u001b[0mxaxis\u001b[0m\u001b[0;34m.\u001b[0m\u001b[0mset_ticks\u001b[0m\u001b[0;34m(\u001b[0m\u001b[0mticks\u001b[0m\u001b[0;34m,\u001b[0m \u001b[0mminor\u001b[0m\u001b[0;34m=\u001b[0m\u001b[0mminor\u001b[0m\u001b[0;34m)\u001b[0m\u001b[0;34m\u001b[0m\u001b[0;34m\u001b[0m\u001b[0m\n\u001b[0m\u001b[1;32m   3351\u001b[0m         \u001b[0mself\u001b[0m\u001b[0;34m.\u001b[0m\u001b[0mstale\u001b[0m \u001b[0;34m=\u001b[0m \u001b[0;32mTrue\u001b[0m\u001b[0;34m\u001b[0m\u001b[0;34m\u001b[0m\u001b[0m\n\u001b[1;32m   3352\u001b[0m         \u001b[0;32mreturn\u001b[0m \u001b[0mret\u001b[0m\u001b[0;34m\u001b[0m\u001b[0;34m\u001b[0m\u001b[0m\n",
        "\u001b[0;32m/opt/conda/lib/python3.7/site-packages/matplotlib/axis.py\u001b[0m in \u001b[0;36mset_ticks\u001b[0;34m(self, ticks, minor)\u001b[0m\n\u001b[1;32m   1749\u001b[0m         \"\"\"\n\u001b[1;32m   1750\u001b[0m         \u001b[0;31m# XXX if the user changes units, the information will be lost here\u001b[0m\u001b[0;34m\u001b[0m\u001b[0;34m\u001b[0m\u001b[0;34m\u001b[0m\u001b[0m\n\u001b[0;32m-> 1751\u001b[0;31m         \u001b[0mticks\u001b[0m \u001b[0;34m=\u001b[0m \u001b[0mself\u001b[0m\u001b[0;34m.\u001b[0m\u001b[0mconvert_units\u001b[0m\u001b[0;34m(\u001b[0m\u001b[0mticks\u001b[0m\u001b[0;34m)\u001b[0m\u001b[0;34m\u001b[0m\u001b[0;34m\u001b[0m\u001b[0m\n\u001b[0m\u001b[1;32m   1752\u001b[0m         \u001b[0;32mif\u001b[0m \u001b[0mlen\u001b[0m\u001b[0;34m(\u001b[0m\u001b[0mticks\u001b[0m\u001b[0;34m)\u001b[0m \u001b[0;34m>\u001b[0m \u001b[0;36m1\u001b[0m\u001b[0;34m:\u001b[0m\u001b[0;34m\u001b[0m\u001b[0;34m\u001b[0m\u001b[0m\n\u001b[1;32m   1753\u001b[0m             \u001b[0mxleft\u001b[0m\u001b[0;34m,\u001b[0m \u001b[0mxright\u001b[0m \u001b[0;34m=\u001b[0m \u001b[0mself\u001b[0m\u001b[0;34m.\u001b[0m\u001b[0mget_view_interval\u001b[0m\u001b[0;34m(\u001b[0m\u001b[0;34m)\u001b[0m\u001b[0;34m\u001b[0m\u001b[0;34m\u001b[0m\u001b[0m\n",
        "\u001b[0;32m/opt/conda/lib/python3.7/site-packages/matplotlib/axis.py\u001b[0m in \u001b[0;36mconvert_units\u001b[0;34m(self, x)\u001b[0m\n\u001b[1;32m   1551\u001b[0m         \u001b[0;32mexcept\u001b[0m \u001b[0mException\u001b[0m \u001b[0;32mas\u001b[0m \u001b[0me\u001b[0m\u001b[0;34m:\u001b[0m\u001b[0;34m\u001b[0m\u001b[0;34m\u001b[0m\u001b[0m\n\u001b[1;32m   1552\u001b[0m             raise munits.ConversionError('Failed to convert value(s) to axis '\n\u001b[0;32m-> 1553\u001b[0;31m                                          f'units: {x!r}') from e\n\u001b[0m\u001b[1;32m   1554\u001b[0m         \u001b[0;32mreturn\u001b[0m \u001b[0mret\u001b[0m\u001b[0;34m\u001b[0m\u001b[0;34m\u001b[0m\u001b[0m\n\u001b[1;32m   1555\u001b[0m \u001b[0;34m\u001b[0m\u001b[0m\n",
        "\u001b[0;31mConversionError\u001b[0m: Failed to convert value(s) to axis units: 'goods_id'"
       ]
      },
      {
       "data": {
        "image/png": "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\n",
        "text/plain": "<Figure size 432x288 with 1 Axes>"
       },
       "metadata": {
        "needs_background": "light"
       },
       "output_type": "display_data"
      }
     ],
     "persistentId": "77950dce-7827-427f-bf66-a64f2b9180d6",
     "text": "sales_by_month = df.groupby('goods_id').size()\n\nprint(sales_by_month)\n\nplot_by_month = sales_by_month.plot(title='Monthly Sales',xticks='goods_id')"
    },
    "executionTime": "2020-02-26T07:28:14.039Z"
   },
   {
    "cell": {
     "executionCount": 27,
     "executionEventId": "df5512e4-d005-44d7-9e5c-bdfe62dfb1cd",
     "hasError": false,
     "id": "e3892b5a-f7ff-49fb-8fd7-46cd992318ee",
     "outputs": [
      {
       "name": "stdout",
       "output_type": "stream",
       "text": "goods_id\n998     472943\n1008      1972\n1013      7624\n1018     19172\n1023       821\n         ...  \n6653         1\n6658         1\n6663         6\n6668         1\n6673         1\nLength: 1037, dtype: int64\n"
      },
      {
       "data": {
        "image/png": "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\n",
        "text/plain": "<Figure size 432x288 with 1 Axes>"
       },
       "metadata": {
        "needs_background": "light"
       },
       "output_type": "display_data"
      }
     ],
     "persistentId": "77950dce-7827-427f-bf66-a64f2b9180d6",
     "text": "sales_by_month = df.groupby('goods_id').size()\n\nprint(sales_by_month)\n\nplot_by_month = sales_by_month.plot(title='Monthly Sales')"
    },
    "executionTime": "2020-02-26T07:28:25.552Z"
   },
   {
    "cell": {
     "executionCount": 28,
     "executionEventId": "437c484c-4c0b-4a17-b719-fc9059471d4b",
     "hasError": false,
     "id": "e3892b5a-f7ff-49fb-8fd7-46cd992318ee",
     "outputs": [
      {
       "name": "stdout",
       "output_type": "stream",
       "text": "goods_id\n998     472943\n1008      1972\n1013      7624\n1018     19172\n1023       821\n         ...  \n6653         1\n6658         1\n6663         6\n6668         1\n6673         1\nLength: 1037, dtype: int64\n"
      },
      {
       "data": {
        "image/png": "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\n",
        "text/plain": "<Figure size 432x288 with 1 Axes>"
       },
       "metadata": {
        "needs_background": "light"
       },
       "output_type": "display_data"
      }
     ],
     "persistentId": "77950dce-7827-427f-bf66-a64f2b9180d6",
     "text": "sales_by_good_id = df.groupby('goods_id').size()\n\nprint(sales_by_month)\n\nplot_by_good_id = sales_by_good_id.plot(title='Monthly Sales')"
    },
    "executionTime": "2020-02-26T07:29:05.148Z"
   },
   {
    "cell": {
     "executionCount": 29,
     "executionEventId": "6e4b2d23-33e9-420e-8b19-65fff70e694a",
     "hasError": false,
     "id": "e3892b5a-f7ff-49fb-8fd7-46cd992318ee",
     "outputs": [
      {
       "name": "stdout",
       "output_type": "stream",
       "text": "goods_id\n998     472943\n1008      1972\n1013      7624\n1018     19172\n1023       821\n         ...  \n6653         1\n6658         1\n6663         6\n6668         1\n6673         1\nLength: 1037, dtype: int64\n"
      },
      {
       "data": {
        "image/png": "iVBORw0KGgoAAAANSUhEUgAAAYoAAAEXCAYAAACzhgONAAAABHNCSVQICAgIfAhkiAAAAAlwSFlzAAALEgAACxIB0t1+/AAAADh0RVh0U29mdHdhcmUAbWF0cGxvdGxpYiB2ZXJzaW9uMy4xLjMsIGh0dHA6Ly9tYXRwbG90bGliLm9yZy+AADFEAAAgAElEQVR4nO3deZzdVX3/8dd7ZpLJvhESYhJIhCiLC0IaQHFDS8ANW7ENbvlZLNaHbfXX/rSktj9Qf9ba9uFCq1iqaEAFIkpFlEIEEZeQkLCFEEICZN/3mWQymeXz++OemdyZzNyZwNdM5uT9fDzGe+/5fr/nngP4fd9zvpsiAjMzs+5U9XUDzMzs2OagMDOzihwUZmZWkYPCzMwqclCYmVlFDgozM6vIQWFWEEnXSvreUf7O1ZLeejS/044/DgqzPibpQkm/k7RH0k5Jv5X0B33dLrM2NX3dALPjmaQRwF3Ax4B5wEDg9UBjX7bLrJxHFJY9SedIelRSnaQfSrpN0v8rW/7nklalX/N3SnpJ2bLXSno4/dp/WNJry5ZNlfSrVO98YGzZskGSvidph6TdadvxXTTvZQARcUtEtEREQ0TcGxFPpHpOlXR/qme7pO9LGtVNP6skXS3p2bT+PEljjrA9ZodxUFjWJA0E7gC+C4wBbgH+qGz5RcAXgT8BJgBrgFvTsjHAz4DrgBOALwM/k3RC2vwHwBJKAfF5YHbZV88GRgKT07Z/ATR00cRngBZJcyVdKml05y6k9r0EOCPVd2033f1r4N3AG9P6u4CvH2F7zA7joLDcnU9pivW6iGiKiB8Di8qWvx+4MSIeiYhGYA5wgaQpwNuBlRFxc0Q0R8QtwNPAOyWdDPwB8I8R0RgRDwI/Lau3idIO+bQ0UlgSEXs7Ny6VXQgE8F/AtjSqGZ+Wr4qI+ek7tlEKqzd209ePAp+JiPWpL9cCl0uq6W17zLrioLDcvQTYEB3vfrmu0/I1bR8ioh7YAUzsvCxZU7ZsV0Ts67Sszc3APcCtkjZK+hdJA7pqYEQsj4j/FRGTgFekur8KIGmcpFslbZC0F/geZVNcnZwC3JGmlnYDy4EWYPyRtMesMweF5W4TMFGSysoml73fSGkHC4CkoZR+eW/ovCw5OS3bBIxO65cvAyCNXj4bEWcCrwXeAXyop8ZGxNOUpslekYq+SGm08aqIGAF8gNJ0VFfWAZdGxKiyv0ERseGFtscMHBSWvwWUflX/paQaSZcBM8qW/wD4sKSzJdUC/wQsjIjVwM+Bl0l6X9r2T4EzgbsiYg2wGPispIGSLgTe2VappDdLeqWkamAvpamfls6Nk3S6pL+VNCl9ngxcATyUVhkO1AO7JU0EPlWhr98EviDplFTXiam/vW6PWVccFJa1iDgI/DFwJbCb0i/yu0inn0bEfcA/Aj+iNEo4FZiVlu2g9Mv7bylNR30aeEdEbE/Vvw84D9gJXAPcVPbVJwG3U9opLwd+RWnaqLO6VMdCSfsoBcST6TsBPgucA+yhdGD9xxW6+zXgTuBeSXWprvOOsD1mh5EfXGTHG0kLgW9GxHf6ui1m/YFHFJY9SW+UdFKaPpoNvAr4n75ul1l/4Suz7XjwckpXPQ8DngUuj4hNfdsks/7DU09mZlaRp57MzKyi7Kaexo4dG1OmTOnrZpiZ9StLlizZHhEndrUsu6CYMmUKixcv7utmmJn1K5I634WgnaeezMysIgeFmZlV5KAwM7OKHBRmZlaRg8LMzCpyUJiZWUUOCjMzqyi7oNix7yDb6xv7uhlmZtnILig27m5g424/M97MrCjZBYWZmRUry6DwDXHNzIqTZ1D0dQPMzDKSZ1B4SGFmVpgsg8LMzIqTZVB4PGFmVpw8g8JJYWZWmCyDwmMKM7PiZBoUZmZWlCyDwlNPZmbFyTMo+roBZmYZyTMonBRmZoXJNCicFGZmRckyKMzMrDhZBoXHE2ZmxckzKJwUZmaFyTMoPKYwMytMlkFhZmbFyTMoPKAwMytMlkHhnDAzK06eQeGkMDMrTJZBYWZmxckyKHzWk5lZcfIMCueEmVlh8gyKvm6AmVlGsgwKMzMrTpZB4bvHmpkVp9dBIala0qOS7kqfx0iaL2lleh1dtu4cSaskrZA0s6z8XElL07LrJCmV10q6LZUvlDSlbJvZ6TtWSprdm7Y6JszMinMkI4pPAMvLPl8N3BcR04D70mcknQnMAs4CLgG+Iak6bXM9cBUwLf1dksqvBHZFxGnAV4AvpbrGANcA5wEzgGvKA6lbTgozs8L0KigkTQLeDnyrrPgyYG56Pxd4d1n5rRHRGBHPA6uAGZImACMiYkGU5oZu6rRNW123A29Jo42ZwPyI2BkRu4D5HAqXbvn0WDOz4vR2RPFV4NNAa1nZ+IjYBJBex6XyicC6svXWp7KJ6X3n8g7bREQzsAc4oUJdHUi6StJiSYt72R8zM+ulHoNC0juArRGxpJd1qouyqFD+Qrc5VBBxQ0RMj4jppc+9bKmZmfWoNyOK1wHvkrQauBW4SNL3gC1pOon0ujWtvx6YXLb9JGBjKp/URXmHbSTVACOBnRXqqshBYWZWnB6DIiLmRMSkiJhC6SD1/RHxAeBOoO0spNnAT9L7O4FZ6UymqZQOWi9K01N1ks5Pxx8+1GmbtrouT98RwD3AxZJGp4PYF6eyym3uaQUzM+u1mhex7T8D8yRdCawF3gsQEcskzQOeApqBj0dES9rmY8B3gcHA3ekP4NvAzZJWURpJzEp17ZT0eeDhtN7nImLni2izmZkdIeV2cVrthGnx01/8movPOqmvm2Jm1m9IWtJ2nLezPK/M7usGmJllJM+gcFKYmRUmy6AwM7PiZBoUHlKYmRUly6Dw1JOZWXHyDIq+boCZWUayDAozMytOlkHhqSczs+LkGRSefDIzK0yeQeGcMDMrTJZBYWZmxckyKDygMDMrTp5B4bknM7PCZBkUZmZWnCyDwgMKM7PiZBkUZmZWnCyDwtdRmJkVJ8+gcE6YmRXGQWFmZhVlGRRmZlacLIPCAwozs+LkGRSeezIzK0yeQdHXDTAzy0iWQWFmZsXJMyg8pDAzK0yWQeEL7szMipNnUDgnzMwKk2VQmJlZcbIMCg8ozMyKk2dQOCnMzAqTZ1B4TGFmVpg8g8I5YWZWmB6DQtIgSYskPS5pmaTPpvIxkuZLWpleR5dtM0fSKkkrJM0sKz9X0tK07DpJSuW1km5L5QslTSnbZnb6jpWSZhfZeTMz61lvRhSNwEUR8WrgbOASSecDVwP3RcQ04L70GUlnArOAs4BLgG9Iqk51XQ9cBUxLf5ek8iuBXRFxGvAV4EuprjHANcB5wAzgmvJA6o4HFGZmxekxKKKkPn0ckP4CuAyYm8rnAu9O7y8Dbo2Ixoh4HlgFzJA0ARgREQuidNe+mzpt01bX7cBb0mhjJjA/InZGxC5gPofCpVKje1zFzMx6p1fHKCRVS3oM2Eppx70QGB8RmwDS67i0+kRgXdnm61PZxPS+c3mHbSKiGdgDnFChroocE2ZmxelVUERES0ScDUyiNDp4RYXV1VUVFcpf6DaHvlC6StJiSYsrtMvMzF6AIzrrKSJ2Aw9Qmv7ZkqaTSK9b02rrgcllm00CNqbySV2Ud9hGUg0wEthZoa7O7bohIqZHxPTS5yPplZmZVdKbs55OlDQqvR8MvBV4GrgTaDsLaTbwk/T+TmBWOpNpKqWD1ovS9FSdpPPT8YcPddqmra7LgfvTcYx7gIsljU4HsS9OZRX5wUVmZsWp6cU6E4C56cylKmBeRNwlaQEwT9KVwFrgvQARsUzSPOApoBn4eES0pLo+BnwXGAzcnf4Avg3cLGkVpZHErFTXTkmfBx5O630uInb21GDHhJlZcZTbr+/aCdPim7ffy4dfN7Wvm2Jm1m9IWtI2fd+Zr8w2M7OK8gyKvm6AmVlG8gwKDynMzAqTZVCYmVlxHBRmZlZRlkHhmSczs+LkGRQ+nG1mVpg8g8I5YWZWmCyDwszMipNlUHhAYWZWnDyDwklhZlaYPIPCYwozs8JkGRRmZlacLIPCU09mZsXJMijMzKw4WQaFbwpoZlacLIPCzMyKk2VQeEBhZlacPIOirxtgZpaRPIPCSWFmVpgsg8LMzIqTZVD4ymwzs+LkGRTOCTOzwuQZFH3dADOzjGQZFB5SmJkVJ8+gMDOzwmQZFB5PmJkVJ8+gcFKYmRUmz6DwmMLMrDDZBYX6ugFmZpnJLijAU09mZkXKMyj6ugFmZhnJMyicFGZmhekxKCRNlvRLScslLZP0iVQ+RtJ8SSvT6+iybeZIWiVphaSZZeXnSlqall0nSam8VtJtqXyhpCll28xO37FS0uwiO29mZj3rzYiiGfjbiDgDOB/4uKQzgauB+yJiGnBf+kxaNgs4C7gE+Iak6lTX9cBVwLT0d0kqvxLYFRGnAV8BvpTqGgNcA5wHzACuKQ+k7visJzOz4vQYFBGxKSIeSe/rgOXAROAyYG5abS7w7vT+MuDWiGiMiOeBVcAMSROAERGxIEoPtb6p0zZtdd0OvCWNNmYC8yNiZ0TsAuZzKFwqNLrHNczMrJeO6BhFmhJ6DbAQGB8Rm6AUJsC4tNpEYF3ZZutT2cT0vnN5h20iohnYA5xQoa7O7bpK0mJJi8E5YWZWpF4HhaRhwI+AT0bE3kqrdlEWFcpf6DaHCiJuiIjpETE9HfYwM7OC9CooJA2gFBLfj4gfp+ItaTqJ9Lo1la8HJpdtPgnYmMondVHeYRtJNcBIYGeFuioKn/ZkZlaY3pz1JODbwPKI+HLZojuBtrOQZgM/KSuflc5kmkrpoPWiND1VJ+n8VOeHOm3TVtflwP3pOMY9wMWSRqeD2BensoqcE2ZmxanpxTqvAz4ILJX0WCr7e+CfgXmSrgTWAu8FiIhlkuYBT1E6Y+rjEdGStvsY8F1gMHB3+oNSEN0saRWlkcSsVNdOSZ8HHk7rfS4idvbUYOeEmVlxlNs0zeCXvCzm/Od/83/feWZfN8XMrN+QtCQipne1LMsrs83MrDhZBoUvuDMzK06eQeGcMDMrTHZB4asozMyKlV1QmJlZsbIMiojg+e372Hugqa+bYmbW7+UXFCpdR/Hmf3uAy6//XV+3xsys38svKDh0MPuZLfV92xAzswxkGRRmZlacLIPC11GYmRUnu6AQvo7CzKxI2QUF+KaAZmZFyjIozMysOFkGhaeezMyKk2VQePLJzKw4WQaFRxRmZsVxUJiZWUVZBoWZmRUnu6AQ8gV3ZmYFyi4okKeezMyKlF9Q4HOezMyKlGVQtHpIYWZWmCyDwkMKM7PiZBkUHlGYmRUn06Do6xaYmeUju6AQHlGYmRUpu6AAH6IwMytSnkHhEYWZWWGyDIrW1r5ugZlZPvIMCo8ozMwKk2lQ9HULzMzykV9QyMcozMyKlF1Q+PRYM7Ni9RgUkm6UtFXSk2VlYyTNl7QyvY4uWzZH0ipJKyTNLCs/V9LStOw6SUrltZJuS+ULJU0p22Z2+o6Vkmb3tlOeejIzK05vRhTfBS7pVHY1cF9ETAPuS5+RdCYwCzgrbfMNSdVpm+uBq4Bp6a+tziuBXRFxGvAV4EuprjHANcB5wAzgmvJAqsQjCjOz4vQYFBHxILCzU/FlwNz0fi7w7rLyWyOiMSKeB1YBMyRNAEZExIIoHUC4qdM2bXXdDrwljTZmAvMjYmdE7ALmc3hgmZnZ79kLPUYxPiI2AaTXcal8IrCubL31qWxiet+5vMM2EdEM7AFOqFDXYSRdJWmxpMUtLS0eUZiZFajog9nqoiwqlL/QbToWRtwQEdMjYnp1dbUvuDMzK9ALDYotaTqJ9Lo1la8HJpetNwnYmMondVHeYRtJNcBISlNd3dXVI48ozMyK80KD4k6g7Syk2cBPyspnpTOZplI6aL0oTU/VSTo/HX/4UKdt2uq6HLg/Hce4B7hY0uh0EPviVNajomLiM3csZcrVPyuoNjOz/qmmpxUk3QK8CRgraT2lM5H+GZgn6UpgLfBegIhYJmke8BTQDHw8IlpSVR+jdAbVYODu9AfwbeBmSasojSRmpbp2Svo88HBa73MR0fmg+uHtRYVdcPf9hWsLqcfMrD/rMSgi4opuFr2lm/W/AHyhi/LFwCu6KD9ACpoult0I3NhTGzvzdRRmZsXJ7sps8DEKM7MiZRkUzgkzs+LkFxS/h5sC+iaDZnY8yy8oKP4YRYsPepjZcSzToCh2x+6cMLPjWZZBUfRMkQ+Om9nxLLug+H08j8I5YWbHs+yCAooPipay+l792Xv5k28uKLR+M7NjWaZBUXR9hyrc09DEotU9XiBuZpaNLIOi8NNjfTdaMzuOZRoUvV0vuGfZ5h5Pf600lfXrldt45bX3UN/YfCRNNDPrN7IMit4eo/ifJzfz0ZuXcMODz1Vcr6VCff927zPUHWhm5Za6I2qjmVl/kWlQdL+svrGZJWtKxxi21TcCsGH3/h7q82lPZnb8yi4opI479p8+3vFZR399y6O85/oF7N5/kNKjMXo++F0xJxwiZpa57IICOu67/+qWR9l7oKn989INewBobG5tf9ZqT/t6jyjM7HiWaVB03LG3tBz63BYOW/YeQO1P5a4cBL7Xk5kdz7IMis779a528+/6j9+y4NkdpeU95MCWvQe6X3gobczMspRpUHTc8ze3HLoQony/vnzTXqDnoHjP9QtYtbW+sPaZmfUnWQZF5/1+c2v51NOhpBhQXZXW73lqad3Obs6M8vELM8tcdkEhDj9G0Vx+jKJsRFFd1buzntorNjM7DmUXFKDDdvxNrV3fg6N9RNGLoNhe11hxuc+MMrNcZRgUXR2jOPysJ4AB1aVPvZl6+tTtT1Rc3uL7QZlZprIMis4/7pu62YtXHeEZS5VuNuhTaM0sV1kGRWunnXb5Tlxl4VCTRhS9GFAcVs9h3+mpJzPLVJ5B0Wmn/YWfL+9yvbYdf2938ZVuDugRhZnlKtOg6Ph50fOlmwCu2bGPDbsb2ssPNrem9Xu3k+/mmDhwfAbFQ8/t6HZaz8zykWVQdHdw+o3/+kCHz40pKJau38NvV23ni92MPNo0d0qKTXsaeHx96d5Rx1tQPLJ2F7NueIgvz3/mRdf1mTuW8v2FawpolZn9PtT0dQN+Hw40Hf4rt6sD0W0jiue27+P931oIwNWXnt7hOEa5ziOKi7/8YPv7StNSL1R9YzODaqqoqT728nxbOl24iOdwfH/hWgDef94pL7ouMyvesbcHepH2Hez6SXPX3LnssLK2EUVPZW06h0Fd2VPtOh9AL8IrrrmHv/3h44XXWwR18c7M8pRdUHTnpgWHT22s7eK2HHUHmrnj0fV8+vbDd9Dl00t7Gpo6LnsRI4qmllb++9ENHcKm7f5UP3lsY3ebmZkdFcdFUAwf1PsZto27G/jftz3OvMXrD1vWdhNBgG/+6tkOyzofo3jouR383e1PVLz2os31DzzLJ297jHuWbW4v29/UUnGbltZgytU/46u/ePHHCF6cFzeS6s0/HzPrW8dFUNQd6Ho6qiuXff233S770I2L2t93DobWCH63ajt79pdGGrNueIjbFq/jTf/2AFsr3aYcWLG5NM9fPu3VcLByUNSlhzF99RcrOdDUwru//ltm3bCg4jZFKuq6kUpTfeXqDjTxpn/9JY+s3VXI95pZ7x0XQXE0bKtr5H3fWnjYMYU1O/Yzb/G6itvubjgIdLxh4f4egqJ86uvzdz3FY+t289BzO4/aL/TOO/iv/3IVv165rcftttYd4Mn0lEHoORC31h2gpTV4ZO1uVu/Yz5fvfYYbf/O8z5IyO4r6RVBIukTSCkmrJF19JNuePGYIw2p//yd3PbmhNC31/PbDn1uxekc3tygHntlSx8bdpRFH+cjnk7c91v5+a11p+cbdDdy6aC1PbtjDP5WdyvtM2ZlH77n+d8z93WoWPb+Tt33t11z6tV/T2hrc8OCzlR/A1AsHm1t5dO0u/s8PH29vc3Nr8NTGvfzrPSv44LcXsa+xuf1ssjb1jc1ce+cydu8/yDuu+w3v+PffAPDkhj0drmtZsmYn1965jLuXbuJAUwub9jQw4wv38enbn2B2Gs1VV4nP3fUUn7njyV63++u/XMUT63e/oD63tgZzfvwENz90eDA1tbRy66K1HZ53cqCphf+4f2WPAWjWn+hYnyOWVA08A/whsB54GLgiIp7qav3aCdNiwuyvtn8+5YQhjBtey8Orj86UxfRTRvPBC07hE7ce2tFPGDmIWX9wMnc/uYnzpo7h2nedxY59B1m5pZ4r/uuh9vXe9sqT+Pr7zqGpJXjZP9zdod5/ePsZzF2wmnU7GzhScy49nS/e/XT7d/x86WY+87Yz+Mjrp7Js415eNn44A2uqWL5pL5NGD2ZYbQ0NTS188edP8+HXTWH0kIH8csVW/mZe787Aes3Jo3j9aWP5o3MmMXXsUOY9vI5P/+gJrphxMrcsWnvE7S930enjuP/pre2fH/zUm5kwahDPbKlj1JCB/PncxezY18hH33Aqv3pmG6899QS+ePfTDKut4T8/eC5PbtjDqCEDuPzcyTy8eicbdzfw7rMnUlUl9jU2808/X84VM07mtHHDWLNjP82trbz9ulKw/cPbz+DycycxfNAAGptbuO3hdXz2p0/xVxedxqghA/mT6ZP40ZL1XPvTp/jUzJfz8Tef9qL62toaVFWJxuYWBlZXdXvadkQgif0HmxkyMMsz3u0okLQkIqZ3uawfBMUFwLURMTN9ngMQEV/sav2J014RA97zpfbPH7lwKmt37ufep7Z0WG/Opadz04I1HX7RthlYU3XYr+IiDR9UU/G4SXWVjsoFfOXfM3HU4PZ/FoMGVHW4FqVKvXxmRxcmjR7M+l1HHm5H07DaGgYNqGZ7/aFbyddUqcMDrzqTer49/RkTRlCl0s0nG5paaG0NWqN0OWiVRN2BZkYNGcCA6ipEaYRSn0ZkbVN7p544lOWb6xg5eAAtrcH4EYOoSaFW39jMhJGDWLm1nhGDBrB57wFOGzeMltag7kATE0YOpkpQW1PN/qZmBqbrcVqj1P4qifr032FVlVi5pY6TRg7ixOG1RJRGR0Nra6ipEhGl41Klv1I4NTa3UiWV7sIsUVtdRUtE+/RnW7C1xZsE+xpbGDSgipaAapX+G2yN0jG/SHW3ta26SlRLtKTvhdI/8yqVHhHQlps9/XvonK9tDy8Lgoiy0zGiY1lbP9r+fbXdbfpIqcIp5MfSk5RvueqCboOiP/z8mAiUT/KvB84rX0HSVcBVACeffDL/88nX09wSNDS1cM7Jo3l2Wz1DBlYzdewwxgwdwFvPHM+EkYO54ryTWbmlnnHDa2lsbmHR87vY09DEx950Kht2N/CXP3iEOZeewfgRtXznt6u5YsbJPLVpD6+cOJK7l27mzaeP445HN/CpmS/nnmWbmTByMLc+vJZlG/YyeGA1Lxs/jD888yT+69fPsbehicbmVhoOtnDhtLE8t62eR9bu5tWTRnLrVRewftd+blqwhlVb6xkzdCCPrt3F4IHVTBs3nF+v3MbwQQM4e/Iodu4/yIrNdVx0+jj2NDSxesc+pp8ymjFDa3lgxVae3lzH6ScNZ/PeA7x07FBqqqtY9PxOPvqGlzJm6EBufmgNE9LOYE9DE0vW7OLtr3wJW+sOcKCphcljhjBi8AB27mtkb0MzLz9pOBHB9vqD7Nx3kMbmFrbsbWTowGoue81E6g4085uV29i1v4mLzxzPhJGD2F5/kJ8t3cSrJ4/ixGG1nH7SCAYNqGJAdRWTRw9mW/1Bfrh4HVPGDmXV1npmnjWe57fvY82O/bxs/HCmjR/GzLNOouFgCyMHD+CBFVsZNWQgATyyZhfVVeKlJw7l3mVbaGpp5YJTT2DF5jpWba3nzy6cyorNdew90MSja3czbdwwXnvqCSzfVMcTG3YzdewwThpRy7pdDazaWs+rJo1k0IBqqgQNB5sZWlvD2ZNHsXbnfjbsbuCtZ4zntHHDeGZLHQOrq9i1/yDrdzVQUy1OHFbLL1ds49QTh9LcGkwbNwwo7cTHjahl/8GW9p0flHaKQwZWA6Ud5rDaanY3NNFwsIWBNVUMHVjDsEE1HGxuZdf+g+yoP8ioIQMZNXgAJwyrZeywgbRGUFtTzQnDBlItcbCllcmjhzBycCkoRg8ZwAlDaxk+qIat6aLIxuYWThxWy8GWVoQ67GCHDKxGEhHB6CFj2HugqX2qdlhtDa0RNLcG1VViQJWokpDUHoBtYdraGjS1tDKopooqqX3n3XaXhLbPY4fX0NzSSk11VXtwVklUVZXqFKUdc0ta1tIa1Kiq/SFjbXUdbGklWmlPoe72t0GnIIn2/2nfUKQdtkCUAkiiwz+rltao+MOhW52/r8OiY/tHern+MKJ4LzAzIj6SPn8QmBERf9XV+tOnT4/FixcfzSaamfV7laae+sPB7PXA5LLPkwBfhWZmdpT0h6B4GJgmaaqkgcAs4M4+bpOZ2XHjmD9GERHNkv4SuAeoBm6MiMNv3GRmZr8Xx3xQAETEz4Gf93U7zMyOR/1h6snMzPqQg8LMzCpyUJiZWUUOCjMzq+iYv+DuSEnaBuwDtvd1W46SsbivOXJf83Qs9/WUiDixqwXZBQWApMXdXWGYG/c1T+5rnvprXz31ZGZmFTkozMysolyD4oa+bsBR5L7myX3NU7/sa5bHKMzMrDi5jijMzKwgDgozM6uoXwSFpBslbZX0ZFnZGEnzJa1Mr6PLls2RtErSCkkzy8rPlbQ0LbtO3T2EuA9Jmizpl5KWS1om6ROpPLv+ShokaZGkx1NfP5vKs+srlJ7/LulRSXelz1n2E0DS6tTOxyQtTmVZ9lfSKEm3S3o6/f/2guz6GukZt8fyH/AG4BzgybKyfwGuTu+vBr6U3p8JPA7UAlOBZ4HqtGwRcAGlpx/eDVza133roq8TgHPS++HAM6lP2fU3tWtYej8AWAicn2NfUxv/BvgBcFfO/w2ndq4GxnYqy7K/wFzgI+n9QGBUbn3t8wYcwb+MKXQMihXAhPR+ArAivZ8DzClb7570D38C8HRZ+RXAf/Z1v3rR758Af5h7f4EhwCOUnoeeXcNm2QMAAARKSURBVF8pPZnxPuAiDgVFdv0sa9tqDg+K7PoLjACeJ50YlGtf+8XUUzfGR8QmgPQ6LpVPBNaVrbc+lU1M7zuXH7MkTQFeQ+mXdpb9TdMxjwFbgfkRkWtfvwp8GmgtK8uxn20CuFfSEklXpbIc+/tSYBvwnTSt+C1JQ8msr/05KLrT1bxeVCg/JkkaBvwI+GRE7K20ahdl/aa/EdESEWdT+sU9Q9IrKqzeL/sq6R3A1ohY0ttNuig75vvZyesi4hzgUuDjkt5QYd3+3N8aStPi10fEayjdZ+7qCuv3y77256DYImkCQHrdmsrXA5PL1psEbEzlk7ooP+ZIGkApJL4fET9Oxdn2FyAidgMPAJeQX19fB7xL0mrgVuAiSd8jv362i4iN6XUrcAcwgzz7ux5Yn0bCALdTCo6s+tqfg+JOYHZ6P5vSXH5b+SxJtZKmAtOARWn4Vyfp/HQ2wYfKtjlmpLZ9G1geEV8uW5RdfyWdKGlUej8YeCvwNJn1NSLmRMSkiJgCzALuj4gPkFk/20gaKml423vgYuBJMuxvRGwG1kl6eSp6C/AUufW1rw+S9PKA0S3AJqCJUvJeCZxA6eDgyvQ6pmz9z1A6m2AFZWcOANMp/Qf7LPAfdDoAdSz8ARdSGnI+ATyW/t6WY3+BVwGPpr4+CfzfVJ5dX8va+SYOHczOsp+U5u0fT3/LgM9k3t+zgcXpv+P/Bkbn1lffwsPMzCrqz1NPZmZ2FDgozMysIgeFmZlV5KAwM7OKHBRmZlaRg8LMzCpyUJgdJZKmqOxW+Uew3e+6Kf+upMtffMvMKnNQmB3jIuK1fd0GO77V9HUDzI5Vkv4ReD+lu31uB5YAvwC+Sem26M8CfxYRuySd3U35ucCNwH7gN2V1nwV8h9LzC6qA90TEym7aUR8Rw9KtHf6d0q3Kn6frG8mZFc4jCrMuSJoOvIfSbd7/mNLtFQBuAv4uIl4FLAWu6aH8O8BfR8QFnb7iL4CvRenOudPpeIvp7vwR8HLglcCfAx5p2FHhoDDr2oXATyKiISLqgJ8CQ4FREfGrtM5c4A2SRvay/Oay+hcAfy/p74BTIqKhF216A3BLlG7NvhG4/0X10KyXHBRmXStiWkd080yBiPgB8C6gAbhH0kW9rNM3Z7OjzkFh1rXfAO+UNCg9ROrtlB5Ks0vS69M6HwR+FRF7uinfDeyRdGEqf39b5ZJeCjwXEddRuvX0q3rRpgcp3aK6Oj3j4M0vso9mveKD2WZdiIiHJd1J6VbZayjdRnoPpWcLfFPSEOA54MNpk+7KPwzcKGk/pecjt/lT4AOSmoDNwOd60aw7KB3IXgo8A/yq8upmxfBtxs26IWlYRNSnnf+DwFUR8Uhft8vsaPOIwqx7N0g6ExgEzHVI2PHKIwqzY4CktieidfaWiNhxtNtjVs5BYWZmFfmsJzMzq8hBYWZmFTkozMysIgeFmZlV9P8BxAFYTZCtC/UAAAAASUVORK5CYII=\n",
        "text/plain": "<Figure size 432x288 with 1 Axes>"
       },
       "metadata": {
        "needs_background": "light"
       },
       "output_type": "display_data"
      }
     ],
     "persistentId": "77950dce-7827-427f-bf66-a64f2b9180d6",
     "text": "sales_by_good_id = df.groupby('goods_id').size()\n\nprint(sales_by_month)\n\nplot_by_good_id = sales_by_good_id.plot(title='goods Sales')"
    },
    "executionTime": "2020-02-26T07:29:17.943Z"
   }
  ],
  "kernelspec": {
   "display_name": "Python 3",
   "language": "python",
   "name": "python3"
  },
  "language_info": {
   "codemirror_mode": {
    "name": "ipython",
    "version": 3
   },
   "file_extension": ".py",
   "mimetype": "text/x-python",
   "name": "python",
   "nbconvert_exporter": "python",
   "pygments_lexer": "ipython3",
   "version": "3.7.6"
  },
  "uuid": "7dd4c2bd-e28b-4937-985f-0bd4500ca404"
 },
 "nbformat": 4,
 "nbformat_minor": 4
}
